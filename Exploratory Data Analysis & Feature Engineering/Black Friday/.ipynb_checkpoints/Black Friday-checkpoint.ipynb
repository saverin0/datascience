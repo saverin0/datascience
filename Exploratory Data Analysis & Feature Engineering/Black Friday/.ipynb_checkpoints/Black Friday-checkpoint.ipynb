{
 "cells": [
  {
   "cell_type": "code",
   "execution_count": 1,
   "id": "0a76de92-3204-4662-8f19-ab0e5dc3d6de",
   "metadata": {},
   "outputs": [],
   "source": [
    "## dataset link: https://www.kaggle.com/sdolezel/black-friday?select=train.csv\n",
    "import pandas as pd\n",
    "import numpy as np\n",
    "import matplotlib.pyplot as plt\n",
    "import seaborn as sns\n",
    "%matplotlib inline"
   ]
  },
  {
   "cell_type": "code",
   "execution_count": 2,
   "id": "79423730-7dc3-4641-beff-7e165323875a",
   "metadata": {},
   "outputs": [],
   "source": [
    "# import kagglehub\n",
    "\n",
    "# # Download latest version\n",
    "# path = kagglehub.dataset_download(\"sdolezel/black-friday\")\n",
    "\n",
    "# print(\"Path to dataset files:\", path)"
   ]
  },
  {
   "cell_type": "markdown",
   "id": "a71b6ef9-6748-4c35-8492-e00d45dc0d8c",
   "metadata": {},
   "source": [
    "# Problem Statement\n",
    "A retail company “ABC Private Limited” wants to understand the customer purchase behaviour (specifically, purchase amount) against various products of different categories. They have shared purchase summary of various customers for selected high volume products from last month.\n",
    "The data set also contains customer demographics (age, gender, marital status, city_type, stay_in_current_city), product details (product_id and product category) and Total purchase_amount from last month.\n",
    "\n",
    "Now, they want to build a model to predict the purchase amount of customer against various products which will help them to create personalized offer for customers against different products."
   ]
  },
  {
   "cell_type": "code",
   "execution_count": null,
   "id": "e44790fd-0fe9-4b45-9a38-a7615b2f58a0",
   "metadata": {},
   "outputs": [],
   "source": [
    "!pip install --upgrade kagglehub"
   ]
  },
  {
   "cell_type": "code",
   "execution_count": null,
   "id": "60b53454-39b8-479d-93b8-d01ec6ef799f",
   "metadata": {},
   "outputs": [],
   "source": [
    "#importing the dataset\n",
    "df_train=pd.read_csv('train.csv')\n",
    "df_train.head()"
   ]
  },
  {
   "cell_type": "code",
   "execution_count": null,
   "id": "769c7e14-8321-4bbd-9fef-811ef406a3f5",
   "metadata": {},
   "outputs": [],
   "source": [
    "##  import the test data\n",
    "df_test=pd.read_csv('test.csv')\n",
    "df_test.head()"
   ]
  },
  {
   "cell_type": "code",
   "execution_count": null,
   "id": "1d94195a-ec81-43ab-a9c7-898fe23b54d0",
   "metadata": {},
   "outputs": [],
   "source": [
    "##MErge both train and test data\n",
    "df = pd.concat([df_train, df_test], ignore_index=True)\n",
    "df.head()"
   ]
  },
  {
   "cell_type": "code",
   "execution_count": null,
   "id": "c96fa40f-a8e8-48b1-a817-b93bb72dbc8c",
   "metadata": {},
   "outputs": [],
   "source": [
    "df.info()"
   ]
  },
  {
   "cell_type": "code",
   "execution_count": null,
   "id": "7c4d732a-07bf-40de-bc54-5d6386087682",
   "metadata": {},
   "outputs": [],
   "source": [
    "df.describe()"
   ]
  },
  {
   "cell_type": "code",
   "execution_count": null,
   "id": "6096f425-2e75-4d2f-9461-43b49f228cc4",
   "metadata": {},
   "outputs": [],
   "source": [
    "df.drop(['User_ID'],axis=1,inplace=True)"
   ]
  },
  {
   "cell_type": "code",
   "execution_count": null,
   "id": "5ac5d6ad-fabb-4584-a517-27d7722067c5",
   "metadata": {},
   "outputs": [],
   "source": [
    "df.head()"
   ]
  },
  {
   "cell_type": "code",
   "execution_count": null,
   "id": "88ca4155-b733-4fee-b970-1deeebe6b3a1",
   "metadata": {},
   "outputs": [],
   "source": [
    "pd.get_dummies(df['Gender'],drop_first=1,dtype=int)"
   ]
  },
  {
   "cell_type": "code",
   "execution_count": null,
   "id": "3078b589-aa8f-470e-8209-7db50255a768",
   "metadata": {},
   "outputs": [],
   "source": [
    "# #Handling categorical feature Gender\n",
    "df['Gender']=df['Gender'].map({'F':0,'M':1})"
   ]
  },
  {
   "cell_type": "code",
   "execution_count": null,
   "id": "5db28adf-bac6-4c04-8eb3-bbb9ca3da7cc",
   "metadata": {},
   "outputs": [],
   "source": [
    "df.head()"
   ]
  },
  {
   "cell_type": "code",
   "execution_count": null,
   "id": "ef74b149-720a-4199-a94c-2100d0ada8b9",
   "metadata": {},
   "outputs": [],
   "source": [
    "df['Age'].unique()"
   ]
  },
  {
   "cell_type": "code",
   "execution_count": null,
   "id": "2b39f10f-0b71-4dc2-8c7c-8545db005cf1",
   "metadata": {},
   "outputs": [],
   "source": [
    "#pd.get_dummies(df['Age'],drop_first=True)\n",
    "df['Age']=df['Age'].map({'0-17':1,'18-25':2,'26-35':3,'36-45':4,'46-50':5,'51-55':6,'55+':7})"
   ]
  },
  {
   "cell_type": "code",
   "execution_count": null,
   "id": "5db1f830-07dc-4fef-b0af-4b03ef73408a",
   "metadata": {},
   "outputs": [],
   "source": [
    "df.head()"
   ]
  },
  {
   "cell_type": "raw",
   "id": "8422e585-27e0-4d60-8a94-fdc78999db8e",
   "metadata": {},
   "source": [
    "##second technqiue\n",
    "from sklearn import preprocessing\n",
    " \n",
    "# label_encoder object knows how to understand word labels.\n",
    "label_encoder = preprocessing.LabelEncoder()\n",
    " \n",
    "# Encode labels in column 'species'.\n",
    "df['Age']= label_encoder.fit_transform(df['Age'])\n",
    " \n",
    "df['Age'].unique()"
   ]
  },
  {
   "cell_type": "code",
   "execution_count": null,
   "id": "7baee6da-fbcd-410d-926a-41bde7dc8cd8",
   "metadata": {},
   "outputs": [],
   "source": [
    "df.head()"
   ]
  },
  {
   "cell_type": "code",
   "execution_count": null,
   "id": "9c56ed92-0ecb-4ef8-b4e5-789618da5754",
   "metadata": {},
   "outputs": [],
   "source": [
    "#fixing categorical CIty_Category\n",
    "df_city=pd.get_dummies(df['City_Category'],drop_first=True)"
   ]
  },
  {
   "cell_type": "code",
   "execution_count": null,
   "id": "9aa51605-7e1d-451b-9fd8-df7cb7fbd05e",
   "metadata": {},
   "outputs": [],
   "source": []
  }
 ],
 "metadata": {
  "kernelspec": {
   "display_name": "Python 3 (ipykernel)",
   "language": "python",
   "name": "python3"
  },
  "language_info": {
   "codemirror_mode": {
    "name": "ipython",
    "version": 3
   },
   "file_extension": ".py",
   "mimetype": "text/x-python",
   "name": "python",
   "nbconvert_exporter": "python",
   "pygments_lexer": "ipython3",
   "version": "3.12.4"
  }
 },
 "nbformat": 4,
 "nbformat_minor": 5
}
