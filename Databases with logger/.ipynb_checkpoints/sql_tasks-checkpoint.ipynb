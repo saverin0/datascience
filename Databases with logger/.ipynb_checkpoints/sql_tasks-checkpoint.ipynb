{
 "cells": [
  {
   "cell_type": "code",
   "execution_count": 1,
   "id": "e2b998f4-7690-477e-897c-a480c5ec9334",
   "metadata": {},
   "outputs": [
    {
     "name": "stdout",
     "output_type": "stream",
     "text": [
      "Requirement already satisfied: mysql-connector-python in c:\\users\\abres\\anaconda3\\lib\\site-packages (9.0.0)\n",
      "Note: you may need to restart the kernel to use updated packages.\n"
     ]
    }
   ],
   "source": [
    "pip install mysql-connector-python"
   ]
  },
  {
   "cell_type": "code",
   "execution_count": 93,
   "id": "263e924b-fc13-47da-a5fd-4f87ace4b2c4",
   "metadata": {},
   "outputs": [],
   "source": [
    "import mysql.connector\n",
    "from mysql.connector import Error\n",
    "from contextlib import contextmanager\n",
    "import logging\n",
    "logging.basicConfig(filename = 'logger.log', level = logging.DEBUG, filemode = 'w', format = \"%(asctime)s %(levelname)s %(message)s\")\n",
    "\n",
    "\n",
    "class MySQLDatabase:\n",
    "    def __init__(self,user,password, port,host,database =None):\n",
    "        self.user = user\n",
    "        self.password = password\n",
    "        self.port = port\n",
    "        self.host = host\n",
    "        self.database = database\n",
    "        self.connection = None\n",
    "\n",
    "    def connect_to_mysql(self):\n",
    "        \"\"\" Establising the connection to the MYSQL server \"\"\"\n",
    "        try:\n",
    "            self.connection = mysql.connector.connect(\n",
    "                host = self.host,\n",
    "                port = self.port,\n",
    "                user = self.user,\n",
    "                password = self.password\n",
    "            )\n",
    "            if self.connection.is_connected():\n",
    "                logging.info(\"successfully connected to mysql server\")\n",
    "                print(\"successfully connected to mysql server\")\n",
    "        except Error as e:\n",
    "            logging.exception(f\"Error: {e} occurred while connecting to mysql. \")\n",
    "            print (f\"Error: {e}\")  \n",
    "\n",
    "    @contextmanager\n",
    "    def get_cursor(self, dictionary=False):\n",
    "        \"\"\"Context manager to get a cursor and ensure it is closed.\"\"\"\n",
    "        cursor = self.connection.cursor(dictionary=dictionary)\n",
    "        try:\n",
    "            yield cursor\n",
    "        finally:\n",
    "            cursor.close()\n",
    "            \n",
    "    def create_database(self, database_name):\n",
    "        \"\"\"Creates a new database if it does not already exist.\"\"\"\n",
    "        try:\n",
    "            with self.get_cursor() as cursor:\n",
    "                cursor.execute(f\"show databases like '{database_name}'\")\n",
    "                result = cursor.fetchone()\n",
    "                if result:\n",
    "                    logging.error(f\"Database '{database_name}' already exists\")\n",
    "                    print(f\"Database '{database_name}' already exists\")\n",
    "                else:\n",
    "                    cursor.execute(f\"CREATE DATABASE {database_name}\")\n",
    "                    logging.info(f\"Database '{database_name}' created successfully.\")\n",
    "                    print(f\"Database '{database_name}' created successfully.\")\n",
    "        except Error as e:\n",
    "            logging.exception(f\"Error: {e} occurred during database creation\")\n",
    "            print(f\"Error: {e} occurred during database creation\")\n",
    "\n",
    "    \n",
    "    def use_database (self, database_name):\n",
    "        \"\"\"Select the database to use.\"\"\"\n",
    "        cursor = None\n",
    "        try: \n",
    "            with self.get_cursor() as cursor:\n",
    "                logging.info(f\"Switched to database '{database_name}'.\")\n",
    "                cursor.execute(f\"USE {database_name}\")\n",
    "                print(f\"Switched to database '{database_name}'.\")\n",
    "        except Error as e:\n",
    "            logging.exception(f\"Error: {e} occurred during switching database\")\n",
    "            print(f\"Error: {e} occurred during switching database\")\n",
    "\n",
    "\n",
    "    def close(self):\n",
    "        \"\"\"Closes the connection to the MySQL server.\"\"\"\n",
    "        if self.connection and self.connection.is_connected():\n",
    "            self.connection.close()\n",
    "            logging.info(\"Connection closed.\")\n",
    "            print(\"Connection closed.\")\n",
    "\n",
    "    def create_table(self,table_name,table_definition):\n",
    "        \"\"\"Creates a table in the database, distinguishing whether it was newly created or already existed.\"\"\"\n",
    "        try:\n",
    "            with self.get_cursor() as cursor: \n",
    "                # Check if the table already exists\n",
    "                cursor.execute(f\"SHOW TABLES LIKE '{table_name}'\")\n",
    "                result = cursor.fetchone()\n",
    "                if result:\n",
    "                    logging.info(f\"Table '{table_name}' already exists.\")\n",
    "                    print(f\"Table '{table_name}' already exists.\")\n",
    "                else:\n",
    "                    cursor.execute(f\"CREATE TABLE {table_name} ({table_definition})\")\n",
    "                    logging.info(f\"Table '{table_name} created successfully\")\n",
    "                    print(f\"Table '{table_name}' created successfully.\")\n",
    "        except Error as e:\n",
    "            logging.info(f\"Error: {e} occured while creating table\")\n",
    "            print(f\"Error: {e} occured while creating table'\")\n",
    "        finally:\n",
    "            if cursor:\n",
    "                cursor.close()\n",
    "\n",
    "    def insert(self, table, columns, values):\n",
    "        \"\"\"Inserts data into a table.\"\"\"\n",
    "        placeholders = ', '.join(['%s'] * len(values))     # values = ('Alice Johnson', 'Data Analyst',70000.00)\n",
    "        #When using %s, the database driver automatically handles the conversion of Python data types into the appropriate SQL data types. \n",
    "        #For example, a Python int is converted to an SQL INTEGER, and a Python str is converted to an SQL VARCHAR.\n",
    "        columns_str = ', '.join(columns)  # columns = ['name','position','salary']\n",
    "        #['%s'] * len(values) creates a list where the string '%s' is repeated as many times as there are elements in values.\n",
    "        query = f\"INSERT INTO {table} ({columns_str}) VALUES ({placeholders})\"\n",
    "        \n",
    "        try:\n",
    "            with self.get_cursor() as cursor:\n",
    "                cursor.execute(query, values)\n",
    "                self.connection.commit()\n",
    "                if cursor.rowcount > 0:\n",
    "                    logging.info(f\"Record inserted successfully. Rows affected: {cursor.rowcount}.\")\n",
    "                    print(f\"Record inserted successfully. Rows affected: {cursor.rowcount}.\")\n",
    "                else:\n",
    "                    print(\"No record was inserted.\")\n",
    "        except Error as e:\n",
    "            logging.error(f\"Error: {e} inserting data into a table.\")\n",
    "            print(f\"Error: {e} inserting data into a table.\")\n",
    "            \n",
    "    def update(self, table, set_values, where_clause):\n",
    "        \"\"\"Updates records in a table.\"\"\"\n",
    "        set_clause = ', '.join([f\"{col} = %s\" for col in set_values.keys()])\n",
    "        query = f\"UPDATE {table} SET {set_clause} WHERE {where_clause}\"\n",
    "        \n",
    "        try:\n",
    "            with self.get_cursor() as cursor:\n",
    "                cursor.execute(query, list(set_values.values()))\n",
    "                self.connection.commit()\n",
    "                if cursor.rowcount > 0:\n",
    "                    logging.info(f\"Record(s) updated successfully. Rows affected: {cursor.rowcount}.\")\n",
    "                    print(f\"Record(s) updated successfully. Rows affected: {cursor.rowcount}.\")\n",
    "                else:\n",
    "                    print(\"No records were updated because no matching records were found.\")\n",
    "        except Error as e:\n",
    "            logging.error(f\"Error: {e} while updating table\")\n",
    "            print(f\"Error: {e} while updating table\")\n",
    "\n",
    "    def delete(self, table, where_clause):\n",
    "        \"\"\"Deletes records from a table.\"\"\"\n",
    "        query = f\"DELETE FROM {table} WHERE {where_clause}\"\n",
    "        \n",
    "        try:\n",
    "            with self.get_cursor() as cursor:\n",
    "                cursor.execute(query)\n",
    "                affected_rows = cursor.rowcount  # Number of rows affected by the query\n",
    "                self.connection.commit()\n",
    "                \n",
    "                if affected_rows > 0:\n",
    "                    logging.info(\"Record(s) deleted successfully. Rows affected: {affected_rows}.\")\n",
    "                    print(f\"Record(s) deleted successfully. Rows affected: {affected_rows}.\")\n",
    "                else:\n",
    "                    print(\"No records were deleted because no matching records were found.\")\n",
    "        except Error as e:\n",
    "            logging.error(f\"Error: {e} while deleting table\")\n",
    "            print(f\"Error: {e} while deleting table\")\n",
    "\n",
    "    def fetch_all(self, query, params=None):\n",
    "        \"\"\"Fetches all records from a query.\"\"\"\n",
    "        try:\n",
    "            with self.get_cursor(dictionary=True) as cursor:\n",
    "                cursor.execute(query, params)\n",
    "                result = cursor.fetchall()\n",
    "                logging.info(\"fetched all the data based on the queries\")\n",
    "                return result\n",
    "        except Error as e:\n",
    "            logging.error(f\"Error: {e} fetching all the data based on the queries\")\n",
    "            print(f\"Error: {e} fetching all the data based on the queries\")\n",
    "            return []\n",
    "\n",
    "    def fetch_one(self, query, params=None):\n",
    "        \"\"\"Fetches a single row from the result of the query.\"\"\"\n",
    "        try:\n",
    "            with self.get_cursor(dictionary=True) as cursor:\n",
    "                cursor.execute(query, params)\n",
    "                result = cursor.fetchone()\n",
    "                \n",
    "                # Consume any remaining results to avoid the \"Unread result found\" error\n",
    "                while cursor.nextset():\n",
    "                    cursor.fetchall()\n",
    "                logging.info(\"fetched single row based on the queries\")\n",
    "                return result\n",
    "        except Error as e:\n",
    "            logging.error(f\"Error: {e} fetching a single row record based on the queries\")\n",
    "            print(f\"Error: {e} fetching a single row record based on the queries\")\n",
    "            return None\n",
    "    \n"
   ]
  },
  {
   "cell_type": "code",
   "execution_count": 95,
   "id": "6555191e-a079-4838-909c-0d82cd9968be",
   "metadata": {},
   "outputs": [],
   "source": [
    "abc = MySQLDatabase(host = '127.0.0.1',port = 3306,user = 'root',password = 'Abhi@1972',database = 'savdb')"
   ]
  },
  {
   "cell_type": "code",
   "execution_count": 97,
   "id": "d3c2129b-a682-47d2-bb32-06d01ea3f31e",
   "metadata": {},
   "outputs": [
    {
     "name": "stdout",
     "output_type": "stream",
     "text": [
      "successfully connected to mysql server\n"
     ]
    }
   ],
   "source": [
    "abc.connect_to_mysql()"
   ]
  },
  {
   "cell_type": "code",
   "execution_count": 98,
   "id": "89d413be-66ee-4e67-88af-ba96b27c2cc3",
   "metadata": {},
   "outputs": [
    {
     "name": "stdout",
     "output_type": "stream",
     "text": [
      "Database 'savdb' already exists\n"
     ]
    }
   ],
   "source": [
    "abc.create_database('savdb')"
   ]
  },
  {
   "cell_type": "code",
   "execution_count": 101,
   "id": "91db9935-67e1-4576-9511-08f1e759fbd2",
   "metadata": {},
   "outputs": [],
   "source": [
    "# abc.close()"
   ]
  },
  {
   "cell_type": "code",
   "execution_count": 103,
   "id": "9b784dd0-9248-430b-ae6c-a4fc31339d2f",
   "metadata": {},
   "outputs": [
    {
     "name": "stdout",
     "output_type": "stream",
     "text": [
      "Database 'new_db_from_jupyter' already exists\n"
     ]
    }
   ],
   "source": [
    "abc.create_database(\"new_db_from_jupyter\")"
   ]
  },
  {
   "cell_type": "code",
   "execution_count": 105,
   "id": "cc9aa325-e7d7-4534-9d1d-e2962a9a2506",
   "metadata": {},
   "outputs": [
    {
     "name": "stdout",
     "output_type": "stream",
     "text": [
      "Switched to database 'new_db_from_jupyter'.\n"
     ]
    }
   ],
   "source": [
    "abc.use_database(\"new_db_from_jupyter\")"
   ]
  },
  {
   "cell_type": "code",
   "execution_count": 107,
   "id": "c6a4e452-2b00-47af-a1a1-3e7de220ac95",
   "metadata": {},
   "outputs": [
    {
     "name": "stdout",
     "output_type": "stream",
     "text": [
      "Table 'employees' already exists.\n"
     ]
    }
   ],
   "source": [
    "table_name = \"employees\"\n",
    "table_definition = \"\"\"\n",
    "id INT AUTO_INCREMENT PRIMARY KEY,\n",
    "name VARCHAR(100),\n",
    "position VARCHAR(100),\n",
    "salary DECIMAL(10,2)\n",
    "\"\"\"\n",
    "abc.create_table(table_name,table_definition)"
   ]
  },
  {
   "cell_type": "code",
   "execution_count": 109,
   "id": "d4b9aafe-d198-42e3-aea0-8161b62c7aa4",
   "metadata": {},
   "outputs": [],
   "source": [
    "table_name = \"employees\"\n",
    "columns = ['name','position','salary']\n",
    "values = ('Alice Johnson', 'Data Analyst',70000.00)"
   ]
  },
  {
   "cell_type": "code",
   "execution_count": 111,
   "id": "e906daff-026a-4172-ace3-31ce68df7f9f",
   "metadata": {},
   "outputs": [
    {
     "name": "stdout",
     "output_type": "stream",
     "text": [
      "Record inserted successfully. Rows affected: 1.\n"
     ]
    }
   ],
   "source": [
    "abc.insert(table_name,columns,values)"
   ]
  },
  {
   "cell_type": "code",
   "execution_count": 113,
   "id": "0356cc06-55a1-4c29-9287-4716c1703b9d",
   "metadata": {},
   "outputs": [
    {
     "data": {
      "text/plain": [
       "[{'id': 1,\n",
       "  'name': 'Alice Johnson',\n",
       "  'position': 'Data Analyst',\n",
       "  'salary': Decimal('70000.00')},\n",
       " {'id': 2,\n",
       "  'name': 'John Giblson',\n",
       "  'position': 'Senior Data Analyst',\n",
       "  'salary': Decimal('829829.88')},\n",
       " {'id': 3,\n",
       "  'name': 'Alice Johnson',\n",
       "  'position': 'Data Analyst',\n",
       "  'salary': Decimal('70000.00')},\n",
       " {'id': 4,\n",
       "  'name': 'Alice Johnson',\n",
       "  'position': 'Data Analyst',\n",
       "  'salary': Decimal('70000.00')},\n",
       " {'id': 5,\n",
       "  'name': 'Alice Johnson',\n",
       "  'position': 'Data Analyst',\n",
       "  'salary': Decimal('70000.00')},\n",
       " {'id': 7,\n",
       "  'name': 'Alice Johnson',\n",
       "  'position': 'Data Analyst',\n",
       "  'salary': Decimal('70000.00')},\n",
       " {'id': 8,\n",
       "  'name': 'Alice Johnson',\n",
       "  'position': 'Data Analyst',\n",
       "  'salary': Decimal('70000.00')},\n",
       " {'id': 10,\n",
       "  'name': 'Alice Johnson',\n",
       "  'position': 'Data Analyst',\n",
       "  'salary': Decimal('70000.00')},\n",
       " {'id': 11,\n",
       "  'name': 'Alice Johnson',\n",
       "  'position': 'Data Analyst',\n",
       "  'salary': Decimal('70000.00')}]"
      ]
     },
     "execution_count": 113,
     "metadata": {},
     "output_type": "execute_result"
    }
   ],
   "source": [
    "QUERY = \"SELECT * FROM EMPLOYEES\"\n",
    "abc.fetch_all(QUERY)"
   ]
  },
  {
   "cell_type": "code",
   "execution_count": 115,
   "id": "fe2786e6-d16a-475c-9bfb-7577a4a6ab05",
   "metadata": {},
   "outputs": [
    {
     "name": "stdout",
     "output_type": "stream",
     "text": [
      "{'id': 1, 'name': 'Alice Johnson', 'position': 'Data Analyst', 'salary': Decimal('70000.00')}\n"
     ]
    }
   ],
   "source": [
    "QUERY = \"SELECT * FROM employees WHERE id = %s\"\n",
    "PARAMS = (1,)\n",
    "RESULT = abc.fetch_one(QUERY,PARAMS)\n",
    "print(RESULT)"
   ]
  },
  {
   "cell_type": "code",
   "execution_count": 117,
   "id": "fb9d74f7-c92c-4184-8908-ca8ff6f9237b",
   "metadata": {},
   "outputs": [
    {
     "name": "stdout",
     "output_type": "stream",
     "text": [
      "{'id': 1, 'name': 'Alice Johnson', 'position': 'Data Analyst', 'salary': Decimal('70000.00')}\n"
     ]
    }
   ],
   "source": [
    "QUERY = \"SELECT * FROM employees\"\n",
    "result = abc.fetch_one(QUERY)\n",
    "print(result)"
   ]
  },
  {
   "cell_type": "code",
   "execution_count": 119,
   "id": "c53bb2f3-78ee-450c-b8a0-97d3e553ccb9",
   "metadata": {},
   "outputs": [
    {
     "name": "stdout",
     "output_type": "stream",
     "text": [
      "No records were updated because no matching records were found.\n"
     ]
    }
   ],
   "source": [
    "table = \"employees\"\n",
    "set_values = {'name' : 'John Giblson', 'position' : 'Senior Data Analyst','salary' : '829829.88'}\n",
    "where_clause = \"id = '2'\"\n",
    "\n",
    "abc.update(table,set_values,where_clause)"
   ]
  },
  {
   "cell_type": "code",
   "execution_count": 121,
   "id": "61015128-2ba4-4001-910a-d5e1b7a2cf75",
   "metadata": {},
   "outputs": [
    {
     "name": "stdout",
     "output_type": "stream",
     "text": [
      "Record(s) updated successfully. Rows affected: 1.\n"
     ]
    }
   ],
   "source": [
    "table = \"employees\"\n",
    "set_values = {'name' : 'John Giblson', 'position' : 'Senior Data Analyst','salary' : '829829.88'}\n",
    "where_clause = \"id = '3'\"\n",
    "\n",
    "abc.update(table,set_values,where_clause)"
   ]
  },
  {
   "cell_type": "code",
   "execution_count": 123,
   "id": "f7b358bd-6ef2-44f0-afc5-e114f6302f5a",
   "metadata": {},
   "outputs": [
    {
     "data": {
      "text/plain": [
       "[{'id': 1,\n",
       "  'name': 'Alice Johnson',\n",
       "  'position': 'Data Analyst',\n",
       "  'salary': Decimal('70000.00')},\n",
       " {'id': 2,\n",
       "  'name': 'John Giblson',\n",
       "  'position': 'Senior Data Analyst',\n",
       "  'salary': Decimal('829829.88')},\n",
       " {'id': 3,\n",
       "  'name': 'John Giblson',\n",
       "  'position': 'Senior Data Analyst',\n",
       "  'salary': Decimal('829829.88')},\n",
       " {'id': 4,\n",
       "  'name': 'Alice Johnson',\n",
       "  'position': 'Data Analyst',\n",
       "  'salary': Decimal('70000.00')},\n",
       " {'id': 5,\n",
       "  'name': 'Alice Johnson',\n",
       "  'position': 'Data Analyst',\n",
       "  'salary': Decimal('70000.00')},\n",
       " {'id': 7,\n",
       "  'name': 'Alice Johnson',\n",
       "  'position': 'Data Analyst',\n",
       "  'salary': Decimal('70000.00')},\n",
       " {'id': 8,\n",
       "  'name': 'Alice Johnson',\n",
       "  'position': 'Data Analyst',\n",
       "  'salary': Decimal('70000.00')},\n",
       " {'id': 10,\n",
       "  'name': 'Alice Johnson',\n",
       "  'position': 'Data Analyst',\n",
       "  'salary': Decimal('70000.00')},\n",
       " {'id': 11,\n",
       "  'name': 'Alice Johnson',\n",
       "  'position': 'Data Analyst',\n",
       "  'salary': Decimal('70000.00')}]"
      ]
     },
     "execution_count": 123,
     "metadata": {},
     "output_type": "execute_result"
    }
   ],
   "source": [
    "QUERY = \"SELECT * FROM EMPLOYEES\"\n",
    "abc.fetch_all(QUERY)"
   ]
  },
  {
   "cell_type": "code",
   "execution_count": 127,
   "id": "600bcb49-bdd7-437c-a8c3-31396f77d707",
   "metadata": {},
   "outputs": [
    {
     "name": "stdout",
     "output_type": "stream",
     "text": [
      "Record(s) deleted successfully. Rows affected: 1.\n"
     ]
    }
   ],
   "source": [
    "table = \"employees\"\n",
    "where_clause = \"id = '11'\"\n",
    "abc.delete(table,where_clause)"
   ]
  },
  {
   "cell_type": "code",
   "execution_count": 129,
   "id": "9780b93a-51e0-4e63-8864-df27f37762fb",
   "metadata": {},
   "outputs": [
    {
     "name": "stdout",
     "output_type": "stream",
     "text": [
      "No records were deleted because no matching records were found.\n"
     ]
    }
   ],
   "source": [
    "table = \"employees\"\n",
    "where_clause = \"id = '11'\"\n",
    "abc.delete(table,where_clause)"
   ]
  },
  {
   "cell_type": "code",
   "execution_count": 131,
   "id": "db125be0-9690-4a2e-996c-4a7adc8d9283",
   "metadata": {},
   "outputs": [
    {
     "data": {
      "text/plain": [
       "[{'id': 1,\n",
       "  'name': 'Alice Johnson',\n",
       "  'position': 'Data Analyst',\n",
       "  'salary': Decimal('70000.00')},\n",
       " {'id': 2,\n",
       "  'name': 'John Giblson',\n",
       "  'position': 'Senior Data Analyst',\n",
       "  'salary': Decimal('829829.88')},\n",
       " {'id': 3,\n",
       "  'name': 'John Giblson',\n",
       "  'position': 'Senior Data Analyst',\n",
       "  'salary': Decimal('829829.88')},\n",
       " {'id': 4,\n",
       "  'name': 'Alice Johnson',\n",
       "  'position': 'Data Analyst',\n",
       "  'salary': Decimal('70000.00')},\n",
       " {'id': 5,\n",
       "  'name': 'Alice Johnson',\n",
       "  'position': 'Data Analyst',\n",
       "  'salary': Decimal('70000.00')},\n",
       " {'id': 7,\n",
       "  'name': 'Alice Johnson',\n",
       "  'position': 'Data Analyst',\n",
       "  'salary': Decimal('70000.00')},\n",
       " {'id': 8,\n",
       "  'name': 'Alice Johnson',\n",
       "  'position': 'Data Analyst',\n",
       "  'salary': Decimal('70000.00')},\n",
       " {'id': 10,\n",
       "  'name': 'Alice Johnson',\n",
       "  'position': 'Data Analyst',\n",
       "  'salary': Decimal('70000.00')}]"
      ]
     },
     "execution_count": 131,
     "metadata": {},
     "output_type": "execute_result"
    }
   ],
   "source": [
    "QUERY = \"SELECT * FROM EMPLOYEES\"\n",
    "abc.fetch_all(QUERY)"
   ]
  },
  {
   "cell_type": "code",
   "execution_count": 301,
   "id": "dfd39985-e848-48e0-a5f1-7ea84e76336d",
   "metadata": {},
   "outputs": [],
   "source": []
  },
  {
   "cell_type": "code",
   "execution_count": null,
   "id": "3351438a-ad38-4795-acb0-fdd287041e7b",
   "metadata": {},
   "outputs": [],
   "source": []
  }
 ],
 "metadata": {
  "kernelspec": {
   "display_name": "Python 3 (ipykernel)",
   "language": "python",
   "name": "python3"
  },
  "language_info": {
   "codemirror_mode": {
    "name": "ipython",
    "version": 3
   },
   "file_extension": ".py",
   "mimetype": "text/x-python",
   "name": "python",
   "nbconvert_exporter": "python",
   "pygments_lexer": "ipython3",
   "version": "3.12.4"
  }
 },
 "nbformat": 4,
 "nbformat_minor": 5
}
