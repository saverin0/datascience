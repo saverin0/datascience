{
 "cells": [
  {
   "cell_type": "code",
   "execution_count": 2,
   "id": "508e47ac-8a02-4bae-a3d2-d66df0279696",
   "metadata": {},
   "outputs": [
    {
     "name": "stderr",
     "output_type": "stream",
     "text": [
      "__main__ - WARNING - this is a warning\n",
      "__main__ - ERROR - this is error\n"
     ]
    }
   ],
   "source": [
    "import logging\n",
    "\n",
    "#create a custom logger\n",
    "logger = logging.getLogger(__name__)\n",
    "\n",
    "#create handlers\n",
    "#The StreamHandler class, located in the core logging package, sends logging output to streams such as sys.stdout, sys.stderr or any file-like object (or, more precisely, any object which supports write() and flush() methods).\n",
    "c_handler = logging.StreamHandler()\n",
    "#The FileHandler class, located in the core logging package, sends logging output to a disk file. It inherits the output functionality from StreamHandler.\n",
    "f_handler = logging.FileHandler('abc.log')\n",
    "#Sets the threshold for this logger to level. Logging messages which are less severe than level will be ignored; logging messages which have severity level or higher will be emitted by whichever handler or handlers service this logger, unless a handler’s level has been set to a higher severity level than level.\n",
    "c_handler.setLevel(logging.WARNING)\n",
    "f_handler.setLevel(logging.ERROR)\n",
    "\n",
    "#create formatters and add it to handler\n",
    "c_format=logging.Formatter('%(name)s - %(levelname)s - %(message)s')\n",
    "f_format=logging.Formatter('%(asctime)s - %(name)s - %(levelname)s - %(message)s')\n",
    "c_handler.setFormatter(c_format)\n",
    "f_handler.setFormatter(f_format)\n",
    "\n",
    "\n",
    "#add Handler to the logger\n",
    "\n",
    "logger.addHandler(c_handler)\n",
    "logger.addHandler(f_handler)\n",
    "\n",
    "logger.warning('this is a warning')\n",
    "logger.error('this is error')\n"
   ]
  },
  {
   "cell_type": "code",
   "execution_count": null,
   "id": "a6506bd5-f4ac-43a0-a0f5-b0896b78feed",
   "metadata": {},
   "outputs": [],
   "source": [
    "# Certainly! Let's analyze your Python code step by step:\n",
    "\n",
    "# 1. **Logger Setup**:\n",
    "#     - You've created a custom logger using `logging.getLogger(__name__)`.\n",
    "#     - This logger will be used to handle log messages in your application.\n",
    "\n",
    "# 2. **Handlers**:\n",
    "#     - You've defined two handlers:\n",
    "#         - `c_handler`: A `StreamHandler` that sends log messages to the console (stdout or stderr).\n",
    "#         - `f_handler`: A `FileHandler` that writes log messages to a file named \"abc.log\".\n",
    "#     - You've set different log levels for each handler:\n",
    "#         - `c_handler` will handle warnings and higher severity messages (`logging.WARNING` level).\n",
    "#         - `f_handler` will handle error messages and higher severity messages (`logging.ERROR` level).\n",
    "\n",
    "# 3. **Formatters**:\n",
    "#     - You've created two formatters:\n",
    "#         - `c_format`: A formatter for console output, including the logger name, log level, and message.\n",
    "#         - `f_format`: A formatter for file output, including the timestamp, logger name, log level, and message.\n",
    "#     - You've associated these formatters with their respective handlers.\n",
    "\n",
    "# 4. **Adding Handlers to the Logger**:\n",
    "#     - You've added both handlers (`c_handler` and `f_handler`) to your custom logger using `logger.addHandler()`.\n",
    "\n",
    "# 5. **Logging Messages**:\n",
    "#     - You've logged two messages:\n",
    "#         - A warning message using `logger.warning('this is a warning')`.\n",
    "#         - An error message using `logger.error('this is error')`.\n",
    "\n",
    "# Overall, your code sets up logging with two handlers (console and file), customizes their behavior, and logs warning and error messages. If you have any specific questions or need further assistance, feel free to ask! 😊"
   ]
  },
  {
   "cell_type": "code",
   "execution_count": null,
   "id": "6c2933e4-f804-4bfa-92f9-504ebf103de2",
   "metadata": {},
   "outputs": [],
   "source": [
    "# debug--info--warning--error--critical"
   ]
  },
  {
   "cell_type": "code",
   "execution_count": 5,
   "id": "54be1657-d5c5-4d65-924c-7a5ad598ec1c",
   "metadata": {},
   "outputs": [
    {
     "name": "stderr",
     "output_type": "stream",
     "text": [
      "2024-07-06 13:26:23,122 - __main__ - INFO - Dividing 6 by 0\n",
      "2024-07-06 13:26:23,122 - __main__ - INFO - Dividing 6 by 0\n",
      "2024-07-06 13:26:23,122 - __main__ - INFO - Dividing 6 by 0\n",
      "2024-07-06 13:26:23,124 - __main__ - INFO - Zero Division Error\n",
      "2024-07-06 13:26:23,124 - __main__ - INFO - Zero Division Error\n",
      "2024-07-06 13:26:23,124 - __main__ - INFO - Zero Division Error\n"
     ]
    },
    {
     "name": "stdout",
     "output_type": "stream",
     "text": [
      "None\n"
     ]
    }
   ],
   "source": [
    "import logging \n",
    "\n",
    "logger=logging.getLogger(__name__)\n",
    "handler=logging.StreamHandler()\n",
    "\n",
    "formatter=logging.Formatter('%(asctime)s - %(name)s - %(levelname)s - %(message)s')\n",
    "\n",
    "handler.setFormatter(formatter)\n",
    "\n",
    "logger.addHandler(handler)\n",
    "logger.setLevel(logging.INFO)\n",
    "\n",
    "def divide(dividend,divisor):\n",
    "    try:\n",
    "        logger.info(f\"Dividing {dividend} by {divisor}\")\n",
    "        return dividend/divisor\n",
    "    except ZeroDivisionError:\n",
    "        logger.info(\"Zero Division Error\")\n",
    "\n",
    "\n",
    "print(divide(6,0))"
   ]
  },
  {
   "cell_type": "code",
   "execution_count": 6,
   "id": "e1f3aa2f-84da-4519-bd56-1b5d25c0040a",
   "metadata": {},
   "outputs": [
    {
     "name": "stderr",
     "output_type": "stream",
     "text": [
      "2024-07-06 13:27:15,317 - __main__ - INFO - Dividing 6 by 2\n",
      "2024-07-06 13:27:15,317 - __main__ - INFO - Dividing 6 by 2\n",
      "2024-07-06 13:27:15,317 - __main__ - INFO - Dividing 6 by 2\n",
      "2024-07-06 13:27:15,317 - __main__ - INFO - Dividing 6 by 2\n"
     ]
    },
    {
     "name": "stdout",
     "output_type": "stream",
     "text": [
      "3.0\n"
     ]
    }
   ],
   "source": [
    "import logging \n",
    "\n",
    "logger=logging.getLogger(__name__)\n",
    "handler=logging.StreamHandler()\n",
    "\n",
    "formatter=logging.Formatter('%(asctime)s - %(name)s - %(levelname)s - %(message)s')\n",
    "\n",
    "handler.setFormatter(formatter)\n",
    "\n",
    "logger.addHandler(handler)\n",
    "logger.setLevel(logging.INFO)\n",
    "\n",
    "def divide(dividend,divisor):\n",
    "    try:\n",
    "        logger.info(f\"Dividing {dividend} by {divisor}\")\n",
    "        return dividend/divisor\n",
    "    except ZeroDivisionError:\n",
    "        logger.info(\"Zero Division Error\")\n",
    "\n",
    "\n",
    "print(divide(6,2))"
   ]
  },
  {
   "cell_type": "code",
   "execution_count": 7,
   "id": "59e35ab4-78a0-46e9-afff-9cb8abd16432",
   "metadata": {},
   "outputs": [],
   "source": [
    "# Certainly! Let's analyze the Python code you've provided:\n",
    "\n",
    "# 1. **Logger Setup**:\n",
    "#     - You've created a logger named `__name__` (which typically corresponds to the name of the current module).\n",
    "#     - You've added a `StreamHandler` to this logger. The `StreamHandler` sends log messages to the console (stdout or stderr).\n",
    "\n",
    "# 2. **Formatter**:\n",
    "#     - You've defined a formatter that includes the timestamp, logger name, log level, and message.\n",
    "#     - This formatter is associated with the `StreamHandler`.\n",
    "\n",
    "# 3. **Log Level**:\n",
    "#     - You've set the logger's level to `INFO` using `logger.setLevel(logging.INFO)`.\n",
    "#     - This means that log messages with severity level `INFO` and higher will be handled by the logger.\n",
    "\n",
    "# 4. **Custom Function `divide`**:\n",
    "#     - You've defined a function called `divide` that takes two arguments: `dividend` and `divisor`.\n",
    "#     - Inside the function:\n",
    "#         - You log an `INFO` message indicating the division operation: `logger.info(f\"Dividing {dividend} by {divisor}\")`.\n",
    "#         - You attempt to perform the division: `return dividend/divisor`.\n",
    "#         - If a `ZeroDivisionError` occurs (when the divisor is 0), you log another `INFO` message: `logger.info(\"Zero Division Error\")`.\n",
    "\n",
    "# 5. **Function Call**:\n",
    "#     - You call the `divide` function with arguments `6` and `0`.\n",
    "#     - Since the divisor is 0, it raises a `ZeroDivisionError`, and the corresponding log message is printed.\n",
    "\n",
    "# Overall, your code sets up logging, defines a custom function, and demonstrates how logging can be used to track information during program execution. If you have any further questions or need additional assistance, feel free to ask! 😊"
   ]
  }
 ],
 "metadata": {
  "kernelspec": {
   "display_name": "anaconda-panel-2023.05-py310",
   "language": "python",
   "name": "conda-env-anaconda-panel-2023.05-py310-py"
  },
  "language_info": {
   "codemirror_mode": {
    "name": "ipython",
    "version": 3
   },
   "file_extension": ".py",
   "mimetype": "text/x-python",
   "name": "python",
   "nbconvert_exporter": "python",
   "pygments_lexer": "ipython3",
   "version": "3.11.5"
  }
 },
 "nbformat": 4,
 "nbformat_minor": 5
}
