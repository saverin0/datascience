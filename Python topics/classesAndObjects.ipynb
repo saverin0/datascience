{
 "cells": [
  {
   "cell_type": "code",
   "execution_count": 69,
   "id": "cfae4d21-9a62-4a7e-bfc0-e614bd943fee",
   "metadata": {},
   "outputs": [],
   "source": [
    "# OPPS- OBJECT ORIENTED PROGRAMMING"
   ]
  },
  {
   "cell_type": "code",
   "execution_count": 70,
   "id": "8d17888b-5d14-41fd-85b9-a3e010c9cdb6",
   "metadata": {},
   "outputs": [],
   "source": [
    "# **Object-Oriented Programming (OOP)** is a programming paradigm that revolves around the concept of **objects**. Let's dive into what OOP entails:\n",
    "\n",
    "# 1. **Objects and Classes**:\n",
    "#     - In OOP, we think of software as a collection of **objects**, each representing a real-world entity or concept such as car, laptop.\n",
    "#     - An **object** combines **data** (often called **attributes** or **properties**) and **code** (referred to as **methods**).\n",
    "#     - These objects are created based on **classes**, which act as blueprints for creating instances (objects).\n",
    "#     - A **class** defines the structure and behavior of objects.\n",
    "\n",
    "# 2. **Key Concepts**:\n",
    "#     - **Encapsulation**: Data and logic are encapsulated into objects. This helps break down large programs into smaller, reusable parts.\n",
    "#     - **Inheritance**: Classes can inherit properties and methods from other classes. It allows for code reuse and hierarchy.\n",
    "#     - **Polymorphism**: Objects of different classes can be treated uniformly through a common interface. It enables flexibility and extensibility.\n",
    "#     - **Abstraction**: Hides complex implementation details and exposes only relevant features to the user.\n",
    "\n",
    "# 3. **Benefits of OOP**:\n",
    "#     - **Modularity**: OOP promotes modular design, making it easier to maintain and extend software.\n",
    "#     - **Reusability**: Objects can be reused across different parts of the program.\n",
    "#     - **Readability**: OOP code tends to be more intuitive and self-explanatory.\n",
    "#     - **Scalability**: OOP supports building complex systems by composing smaller, manageable components.\n",
    "\n",
    "# 4. **Examples**:\n",
    "#     - Imagine a **Car** class with attributes like **color**, **make**, and methods like **start_engine()** and **drive()**.\n",
    "#     - You can create individual **Car** objects (instances) based on this class, each representing a specific car.\n",
    "\n",
    "# In summary, OOP simplifies software development by modeling real-world entities as objects, allowing for better organization, reusability, and maintainability¹². If you have any specific questions or need further examples, feel free to ask! 😊\n",
    "\n",
    "# Source: Conversation with Copilot, 8/7/2024\n",
    "# (1) Object-oriented programming - Wikipedia. https://en.wikipedia.org/wiki/Object-oriented_programming.\n",
    "# (2) What is object-oriented programming? OOP explained in depth - Educative. https://www.educative.io/blog/object-oriented-programming.\n",
    "# (3) What is Object-Oriented Programming? OOP Explained. https://blog.udemy.com/what-is-object-oriented-programming/.\n",
    "# (4) Object Oriented Programming: A Breakdown for Beginners. https://www.udacity.com/blog/2022/05/object-oriented-programming-a-breakdown-for-beginners.html."
   ]
  },
  {
   "cell_type": "code",
   "execution_count": 71,
   "id": "508df404-161e-45b9-83e4-e40434a484bb",
   "metadata": {},
   "outputs": [],
   "source": [
    "# Object has properties and functions\n",
    "\n",
    "# object - car \n",
    "# properties - color, price, model,manufacturer (also called as attributes/instance variable)\n",
    "# function/functionality of objects - drive (also called as methods)\n",
    "# class - is blueprint to create an objects\n",
    "# object is instance of a class"
   ]
  },
  {
   "cell_type": "code",
   "execution_count": 72,
   "id": "b277d8fd-7828-46f0-aa71-013bdbb29428",
   "metadata": {},
   "outputs": [],
   "source": [
    "class Emp:\n",
    "    pass"
   ]
  },
  {
   "cell_type": "code",
   "execution_count": 73,
   "id": "b053fe79-ae71-43fb-b8b8-024a0cf12d1e",
   "metadata": {},
   "outputs": [],
   "source": [
    "e = Emp()  #Emp() - object of class Emp"
   ]
  },
  {
   "cell_type": "code",
   "execution_count": 74,
   "id": "5408ad9b-543c-4f4c-aee2-8bef20a898f9",
   "metadata": {},
   "outputs": [
    {
     "data": {
      "text/plain": [
       "__main__.Emp"
      ]
     },
     "execution_count": 74,
     "metadata": {},
     "output_type": "execute_result"
    }
   ],
   "source": [
    "type(e)"
   ]
  },
  {
   "cell_type": "code",
   "execution_count": 75,
   "id": "26681954-9005-448e-ad01-484695086076",
   "metadata": {},
   "outputs": [
    {
     "name": "stdout",
     "output_type": "stream",
     "text": [
      "<class '__main__.Emp'>\n"
     ]
    }
   ],
   "source": [
    "print(type(e))"
   ]
  },
  {
   "cell_type": "code",
   "execution_count": 76,
   "id": "007b1160-a0a1-48fc-a533-40fae89434f1",
   "metadata": {},
   "outputs": [
    {
     "data": {
      "text/plain": [
       "2186789343968"
      ]
     },
     "execution_count": 76,
     "metadata": {},
     "output_type": "execute_result"
    }
   ],
   "source": [
    "id(e)"
   ]
  },
  {
   "cell_type": "code",
   "execution_count": 77,
   "id": "b68cad29-38dc-46e3-ab17-66041c75de95",
   "metadata": {},
   "outputs": [],
   "source": [
    "class Robot:\n",
    "    def introduce_yourself(self):\n",
    "        print(\"my name is\",self.name)"
   ]
  },
  {
   "cell_type": "code",
   "execution_count": 78,
   "id": "a7b5bb83-0ebc-4274-ba60-3949efb2538d",
   "metadata": {},
   "outputs": [],
   "source": [
    "r1=Robot()"
   ]
  },
  {
   "cell_type": "code",
   "execution_count": 79,
   "id": "fee7e844-ce1a-465d-8ec6-6fb5873cc045",
   "metadata": {},
   "outputs": [],
   "source": [
    "r1.name=\"sav\""
   ]
  },
  {
   "cell_type": "code",
   "execution_count": 80,
   "id": "131dec0c-0d22-4709-8b87-e3d2310efc17",
   "metadata": {},
   "outputs": [
    {
     "data": {
      "text/plain": [
       "<bound method Robot.introduce_yourself of <__main__.Robot object at 0x000001FD26CD4440>>"
      ]
     },
     "execution_count": 80,
     "metadata": {},
     "output_type": "execute_result"
    }
   ],
   "source": [
    "r1.introduce_yourself"
   ]
  },
  {
   "cell_type": "code",
   "execution_count": 81,
   "id": "5b46a77c-a3e4-477e-a1b8-2cd0c014331d",
   "metadata": {},
   "outputs": [
    {
     "name": "stdout",
     "output_type": "stream",
     "text": [
      "my name is sav\n"
     ]
    }
   ],
   "source": [
    "r1.introduce_yourself()"
   ]
  },
  {
   "cell_type": "code",
   "execution_count": 82,
   "id": "17865863-6308-4d16-8e73-c2dbd9ecff9d",
   "metadata": {},
   "outputs": [
    {
     "data": {
      "text/plain": [
       "'sav'"
      ]
     },
     "execution_count": 82,
     "metadata": {},
     "output_type": "execute_result"
    }
   ],
   "source": [
    "r1.name"
   ]
  },
  {
   "cell_type": "code",
   "execution_count": 83,
   "id": "d3307844-fa52-4a2c-9077-1e5cb1570425",
   "metadata": {},
   "outputs": [],
   "source": [
    "r2=Robot()"
   ]
  },
  {
   "cell_type": "code",
   "execution_count": 84,
   "id": "10b7461b-470c-469c-9f04-669370ffbfed",
   "metadata": {},
   "outputs": [],
   "source": [
    "r2.name=\"Abhishek\""
   ]
  },
  {
   "cell_type": "code",
   "execution_count": 85,
   "id": "c1b9223f-88d0-4ae4-bbac-4f55f4df1dd8",
   "metadata": {},
   "outputs": [
    {
     "name": "stdout",
     "output_type": "stream",
     "text": [
      "my name is Abhishek\n"
     ]
    }
   ],
   "source": [
    "r2.introduce_yourself()"
   ]
  },
  {
   "cell_type": "code",
   "execution_count": 86,
   "id": "ee054fac-b218-41b6-8ae9-be643b49af12",
   "metadata": {},
   "outputs": [
    {
     "data": {
      "text/plain": [
       "['__class__',\n",
       " '__delattr__',\n",
       " '__dict__',\n",
       " '__dir__',\n",
       " '__doc__',\n",
       " '__eq__',\n",
       " '__format__',\n",
       " '__ge__',\n",
       " '__getattribute__',\n",
       " '__getstate__',\n",
       " '__gt__',\n",
       " '__hash__',\n",
       " '__init__',\n",
       " '__init_subclass__',\n",
       " '__le__',\n",
       " '__lt__',\n",
       " '__module__',\n",
       " '__ne__',\n",
       " '__new__',\n",
       " '__reduce__',\n",
       " '__reduce_ex__',\n",
       " '__repr__',\n",
       " '__setattr__',\n",
       " '__sizeof__',\n",
       " '__str__',\n",
       " '__subclasshook__',\n",
       " '__weakref__',\n",
       " 'introduce_yourself',\n",
       " 'name']"
      ]
     },
     "execution_count": 86,
     "metadata": {},
     "output_type": "execute_result"
    }
   ],
   "source": [
    "dir(r1)"
   ]
  },
  {
   "cell_type": "code",
   "execution_count": 87,
   "id": "8700ccc7-28db-45d2-aafa-22363750bca0",
   "metadata": {},
   "outputs": [],
   "source": [
    "class Robot:\n",
    "    def __init__(self,name,color,weight):\n",
    "        self.name=name\n",
    "        self.color=color\n",
    "        self.weight=weight\n",
    "\n",
    "    def introduce_yourself(self):\n",
    "        print(\"My name is \" + self.name)"
   ]
  },
  {
   "cell_type": "code",
   "execution_count": 88,
   "id": "12756984-81c6-48cf-938b-12730e6e543d",
   "metadata": {},
   "outputs": [],
   "source": [
    "r1=Robot(\"rohit\",\"red\",30)"
   ]
  },
  {
   "cell_type": "code",
   "execution_count": 89,
   "id": "9c488b6b-ccd3-4933-ad21-75da0e1df291",
   "metadata": {},
   "outputs": [],
   "source": [
    "r2=Robot(\"mayhank\",\"purple\",89)"
   ]
  },
  {
   "cell_type": "code",
   "execution_count": 90,
   "id": "e4f7dcdf-c934-4388-8654-6523e26f5199",
   "metadata": {},
   "outputs": [
    {
     "name": "stdout",
     "output_type": "stream",
     "text": [
      "My name is rohit\n"
     ]
    }
   ],
   "source": [
    "r1.introduce_yourself()"
   ]
  },
  {
   "cell_type": "code",
   "execution_count": 91,
   "id": "a3a6bdb5-4f5e-4ad8-bd3e-d6a7c232fd34",
   "metadata": {},
   "outputs": [
    {
     "data": {
      "text/plain": [
       "<bound method Robot.introduce_yourself of <__main__.Robot object at 0x000001FD240CD1C0>>"
      ]
     },
     "execution_count": 91,
     "metadata": {},
     "output_type": "execute_result"
    }
   ],
   "source": [
    "r2.introduce_yourself"
   ]
  },
  {
   "cell_type": "code",
   "execution_count": 92,
   "id": "d6dc004f-479d-42dc-9ab4-9a75aec9fc93",
   "metadata": {},
   "outputs": [
    {
     "name": "stdout",
     "output_type": "stream",
     "text": [
      "My name is mayhank\n"
     ]
    }
   ],
   "source": [
    "r2.introduce_yourself() #() braces here because it's a method"
   ]
  },
  {
   "cell_type": "code",
   "execution_count": 93,
   "id": "7ec593cb-b9f8-4f76-ae4b-560eab043181",
   "metadata": {},
   "outputs": [],
   "source": [
    "# __init__ is used for initialisation "
   ]
  },
  {
   "cell_type": "code",
   "execution_count": 94,
   "id": "a871305d-111e-47d6-b8ec-aa640ecda3f7",
   "metadata": {},
   "outputs": [
    {
     "data": {
      "text/plain": [
       "'red'"
      ]
     },
     "execution_count": 94,
     "metadata": {},
     "output_type": "execute_result"
    }
   ],
   "source": [
    "r1.color     # no braces here because it's property"
   ]
  },
  {
   "cell_type": "code",
   "execution_count": 95,
   "id": "974e6688-23b3-4273-81c7-104b4c679a30",
   "metadata": {},
   "outputs": [
    {
     "data": {
      "text/plain": [
       "30"
      ]
     },
     "execution_count": 95,
     "metadata": {},
     "output_type": "execute_result"
    }
   ],
   "source": [
    "r1.weight"
   ]
  },
  {
   "cell_type": "code",
   "execution_count": 96,
   "id": "59ee5a3e-45ed-4614-8023-843f140ad832",
   "metadata": {},
   "outputs": [
    {
     "data": {
      "text/plain": [
       "'rohit'"
      ]
     },
     "execution_count": 96,
     "metadata": {},
     "output_type": "execute_result"
    }
   ],
   "source": [
    "r1.name"
   ]
  },
  {
   "cell_type": "code",
   "execution_count": 97,
   "id": "ed8f43f7-e344-4bea-bff1-028cc5b7a786",
   "metadata": {},
   "outputs": [],
   "source": [
    "# Certainly! Let's dive into the purpose and usage of the `__init__` method in Python:\n",
    "\n",
    "# 1. **What is `__init__`?**\n",
    "#     - The `__init__` method (often pronounced as \"dunder init\") is a special method in Python.\n",
    "#     - It is automatically called when you create an **instance** (object) of a **class**.\n",
    "#     - The primary role of `__init__` is to **initialize** the object's **attributes** (also known as **properties**).\n",
    "\n",
    "# 2. **Syntax**:\n",
    "#     - The `__init__` method is defined within a class and accepts at least one parameter: `self`.\n",
    "#     - The `self` parameter refers to the instance of the class (i.e., the object being created).\n",
    "#     - By convention, the first parameter of any instance method (including `__init__`) is named `self`.\n",
    "\n",
    "# 3. **Constructor Analogy**:\n",
    "#     - Think of `__init__` as the Python equivalent of a **constructor** in other languages (such as C++ or Java).\n",
    "#     - When you create an instance of a class (e.g., `my_object = MyClass()`), Python automatically calls `__init__` with the newly created object \n",
    "#       as the first argument.\n",
    "\n",
    "# 4. **Example**:\n",
    "#     ```python\n",
    "#     class MyClass:\n",
    "#         def __init__(self):\n",
    "#             # Initialize instance attributes\n",
    "#             self.x = 'Hello'\n",
    "\n",
    "#     # Create an instance of MyClass\n",
    "#     my_object = MyClass()\n",
    "#     print(my_object.x)  # Output: Hello\n",
    "#     ```\n",
    "\n",
    "# 5. **Additional Parameters**:\n",
    "#     - You can pass additional arguments to `__init__` if needed (e.g., `def __init__(self, arg1, arg2)`).\n",
    "#     - These arguments allow you to customize the initialization process based on external values.\n",
    "\n",
    "# Remember that `__init__` is essential for setting up the initial state of your objects. If you have any more questions or need further clarification, feel free to ask! 😊 ¹²³\n",
    "\n",
    "# Source: Conversation with Copilot, 10/7/2024\n",
    "# (1) oop - What do __init__ and self do in Python? - Stack Overflow. https://stackoverflow.com/questions/625083/what-do-init-and-self-do-in-python.\n",
    "# (2) Python Class Constructor - Python __init__() Function - AskPython. https://www.askpython.com/python/oops/python-class-constructor-init-function.\n",
    "# (3) Python __init__: An Overview - Great Learning. https://www.mygreatlearning.com/blog/python-init/.\n",
    "# (4) init - What does __init__(self) mean in Python? - Stack Overflow. https://stackoverflow.com/questions/31955186/what-does-init-self-mean-in-python.\n",
    "# (5) __init__ in Python - GeeksforGeeks. https://www.geeksforgeeks.org/__init__-in-python/.\n",
    "# (6) undefined. https://docs.python.org/2/tutorial/classes.html."
   ]
  },
  {
   "cell_type": "code",
   "execution_count": 100,
   "id": "a0833845-5fb4-42f7-8494-3d64710b6269",
   "metadata": {},
   "outputs": [
    {
     "ename": "TypeError",
     "evalue": "Robot.__init__() missing 1 required positional argument: 'weight'",
     "output_type": "error",
     "traceback": [
      "\u001b[1;31m---------------------------------------------------------------------------\u001b[0m",
      "\u001b[1;31mTypeError\u001b[0m                                 Traceback (most recent call last)",
      "Cell \u001b[1;32mIn[100], line 1\u001b[0m\n\u001b[1;32m----> 1\u001b[0m r1\u001b[38;5;241m=\u001b[39mRobot(\u001b[38;5;124m\"\u001b[39m\u001b[38;5;124mabc\u001b[39m\u001b[38;5;124m\"\u001b[39m,\u001b[38;5;241m3\u001b[39m)\n",
      "\u001b[1;31mTypeError\u001b[0m: Robot.__init__() missing 1 required positional argument: 'weight'"
     ]
    }
   ],
   "source": [
    "r1=Robot(\"abc\",3)"
   ]
  },
  {
   "cell_type": "code",
   "execution_count": 104,
   "id": "16c7e216-0860-4843-bedb-88627d0c14be",
   "metadata": {},
   "outputs": [],
   "source": [
    "class Person:\n",
    "    def __init__(self,name,gender,profession):\n",
    "        self.name = name\n",
    "        self.gender = gender\n",
    "        self.profession = profession \n",
    "\n",
    "    def show(self):\n",
    "        print('Name',self.name,'Gender',self.gender,'Profession',self.profession)\n",
    "\n",
    "    def work(self):\n",
    "        print(self.name,'working as a',self.profession)"
   ]
  },
  {
   "cell_type": "code",
   "execution_count": 106,
   "id": "d80a98e6-8cd2-468b-a0d6-c3f9ac29c01b",
   "metadata": {},
   "outputs": [
    {
     "ename": "TypeError",
     "evalue": "Person.__init__() missing 2 required positional arguments: 'gender' and 'profession'",
     "output_type": "error",
     "traceback": [
      "\u001b[1;31m---------------------------------------------------------------------------\u001b[0m",
      "\u001b[1;31mTypeError\u001b[0m                                 Traceback (most recent call last)",
      "Cell \u001b[1;32mIn[106], line 1\u001b[0m\n\u001b[1;32m----> 1\u001b[0m o1 \u001b[38;5;241m=\u001b[39m Person(\u001b[38;5;124m\"\u001b[39m\u001b[38;5;124mAbhishek\u001b[39m\u001b[38;5;124m\"\u001b[39m)\n",
      "\u001b[1;31mTypeError\u001b[0m: Person.__init__() missing 2 required positional arguments: 'gender' and 'profession'"
     ]
    }
   ],
   "source": [
    "o1 = Person(\"Abhishek\")"
   ]
  },
  {
   "cell_type": "code",
   "execution_count": 108,
   "id": "84689c5a-7057-436f-9d82-f54f968252fc",
   "metadata": {},
   "outputs": [],
   "source": [
    "o1 = Person(\"Abhishek\",\"Male\",\"Engineer\")"
   ]
  },
  {
   "cell_type": "code",
   "execution_count": 110,
   "id": "0f237d16-419d-4aa5-a2a3-e865956c7a25",
   "metadata": {},
   "outputs": [
    {
     "name": "stdout",
     "output_type": "stream",
     "text": [
      "Name Abhishek Gender Male Profession Engineer\n"
     ]
    }
   ],
   "source": [
    "o1.show()"
   ]
  },
  {
   "cell_type": "code",
   "execution_count": 114,
   "id": "0950680c-52e0-469c-9a3f-362eda7e5eea",
   "metadata": {},
   "outputs": [
    {
     "name": "stdout",
     "output_type": "stream",
     "text": [
      "Abhishek working as a Engineer\n"
     ]
    }
   ],
   "source": [
    "o1.work()"
   ]
  },
  {
   "cell_type": "code",
   "execution_count": 116,
   "id": "96323af2-af96-47e3-8f6a-3a9a54dad0d9",
   "metadata": {},
   "outputs": [],
   "source": [
    "o2 = Person(\"imran\",\"Male\",\"Engineer\")"
   ]
  },
  {
   "cell_type": "code",
   "execution_count": 118,
   "id": "cfe3d975-52bb-4877-a4f9-d8c6acba7689",
   "metadata": {},
   "outputs": [
    {
     "name": "stdout",
     "output_type": "stream",
     "text": [
      "Name imran Gender Male Profession Engineer\n"
     ]
    }
   ],
   "source": [
    "o2.show()"
   ]
  },
  {
   "cell_type": "code",
   "execution_count": 122,
   "id": "122211b7-f63e-4d2c-a6a5-feb51f7821c4",
   "metadata": {},
   "outputs": [
    {
     "name": "stdout",
     "output_type": "stream",
     "text": [
      "imran working as a Engineer\n"
     ]
    }
   ],
   "source": [
    "o2.work()"
   ]
  },
  {
   "cell_type": "code",
   "execution_count": 124,
   "id": "ece04954-5405-4274-acad-0dfb2eb4972b",
   "metadata": {},
   "outputs": [],
   "source": [
    "o2.name=\"sagar\""
   ]
  },
  {
   "cell_type": "code",
   "execution_count": 126,
   "id": "859f4064-b92e-4f3f-bb74-e7dc6c72eaea",
   "metadata": {},
   "outputs": [
    {
     "data": {
      "text/plain": [
       "'sagar'"
      ]
     },
     "execution_count": 126,
     "metadata": {},
     "output_type": "execute_result"
    }
   ],
   "source": [
    "o2.name"
   ]
  },
  {
   "cell_type": "code",
   "execution_count": 130,
   "id": "43bff3cd-595f-49ef-a96d-e892ea165af2",
   "metadata": {},
   "outputs": [],
   "source": [
    "class Emp:\n",
    "    def __init__(self):\n",
    "        print(id(self))\n",
    "        self.age=25\n",
    "        self.name=\"default name\"\n",
    "        self.salary=300000"
   ]
  },
  {
   "cell_type": "code",
   "execution_count": 132,
   "id": "d1ade600-0b9a-4866-98a9-ff1c0cfa1680",
   "metadata": {},
   "outputs": [
    {
     "name": "stdout",
     "output_type": "stream",
     "text": [
      "2186789344448\n"
     ]
    }
   ],
   "source": [
    "e1=Emp()"
   ]
  },
  {
   "cell_type": "code",
   "execution_count": 134,
   "id": "1a812ba1-9d87-4d23-9988-da0cae683bc0",
   "metadata": {},
   "outputs": [
    {
     "data": {
      "text/plain": [
       "300000"
      ]
     },
     "execution_count": 134,
     "metadata": {},
     "output_type": "execute_result"
    }
   ],
   "source": [
    "e1.salary"
   ]
  },
  {
   "cell_type": "code",
   "execution_count": 136,
   "id": "17d1d9a2-87ff-42f8-87f2-90ba3f7f1a75",
   "metadata": {},
   "outputs": [
    {
     "data": {
      "text/plain": [
       "25"
      ]
     },
     "execution_count": 136,
     "metadata": {},
     "output_type": "execute_result"
    }
   ],
   "source": [
    "e1.age"
   ]
  },
  {
   "cell_type": "code",
   "execution_count": 138,
   "id": "cba0c095-c23b-48c3-8e2f-cbdb0fd32af2",
   "metadata": {},
   "outputs": [
    {
     "data": {
      "text/plain": [
       "'default name'"
      ]
     },
     "execution_count": 138,
     "metadata": {},
     "output_type": "execute_result"
    }
   ],
   "source": [
    "e1.name"
   ]
  },
  {
   "cell_type": "code",
   "execution_count": 142,
   "id": "7a1dd69f-89fb-40a1-a2cd-ef89eff4403c",
   "metadata": {},
   "outputs": [],
   "source": [
    "e1.weight=34"
   ]
  },
  {
   "cell_type": "code",
   "execution_count": 144,
   "id": "fc5db346-be78-49d2-b412-14e8b1db0bd0",
   "metadata": {},
   "outputs": [
    {
     "data": {
      "text/plain": [
       "34"
      ]
     },
     "execution_count": 144,
     "metadata": {},
     "output_type": "execute_result"
    }
   ],
   "source": [
    "e1.weight"
   ]
  },
  {
   "cell_type": "code",
   "execution_count": 196,
   "id": "01549e0c-ca89-479f-9927-6051cf6884f9",
   "metadata": {},
   "outputs": [],
   "source": [
    "import math\n",
    "class Measurement:\n",
    "    def __init__(self,radius):\n",
    "        self.radius=radius\n",
    "        \n",
    "    def area(self):\n",
    "        print('Area of circle with radius',self.radius,'is equal to',math.pi * (self.radius*self.radius))\n",
    "\n",
    "    def circumference(self):\n",
    "        print( 'Circumference of circle with radius',self.radius,'is equal to',2 * math.pi *self.radius)"
   ]
  },
  {
   "cell_type": "code",
   "execution_count": 204,
   "id": "d358f10b-9651-4615-86b1-f05abe15f00e",
   "metadata": {},
   "outputs": [],
   "source": [
    "a1=Measurement(5)"
   ]
  },
  {
   "cell_type": "code",
   "execution_count": 206,
   "id": "7754171b-08c5-4aad-ac79-46e5a5d0ef10",
   "metadata": {},
   "outputs": [
    {
     "name": "stdout",
     "output_type": "stream",
     "text": [
      "Area of circle with radius 5 is equal to 78.53981633974483\n"
     ]
    }
   ],
   "source": [
    "a1.area()"
   ]
  },
  {
   "cell_type": "code",
   "execution_count": 208,
   "id": "0cc85473-12c7-4a70-92ca-e9d7bca9855f",
   "metadata": {},
   "outputs": [
    {
     "name": "stdout",
     "output_type": "stream",
     "text": [
      "Circumference of circle with radius 5 is equal to 31.41592653589793\n"
     ]
    }
   ],
   "source": [
    "a1.circumference()"
   ]
  },
  {
   "cell_type": "code",
   "execution_count": 210,
   "id": "14ed6b24-f77e-4eca-a481-96a8ad7ccb6e",
   "metadata": {},
   "outputs": [
    {
     "data": {
      "text/plain": [
       "5"
      ]
     },
     "execution_count": 210,
     "metadata": {},
     "output_type": "execute_result"
    }
   ],
   "source": [
    "a1.radius"
   ]
  },
  {
   "cell_type": "code",
   "execution_count": 214,
   "id": "4d810c5f-ff6a-456f-b2b3-971d9619ba8f",
   "metadata": {},
   "outputs": [],
   "source": [
    "#testing merge pr"
   ]
  },
  {
   "cell_type": "code",
   "execution_count": 75,
   "id": "aaf6468d-6b2b-49fd-a4ee-06cfbb9519e2",
   "metadata": {},
   "outputs": [],
   "source": [
    "class BankAccount: \n",
    "    def __init__(self,Account,Account_Number,Balance):\n",
    "        self.Account = Account\n",
    "        self.Account_Number = Account_Number\n",
    "        self.Balance = Balance\n",
    "\n",
    "    def deposit(self,deposit_amount):\n",
    "        self.deposit_amount = deposit_amount\n",
    "        print(\"Amount deposited in an account is\",self.deposit_amount)\n",
    "        self.Balance = self.Balance + self.deposit_amount\n",
    "        print(\"Total Balance is\",self.Balance)\n",
    "\n",
    "    def withdrawl(self,withdrawl_amount):\n",
    "        self.withdrawl_amount = withdrawl_amount\n",
    "        print(\"Amount withdrawl from your account is\",self.withdrawl_amount)\n",
    "        self.Balance = self.Balance - self.withdrawl_amount\n",
    "        print(\"Total Balance is\",self.Balance)\n",
    "\n",
    "    def total_balance(self):\n",
    "        print(f'Your bank account name is {self.Account}')\n",
    "        print(f'Your account number is {self.Account_Number}')\n",
    "        print(f'Total Balance is {self.Balance}')\n",
    "        "
   ]
  },
  {
   "cell_type": "code",
   "execution_count": 77,
   "id": "1a2d6f5e-b706-4730-b8f6-4ada1e4fa928",
   "metadata": {},
   "outputs": [],
   "source": [
    "o1 = BankAccount(\"Current\",919711890775,98932)"
   ]
  },
  {
   "cell_type": "code",
   "execution_count": 79,
   "id": "2aab9eff-84d7-4be8-8bd7-382602fd245d",
   "metadata": {},
   "outputs": [
    {
     "data": {
      "text/plain": [
       "<bound method BankAccount.total_balance of <__main__.BankAccount object at 0x000001B638F6FA10>>"
      ]
     },
     "execution_count": 79,
     "metadata": {},
     "output_type": "execute_result"
    }
   ],
   "source": [
    "o1.total_balance"
   ]
  },
  {
   "cell_type": "code",
   "execution_count": 81,
   "id": "fe23c7fd-88ad-4381-8430-3dcaf42496ba",
   "metadata": {},
   "outputs": [
    {
     "name": "stdout",
     "output_type": "stream",
     "text": [
      "Your bank account name is Current\n",
      "Your account number is 919711890775\n",
      "Total Balance is 98932\n"
     ]
    }
   ],
   "source": [
    "o1.total_balance()"
   ]
  },
  {
   "cell_type": "code",
   "execution_count": 83,
   "id": "05d017db-3d2a-4dab-9da5-33d7acae9dcc",
   "metadata": {},
   "outputs": [
    {
     "name": "stdout",
     "output_type": "stream",
     "text": [
      "Amount deposited in an account is 100\n",
      "Total Balance is 99032\n"
     ]
    }
   ],
   "source": [
    "o1.deposit(100)"
   ]
  },
  {
   "cell_type": "code",
   "execution_count": 85,
   "id": "92645f65-afcc-4826-9b1a-eb97cd5b6d10",
   "metadata": {},
   "outputs": [
    {
     "data": {
      "text/plain": [
       "<__main__.BankAccount at 0x1b638f6fa10>"
      ]
     },
     "execution_count": 85,
     "metadata": {},
     "output_type": "execute_result"
    }
   ],
   "source": [
    "o1"
   ]
  },
  {
   "cell_type": "code",
   "execution_count": 87,
   "id": "d754cf8a-3b98-46fc-880c-e9823c471be6",
   "metadata": {},
   "outputs": [
    {
     "name": "stdout",
     "output_type": "stream",
     "text": [
      "Your bank account name is Current\n",
      "Your account number is 919711890775\n",
      "Total Balance is 99032\n"
     ]
    }
   ],
   "source": [
    "o1.total_balance()"
   ]
  },
  {
   "cell_type": "code",
   "execution_count": 89,
   "id": "f84bcee2-b99b-4b79-8643-b40d3d6f88e9",
   "metadata": {},
   "outputs": [
    {
     "name": "stdout",
     "output_type": "stream",
     "text": [
      "Amount withdrawl from your account is 98931\n",
      "Total Balance is 101\n"
     ]
    }
   ],
   "source": [
    "o1.withdrawl(98931)"
   ]
  },
  {
   "cell_type": "code",
   "execution_count": 91,
   "id": "4c25e446-20f7-4a1a-8442-500c570e8ad1",
   "metadata": {},
   "outputs": [
    {
     "name": "stdout",
     "output_type": "stream",
     "text": [
      "Your bank account name is Current\n",
      "Your account number is 919711890775\n",
      "Total Balance is 101\n"
     ]
    }
   ],
   "source": [
    "o1.total_balance()"
   ]
  },
  {
   "cell_type": "code",
   "execution_count": null,
   "id": "38006b5b-4859-4318-aa48-f12559fd1ebb",
   "metadata": {},
   "outputs": [],
   "source": [
    "#end of this lecture"
   ]
  },
  {
   "cell_type": "code",
   "execution_count": null,
   "id": "3486412b-ec90-44b7-b306-f38b4c7f41a9",
   "metadata": {},
   "outputs": [],
   "source": []
  }
 ],
 "metadata": {
  "kernelspec": {
   "display_name": "Python 3 (ipykernel)",
   "language": "python",
   "name": "python3"
  },
  "language_info": {
   "codemirror_mode": {
    "name": "ipython",
    "version": 3
   },
   "file_extension": ".py",
   "mimetype": "text/x-python",
   "name": "python",
   "nbconvert_exporter": "python",
   "pygments_lexer": "ipython3",
   "version": "3.12.4"
  }
 },
 "nbformat": 4,
 "nbformat_minor": 5
}
