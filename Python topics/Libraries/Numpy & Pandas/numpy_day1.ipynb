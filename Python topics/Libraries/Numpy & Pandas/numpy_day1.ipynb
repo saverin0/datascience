{
 "cells": [
  {
   "cell_type": "code",
   "execution_count": 38,
   "id": "e2b05828-b21e-4f8e-82cc-226ffd8aa15a",
   "metadata": {},
   "outputs": [],
   "source": [
    "import numpy as np"
   ]
  },
  {
   "cell_type": "code",
   "execution_count": 2,
   "id": "9d05805f-c549-4e87-ba8e-55bce577a82b",
   "metadata": {},
   "outputs": [],
   "source": [
    "l = [1,2,3,4,4]"
   ]
  },
  {
   "cell_type": "code",
   "execution_count": 3,
   "id": "5ef3f33f-60f3-4f04-9d89-711243403988",
   "metadata": {},
   "outputs": [
    {
     "data": {
      "text/plain": [
       "list"
      ]
     },
     "execution_count": 3,
     "metadata": {},
     "output_type": "execute_result"
    }
   ],
   "source": [
    "type(l)"
   ]
  },
  {
   "cell_type": "code",
   "execution_count": 4,
   "id": "d74e72c8-0974-4abb-849f-d8149c59cce5",
   "metadata": {},
   "outputs": [],
   "source": [
    "a = np.array(l)"
   ]
  },
  {
   "cell_type": "code",
   "execution_count": 5,
   "id": "3a5b0253-d184-491d-adcd-e6c1e3ab8820",
   "metadata": {},
   "outputs": [
    {
     "data": {
      "text/plain": [
       "numpy.ndarray"
      ]
     },
     "execution_count": 5,
     "metadata": {},
     "output_type": "execute_result"
    }
   ],
   "source": [
    "type(a)"
   ]
  },
  {
   "cell_type": "code",
   "execution_count": 6,
   "id": "a566dce0-cff8-49f8-8fb0-e218303f1709",
   "metadata": {},
   "outputs": [
    {
     "data": {
      "text/plain": [
       "array([1, 2, 3, 4, 4])"
      ]
     },
     "execution_count": 6,
     "metadata": {},
     "output_type": "execute_result"
    }
   ],
   "source": [
    "a"
   ]
  },
  {
   "cell_type": "code",
   "execution_count": 19,
   "id": "8f6a109c-5f07-4a0a-9799-8ce1a4013de8",
   "metadata": {},
   "outputs": [],
   "source": [
    "a1 = np.array([[1,2,3] , [3,4,5]])"
   ]
  },
  {
   "cell_type": "code",
   "execution_count": 20,
   "id": "22949f48-e3ba-4d82-8d3e-7ae26c08a010",
   "metadata": {},
   "outputs": [
    {
     "data": {
      "text/plain": [
       "array([[1, 2, 3],\n",
       "       [3, 4, 5]])"
      ]
     },
     "execution_count": 20,
     "metadata": {},
     "output_type": "execute_result"
    }
   ],
   "source": [
    "a1"
   ]
  },
  {
   "cell_type": "code",
   "execution_count": 21,
   "id": "f3998770-3f2b-41ee-88b4-65d6b805cd45",
   "metadata": {},
   "outputs": [
    {
     "name": "stderr",
     "output_type": "stream",
     "text": [
      "/tmp/ipykernel_2182/941740587.py:1: VisibleDeprecationWarning: Creating an ndarray from ragged nested sequences (which is a list-or-tuple of lists-or-tuples-or ndarrays with different lengths or shapes) is deprecated. If you meant to do this, you must specify 'dtype=object' when creating the ndarray.\n",
      "  a111 = np.array([[1,2,3],[3,4,5,5]])\n"
     ]
    }
   ],
   "source": [
    "a111 = np.array([[1,2,3],[3,4,5,5]])"
   ]
  },
  {
   "cell_type": "code",
   "execution_count": 22,
   "id": "c5da131e-8683-4b15-9506-1d8c831bddd5",
   "metadata": {},
   "outputs": [],
   "source": [
    "a2 = np.array([[[1,2,3],[4,.5,6]]])"
   ]
  },
  {
   "cell_type": "code",
   "execution_count": 23,
   "id": "ebd9c083-4df3-45a7-ad9c-ccd48543b5e0",
   "metadata": {},
   "outputs": [
    {
     "data": {
      "text/plain": [
       "array([[[1. , 2. , 3. ],\n",
       "        [4. , 0.5, 6. ]]])"
      ]
     },
     "execution_count": 23,
     "metadata": {},
     "output_type": "execute_result"
    }
   ],
   "source": [
    "a2"
   ]
  },
  {
   "cell_type": "code",
   "execution_count": 24,
   "id": "b1100c38-2910-4bfe-9817-e56be4f1d4d3",
   "metadata": {},
   "outputs": [
    {
     "data": {
      "text/plain": [
       "array([[1, 2, 3],\n",
       "       [3, 4, 5]])"
      ]
     },
     "execution_count": 24,
     "metadata": {},
     "output_type": "execute_result"
    }
   ],
   "source": [
    "a1"
   ]
  },
  {
   "cell_type": "code",
   "execution_count": 25,
   "id": "b68cb8eb-39ec-4966-9889-a412531c3a82",
   "metadata": {},
   "outputs": [
    {
     "data": {
      "text/plain": [
       "array([1, 2, 3, 4, 4])"
      ]
     },
     "execution_count": 25,
     "metadata": {},
     "output_type": "execute_result"
    }
   ],
   "source": [
    "a"
   ]
  },
  {
   "cell_type": "code",
   "execution_count": 26,
   "id": "991aa6d3-4f47-4954-8abc-8610e666b05e",
   "metadata": {},
   "outputs": [
    {
     "data": {
      "text/plain": [
       "array([[1, 2, 3],\n",
       "       [3, 4, 5]])"
      ]
     },
     "execution_count": 26,
     "metadata": {},
     "output_type": "execute_result"
    }
   ],
   "source": [
    "a1"
   ]
  },
  {
   "cell_type": "code",
   "execution_count": 27,
   "id": "fd3dc725-1ab0-420b-b4ca-6d0a4c6139e0",
   "metadata": {},
   "outputs": [
    {
     "data": {
      "text/plain": [
       "array([[[1. , 2. , 3. ],\n",
       "        [4. , 0.5, 6. ]]])"
      ]
     },
     "execution_count": 27,
     "metadata": {},
     "output_type": "execute_result"
    }
   ],
   "source": [
    "a2"
   ]
  },
  {
   "cell_type": "code",
   "execution_count": 28,
   "id": "dad72642-520a-4182-b934-8b544ec4f2ee",
   "metadata": {},
   "outputs": [
    {
     "data": {
      "text/plain": [
       "1"
      ]
     },
     "execution_count": 28,
     "metadata": {},
     "output_type": "execute_result"
    }
   ],
   "source": [
    "a.ndim"
   ]
  },
  {
   "cell_type": "code",
   "execution_count": 29,
   "id": "890c7039-8cd0-425f-8e4e-29f296e30994",
   "metadata": {},
   "outputs": [
    {
     "data": {
      "text/plain": [
       "2"
      ]
     },
     "execution_count": 29,
     "metadata": {},
     "output_type": "execute_result"
    }
   ],
   "source": [
    "a1.ndim"
   ]
  },
  {
   "cell_type": "code",
   "execution_count": 31,
   "id": "f77cdcee-4365-4379-99a7-9d171e6116f5",
   "metadata": {},
   "outputs": [
    {
     "data": {
      "text/plain": [
       "3"
      ]
     },
     "execution_count": 31,
     "metadata": {},
     "output_type": "execute_result"
    }
   ],
   "source": [
    "a2.ndim"
   ]
  },
  {
   "cell_type": "code",
   "execution_count": 32,
   "id": "af4f951c-0ddf-42d4-92b8-eed0671ad4c5",
   "metadata": {},
   "outputs": [],
   "source": [
    "a3 = np.array([[[1,2,3],[4,.5,6]],[[1,2,3],[4,.5,6]],[[1,2,3],[4,.5,6]]])"
   ]
  },
  {
   "cell_type": "code",
   "execution_count": 33,
   "id": "bb64200b-b1dc-4dda-b3c0-6e2d97c9eec7",
   "metadata": {},
   "outputs": [
    {
     "data": {
      "text/plain": [
       "array([[[1. , 2. , 3. ],\n",
       "        [4. , 0.5, 6. ]],\n",
       "\n",
       "       [[1. , 2. , 3. ],\n",
       "        [4. , 0.5, 6. ]],\n",
       "\n",
       "       [[1. , 2. , 3. ],\n",
       "        [4. , 0.5, 6. ]]])"
      ]
     },
     "execution_count": 33,
     "metadata": {},
     "output_type": "execute_result"
    }
   ],
   "source": [
    "a3"
   ]
  },
  {
   "cell_type": "code",
   "execution_count": 34,
   "id": "e4dc7bcc-5673-4320-a6db-994bbdff55e0",
   "metadata": {},
   "outputs": [
    {
     "data": {
      "text/plain": [
       "3"
      ]
     },
     "execution_count": 34,
     "metadata": {},
     "output_type": "execute_result"
    }
   ],
   "source": [
    "a3.ndim"
   ]
  },
  {
   "cell_type": "code",
   "execution_count": 35,
   "id": "af7cc2ff-9337-4bae-b565-ea8ca50f2ddf",
   "metadata": {},
   "outputs": [],
   "source": [
    "l = [1,2,3,4]"
   ]
  },
  {
   "cell_type": "code",
   "execution_count": 36,
   "id": "dc47204d-ce8d-4b24-8336-54056184b250",
   "metadata": {},
   "outputs": [
    {
     "data": {
      "text/plain": [
       "array([1, 2, 3, 4])"
      ]
     },
     "execution_count": 36,
     "metadata": {},
     "output_type": "execute_result"
    }
   ],
   "source": [
    "np.asarray(l)"
   ]
  },
  {
   "cell_type": "code",
   "execution_count": 45,
   "id": "beb3e483-9bba-4f29-ab4b-c08b2412fc10",
   "metadata": {},
   "outputs": [
    {
     "data": {
      "text/plain": [
       "matrix([[1, 2, 3, 4]])"
      ]
     },
     "execution_count": 45,
     "metadata": {},
     "output_type": "execute_result"
    }
   ],
   "source": [
    "np.matrix([[1,2,3,4]]) #it can be minimium 2d"
   ]
  },
  {
   "cell_type": "code",
   "execution_count": 40,
   "id": "51203fec-2fa6-461c-b7e5-41c3bc90a5f4",
   "metadata": {},
   "outputs": [],
   "source": [
    "a = np.asarray(l)"
   ]
  },
  {
   "cell_type": "code",
   "execution_count": 42,
   "id": "1416922e-9f62-4c46-b5d9-9b54c173f797",
   "metadata": {},
   "outputs": [],
   "source": [
    "b = np.matrix(l)"
   ]
  },
  {
   "cell_type": "code",
   "execution_count": 43,
   "id": "75b71570-9d05-444e-8f46-e89055554d98",
   "metadata": {},
   "outputs": [
    {
     "data": {
      "text/plain": [
       "array([1, 2, 3, 4])"
      ]
     },
     "execution_count": 43,
     "metadata": {},
     "output_type": "execute_result"
    }
   ],
   "source": [
    "np.asanyarray(a)"
   ]
  },
  {
   "cell_type": "code",
   "execution_count": 44,
   "id": "57c28344-3abc-4903-a7cf-4da9582a46bc",
   "metadata": {},
   "outputs": [
    {
     "data": {
      "text/plain": [
       "matrix([[1, 2, 3, 4]])"
      ]
     },
     "execution_count": 44,
     "metadata": {},
     "output_type": "execute_result"
    }
   ],
   "source": [
    "np.asanyarray(b)"
   ]
  },
  {
   "cell_type": "code",
   "execution_count": 46,
   "id": "aed3a87c-9017-4cff-bcaa-7d3026bc897e",
   "metadata": {},
   "outputs": [
    {
     "data": {
      "text/plain": [
       "array([1, 2, 3, 4])"
      ]
     },
     "execution_count": 46,
     "metadata": {},
     "output_type": "execute_result"
    }
   ],
   "source": [
    "a"
   ]
  },
  {
   "cell_type": "code",
   "execution_count": 86,
   "id": "d861b75e-eaad-4e87-b94c-78d93df8a909",
   "metadata": {},
   "outputs": [],
   "source": [
    "a1 = a #this is example of shallow copy"
   ]
  },
  {
   "cell_type": "code",
   "execution_count": 73,
   "id": "137201bc-2bb3-4f74-a1ee-bff5d939383e",
   "metadata": {},
   "outputs": [
    {
     "data": {
      "text/plain": [
       "array([10,  2,  3, 50])"
      ]
     },
     "execution_count": 73,
     "metadata": {},
     "output_type": "execute_result"
    }
   ],
   "source": [
    "a1"
   ]
  },
  {
   "cell_type": "code",
   "execution_count": 74,
   "id": "2e30daa3-b66d-4eb3-a799-88b658996153",
   "metadata": {},
   "outputs": [
    {
     "data": {
      "text/plain": [
       "10"
      ]
     },
     "execution_count": 74,
     "metadata": {},
     "output_type": "execute_result"
    }
   ],
   "source": [
    "a[0]"
   ]
  },
  {
   "cell_type": "code",
   "execution_count": 75,
   "id": "f357760a-4f40-4e01-806a-ad582d9051ba",
   "metadata": {},
   "outputs": [
    {
     "data": {
      "text/plain": [
       "10"
      ]
     },
     "execution_count": 75,
     "metadata": {},
     "output_type": "execute_result"
    }
   ],
   "source": [
    "a1[0]"
   ]
  },
  {
   "cell_type": "code",
   "execution_count": 76,
   "id": "7e829fb2-7000-42b8-8c0d-cda802406610",
   "metadata": {},
   "outputs": [],
   "source": [
    "a[0] = 10"
   ]
  },
  {
   "cell_type": "code",
   "execution_count": 77,
   "id": "046db412-c249-412c-ad97-37f97a81bf54",
   "metadata": {},
   "outputs": [
    {
     "data": {
      "text/plain": [
       "array([10,  2,  3, 50])"
      ]
     },
     "execution_count": 77,
     "metadata": {},
     "output_type": "execute_result"
    }
   ],
   "source": [
    "a"
   ]
  },
  {
   "cell_type": "code",
   "execution_count": 78,
   "id": "2cb2d69e-6004-4509-8f46-f23f5dcb529d",
   "metadata": {},
   "outputs": [
    {
     "data": {
      "text/plain": [
       "array([10,  2,  3, 50])"
      ]
     },
     "execution_count": 78,
     "metadata": {},
     "output_type": "execute_result"
    }
   ],
   "source": [
    "a1"
   ]
  },
  {
   "cell_type": "code",
   "execution_count": 79,
   "id": "194402cb-bf1d-4d66-8617-4aff8c22a377",
   "metadata": {},
   "outputs": [
    {
     "data": {
      "text/plain": [
       "50"
      ]
     },
     "execution_count": 79,
     "metadata": {},
     "output_type": "execute_result"
    }
   ],
   "source": [
    "a1[3]"
   ]
  },
  {
   "cell_type": "code",
   "execution_count": 80,
   "id": "0b38ce44-c8e6-4a9d-bdb2-f196bcca5ded",
   "metadata": {},
   "outputs": [],
   "source": [
    "a1[3] = 50"
   ]
  },
  {
   "cell_type": "code",
   "execution_count": 81,
   "id": "37271b7e-a599-4490-94aa-d633fe5787f9",
   "metadata": {},
   "outputs": [
    {
     "data": {
      "text/plain": [
       "array([10,  2,  3, 50])"
      ]
     },
     "execution_count": 81,
     "metadata": {},
     "output_type": "execute_result"
    }
   ],
   "source": [
    "a1"
   ]
  },
  {
   "cell_type": "code",
   "execution_count": 82,
   "id": "4a3444de-85df-4a5b-9b67-fe19ee92b237",
   "metadata": {},
   "outputs": [
    {
     "data": {
      "text/plain": [
       "array([10,  2,  3, 50])"
      ]
     },
     "execution_count": 82,
     "metadata": {},
     "output_type": "execute_result"
    }
   ],
   "source": [
    "a"
   ]
  },
  {
   "cell_type": "code",
   "execution_count": 83,
   "id": "d130d25b-d44a-4af4-b2b0-5b36e0543753",
   "metadata": {},
   "outputs": [],
   "source": [
    "a2 = np.copy(a) #it doesn't reflect value changes of a2 in a this is example of deep copy"
   ]
  },
  {
   "cell_type": "code",
   "execution_count": 84,
   "id": "89946ab9-2de1-4490-8c08-18417b6863d1",
   "metadata": {},
   "outputs": [
    {
     "data": {
      "text/plain": [
       "array([10,  2,  3, 50])"
      ]
     },
     "execution_count": 84,
     "metadata": {},
     "output_type": "execute_result"
    }
   ],
   "source": [
    "a2"
   ]
  },
  {
   "cell_type": "code",
   "execution_count": 85,
   "id": "7d69a9c2-9822-4904-bb06-6ac37df93e40",
   "metadata": {},
   "outputs": [
    {
     "data": {
      "text/plain": [
       "3"
      ]
     },
     "execution_count": 85,
     "metadata": {},
     "output_type": "execute_result"
    }
   ],
   "source": [
    "a2[2] "
   ]
  },
  {
   "cell_type": "code",
   "execution_count": 68,
   "id": "73f5ae7b-7ef2-4fd4-b728-e6595596af35",
   "metadata": {},
   "outputs": [],
   "source": [
    "a2[2] = 30"
   ]
  },
  {
   "cell_type": "code",
   "execution_count": 69,
   "id": "72a354fb-1a82-4b52-a73e-8957f46223a2",
   "metadata": {},
   "outputs": [
    {
     "data": {
      "text/plain": [
       "array([10,  2, 30, 50])"
      ]
     },
     "execution_count": 69,
     "metadata": {},
     "output_type": "execute_result"
    }
   ],
   "source": [
    "a2"
   ]
  },
  {
   "cell_type": "code",
   "execution_count": 70,
   "id": "8c9a9eac-0515-4ea1-b344-7f0bef41188a",
   "metadata": {},
   "outputs": [
    {
     "data": {
      "text/plain": [
       "array([10,  2,  3, 50])"
      ]
     },
     "execution_count": 70,
     "metadata": {},
     "output_type": "execute_result"
    }
   ],
   "source": [
    "a1"
   ]
  },
  {
   "cell_type": "code",
   "execution_count": 71,
   "id": "0689393b-0fb6-4177-aca8-679107cf3086",
   "metadata": {},
   "outputs": [
    {
     "data": {
      "text/plain": [
       "array([10,  2,  3, 50])"
      ]
     },
     "execution_count": 71,
     "metadata": {},
     "output_type": "execute_result"
    }
   ],
   "source": [
    "a"
   ]
  },
  {
   "cell_type": "code",
   "execution_count": 88,
   "id": "e28e5acf-20a6-4644-9f7b-a87b20f545b9",
   "metadata": {},
   "outputs": [
    {
     "data": {
      "text/plain": [
       "array([[ True, False, False, False],\n",
       "       [False,  True, False, False],\n",
       "       [False, False,  True, False]])"
      ]
     },
     "execution_count": 88,
     "metadata": {},
     "output_type": "execute_result"
    }
   ],
   "source": [
    "np.fromfunction(lambda i,j : i == j, (3,4))"
   ]
  },
  {
   "cell_type": "code",
   "execution_count": 89,
   "id": "73c6c8b9-3522-4f16-8daa-61f59eb38c6c",
   "metadata": {},
   "outputs": [
    {
     "ename": "TypeError",
     "evalue": "<lambda>() takes 2 positional arguments but 3 were given",
     "output_type": "error",
     "traceback": [
      "\u001b[0;31m---------------------------------------------------------------------------\u001b[0m",
      "\u001b[0;31mTypeError\u001b[0m                                 Traceback (most recent call last)",
      "Cell \u001b[0;32mIn[89], line 1\u001b[0m\n\u001b[0;32m----> 1\u001b[0m \u001b[43mnp\u001b[49m\u001b[38;5;241;43m.\u001b[39;49m\u001b[43mfromfunction\u001b[49m\u001b[43m(\u001b[49m\u001b[38;5;28;43;01mlambda\u001b[39;49;00m\u001b[43m \u001b[49m\u001b[43mi\u001b[49m\u001b[43m,\u001b[49m\u001b[43mj\u001b[49m\u001b[43m \u001b[49m\u001b[43m:\u001b[49m\u001b[43m \u001b[49m\u001b[43mi\u001b[49m\u001b[43m \u001b[49m\u001b[38;5;241;43m==\u001b[39;49m\u001b[43m \u001b[49m\u001b[43mj\u001b[49m\u001b[43m \u001b[49m\u001b[38;5;241;43m==\u001b[39;49m\u001b[43m \u001b[49m\u001b[43mk\u001b[49m\u001b[43m,\u001b[49m\u001b[43m \u001b[49m\u001b[43m(\u001b[49m\u001b[38;5;241;43m3\u001b[39;49m\u001b[43m,\u001b[49m\u001b[38;5;241;43m4\u001b[39;49m\u001b[43m,\u001b[49m\u001b[38;5;241;43m5\u001b[39;49m\u001b[43m)\u001b[49m\u001b[43m)\u001b[49m\n",
      "File \u001b[0;32m/opt/conda/lib/python3.10/site-packages/numpy/core/numeric.py:1861\u001b[0m, in \u001b[0;36mfromfunction\u001b[0;34m(function, shape, dtype, like, **kwargs)\u001b[0m\n\u001b[1;32m   1858\u001b[0m     \u001b[38;5;28;01mreturn\u001b[39;00m _fromfunction_with_like(function, shape, dtype\u001b[38;5;241m=\u001b[39mdtype, like\u001b[38;5;241m=\u001b[39mlike, \u001b[38;5;241m*\u001b[39m\u001b[38;5;241m*\u001b[39mkwargs)\n\u001b[1;32m   1860\u001b[0m args \u001b[38;5;241m=\u001b[39m indices(shape, dtype\u001b[38;5;241m=\u001b[39mdtype)\n\u001b[0;32m-> 1861\u001b[0m \u001b[38;5;28;01mreturn\u001b[39;00m \u001b[43mfunction\u001b[49m\u001b[43m(\u001b[49m\u001b[38;5;241;43m*\u001b[39;49m\u001b[43margs\u001b[49m\u001b[43m,\u001b[49m\u001b[43m \u001b[49m\u001b[38;5;241;43m*\u001b[39;49m\u001b[38;5;241;43m*\u001b[39;49m\u001b[43mkwargs\u001b[49m\u001b[43m)\u001b[49m\n",
      "\u001b[0;31mTypeError\u001b[0m: <lambda>() takes 2 positional arguments but 3 were given"
     ]
    }
   ],
   "source": [
    "np.fromfunction(lambda i,j : i == j == k, (3,4,5)) #not works for 3d only 2d"
   ]
  },
  {
   "cell_type": "code",
   "execution_count": 90,
   "id": "5841b6e4-5c7a-4af8-be55-323f659ee62f",
   "metadata": {},
   "outputs": [
    {
     "data": {
      "text/plain": [
       "array([[ True, False, False, False],\n",
       "       [False,  True, False, False],\n",
       "       [False, False,  True, False]])"
      ]
     },
     "execution_count": 90,
     "metadata": {},
     "output_type": "execute_result"
    }
   ],
   "source": [
    "np.fromfunction(lambda i,j : i == j, (3,4))"
   ]
  },
  {
   "cell_type": "code",
   "execution_count": 91,
   "id": "77cb9726-db0b-4273-b8cf-729b3829fd94",
   "metadata": {},
   "outputs": [
    {
     "data": {
      "text/plain": [
       "array([[0.89817266, 0.23744707, 0.88847457],\n",
       "       [0.55147131, 0.32552828, 0.33328621]])"
      ]
     },
     "execution_count": 91,
     "metadata": {},
     "output_type": "execute_result"
    }
   ],
   "source": [
    "np.random.rand(2,3)"
   ]
  },
  {
   "cell_type": "code",
   "execution_count": 93,
   "id": "df157c58-b526-41c1-af2a-7af5ed637798",
   "metadata": {},
   "outputs": [
    {
     "data": {
      "text/plain": [
       "array([[[0.41468269, 0.6679955 ],\n",
       "        [0.34987182, 0.37679207],\n",
       "        [0.41117226, 0.72758806]],\n",
       "\n",
       "       [[0.76485144, 0.70574483],\n",
       "        [0.39116634, 0.27933347],\n",
       "        [0.17783858, 0.41259988]]])"
      ]
     },
     "execution_count": 93,
     "metadata": {},
     "output_type": "execute_result"
    }
   ],
   "source": [
    "np.random.rand(2,3,2)  # 3x2 matrix (middle,last) , how many matrix it will generate is 2 (first)"
   ]
  },
  {
   "cell_type": "code",
   "execution_count": 94,
   "id": "94fc2a48-d952-49a0-b167-f097e87a248f",
   "metadata": {},
   "outputs": [
    {
     "data": {
      "text/plain": [
       "array([[[[0.30266876, 0.46332881],\n",
       "         [0.16697827, 0.84628315]],\n",
       "\n",
       "        [[0.39252873, 0.33396378],\n",
       "         [0.16889532, 0.62842231]],\n",
       "\n",
       "        [[0.92734856, 0.45346504],\n",
       "         [0.64553873, 0.77664505]]],\n",
       "\n",
       "\n",
       "       [[[0.92712015, 0.16936018],\n",
       "         [0.1816556 , 0.97087315]],\n",
       "\n",
       "        [[0.70327764, 0.75909052],\n",
       "         [0.8454553 , 0.0261341 ]],\n",
       "\n",
       "        [[0.87741312, 0.10434838],\n",
       "         [0.47930305, 0.36452157]]]])"
      ]
     },
     "execution_count": 94,
     "metadata": {},
     "output_type": "execute_result"
    }
   ],
   "source": [
    "np.random.rand(2,3,2,2)  "
   ]
  },
  {
   "cell_type": "code",
   "execution_count": 95,
   "id": "fde828b2-763a-48ce-8949-8e721925af9a",
   "metadata": {},
   "outputs": [
    {
     "data": {
      "text/plain": [
       "array([[[0.76352602, 0.81567304, 0.73030345, 0.26516095],\n",
       "        [0.87184858, 0.46238155, 0.78227007, 0.17379254],\n",
       "        [0.38869291, 0.26544361, 0.87317652, 0.42176843],\n",
       "        [0.95821557, 0.42678477, 0.67809941, 0.1039218 ]],\n",
       "\n",
       "       [[0.92243271, 0.11965284, 0.12994578, 0.29257101],\n",
       "        [0.24816065, 0.68835038, 0.15204434, 0.94140075],\n",
       "        [0.04857778, 0.95202973, 0.92633963, 0.76784406],\n",
       "        [0.61717596, 0.95841005, 0.72334289, 0.142238  ]]])"
      ]
     },
     "execution_count": 95,
     "metadata": {},
     "output_type": "execute_result"
    }
   ],
   "source": [
    "np.random.rand(2,4,4)  "
   ]
  },
  {
   "cell_type": "code",
   "execution_count": 96,
   "id": "d39cf967-f7f2-424c-928b-d385fe079fe8",
   "metadata": {},
   "outputs": [
    {
     "data": {
      "image/png": "[encoded data removed]",
      "text/plain": [
       "<Figure size 640x480 with 2 Axes>"
      ]
     },
     "metadata": {},
     "output_type": "display_data"
    }
   ],
   "source": [
    "import numpy as np\n",
    "import matplotlib.pyplot as plt\n",
    "\n",
    "# Generate the random array\n",
    "data = np.random.rand(2, 3, 2, 2)\n",
    "\n",
    "# Flatten the array for visualization\n",
    "flattened_data = data.reshape(-1, 2)\n",
    "\n",
    "# Create a heatmap\n",
    "plt.imshow(flattened_data, cmap='viridis', aspect='auto')\n",
    "plt.colorbar()\n",
    "plt.title('Heatmap of Random Values')\n",
    "plt.show()"
   ]
  },
  {
   "cell_type": "code",
   "execution_count": 97,
   "id": "3e204672-f1fb-410c-88f4-e1ff46d649df",
   "metadata": {},
   "outputs": [
    {
     "data": {
      "text/plain": [
       "array([[[0.40515576, 0.30862524, 0.93472425, 0.54751111],\n",
       "        [0.861154  , 0.86523924, 0.8117893 , 0.13774926],\n",
       "        [0.5330947 , 0.29788578, 0.83552328, 0.70529813],\n",
       "        [0.86913374, 0.27838438, 0.27309998, 0.17493719]],\n",
       "\n",
       "       [[0.37929451, 0.77696831, 0.08674569, 0.94688923],\n",
       "        [0.78911691, 0.32912183, 0.90119326, 0.6631421 ],\n",
       "        [0.1071125 , 0.55072911, 0.28197988, 0.13042641],\n",
       "        [0.4672837 , 0.76535595, 0.71369168, 0.52601755]],\n",
       "\n",
       "       [[0.43868618, 0.63570318, 0.48797689, 0.7075652 ],\n",
       "        [0.37852592, 0.02374607, 0.27375364, 0.28669254],\n",
       "        [0.31143917, 0.68178124, 0.96226105, 0.31440279],\n",
       "        [0.78668473, 0.33438834, 0.23869009, 0.03234444]]])"
      ]
     },
     "execution_count": 97,
     "metadata": {},
     "output_type": "execute_result"
    }
   ],
   "source": [
    "np.random.rand(3,4,4)"
   ]
  },
  {
   "cell_type": "code",
   "execution_count": 99,
   "id": "6248901c-be5b-401b-a77d-463498997752",
   "metadata": {},
   "outputs": [
    {
     "data": {
      "text/plain": [
       "array([[[[0.26520542, 0.6143882 , 0.57821569, 0.80375144],\n",
       "         [0.51192582, 0.42371514, 0.61554857, 0.73572058],\n",
       "         [0.27919681, 0.8257611 , 0.58499625, 0.3057621 ]],\n",
       "\n",
       "        [[0.81764856, 0.12073152, 0.83765712, 0.18481766],\n",
       "         [0.62980838, 0.24935662, 0.03878589, 0.24444701],\n",
       "         [0.54326387, 0.70844079, 0.96773969, 0.27363466]]],\n",
       "\n",
       "\n",
       "       [[[0.28812495, 0.41265653, 0.69680368, 0.97901607],\n",
       "         [0.63311362, 0.55050173, 0.19089863, 0.22225078],\n",
       "         [0.02813609, 0.46194414, 0.65216831, 0.56119094]],\n",
       "\n",
       "        [[0.87393903, 0.96249323, 0.15960886, 0.01734649],\n",
       "         [0.46770019, 0.7006112 , 0.08198476, 0.87343688],\n",
       "         [0.87225069, 0.26693364, 0.72154179, 0.82274785]]]])"
      ]
     },
     "execution_count": 99,
     "metadata": {},
     "output_type": "execute_result"
    }
   ],
   "source": [
    "np.random.rand(2,2,3,4)"
   ]
  },
  {
   "cell_type": "code",
   "execution_count": 102,
   "id": "978d5897-3848-4077-b55e-9dba98178085",
   "metadata": {},
   "outputs": [
    {
     "data": {
      "text/plain": [
       "array([[[ 0.85761617, -0.4417362 , -0.54852626, -1.7973627 ],\n",
       "        [-1.91735659, -0.87150105, -0.16059238,  1.73567818],\n",
       "        [-0.21994189,  1.60067243, -2.42702566, -0.31607448],\n",
       "        [-0.41947124, -0.61817105,  0.00801117, -0.9604162 ]],\n",
       "\n",
       "       [[ 0.37253174, -0.94970559,  0.40140048,  0.18636556],\n",
       "        [ 0.60236242, -0.09303716,  0.01266194, -0.40334734],\n",
       "        [-1.42497517,  0.27172969,  0.91138493, -0.73707935],\n",
       "        [-0.78176994, -2.06718681, -0.85319836,  0.86807367]],\n",
       "\n",
       "       [[-1.4614279 ,  0.70898397, -0.05595074,  0.03735859],\n",
       "        [ 0.615361  ,  2.74347343,  1.47277279, -0.00407512],\n",
       "        [ 0.50478378,  0.74698077, -0.89811664, -0.01562574],\n",
       "        [-1.51100448, -0.61802903, -0.3612296 , -0.08334131]]])"
      ]
     },
     "execution_count": 102,
     "metadata": {},
     "output_type": "execute_result"
    }
   ],
   "source": [
    "np.random.randn(3,4,4)  #mean going to be zero and standard deviation going to be 1 "
   ]
  },
  {
   "cell_type": "code",
   "execution_count": 103,
   "id": "145e4b3f-0fcb-4f93-a202-fd252aa2985c",
   "metadata": {},
   "outputs": [
    {
     "data": {
      "text/plain": [
       "array([3, 3, 3, 3])"
      ]
     },
     "execution_count": 103,
     "metadata": {},
     "output_type": "execute_result"
    }
   ],
   "source": [
    "np.random.randint(3,4,4)"
   ]
  },
  {
   "cell_type": "code",
   "execution_count": 104,
   "id": "0036a30d-beb1-4728-8827-fc67e9ffcd6f",
   "metadata": {},
   "outputs": [
    {
     "data": {
      "text/plain": [
       "array([[9, 8, 7, 8],\n",
       "       [6, 3, 1, 2],\n",
       "       [0, 0, 0, 8],\n",
       "       [1, 1, 0, 7]])"
      ]
     },
     "execution_count": 104,
     "metadata": {},
     "output_type": "execute_result"
    }
   ],
   "source": [
    "np.random.randint(0,10,(4,4))"
   ]
  },
  {
   "cell_type": "code",
   "execution_count": 105,
   "id": "a22ee763-360d-44fe-b095-d5fdc324426a",
   "metadata": {},
   "outputs": [
    {
     "data": {
      "text/plain": [
       "array([[[4, 1],\n",
       "        [1, 5],\n",
       "        [7, 9],\n",
       "        [8, 6]],\n",
       "\n",
       "       [[3, 7],\n",
       "        [9, 8],\n",
       "        [6, 0],\n",
       "        [3, 3]],\n",
       "\n",
       "       [[3, 7],\n",
       "        [2, 1],\n",
       "        [4, 7],\n",
       "        [2, 5]],\n",
       "\n",
       "       [[3, 1],\n",
       "        [0, 7],\n",
       "        [2, 8],\n",
       "        [2, 5]]])"
      ]
     },
     "execution_count": 105,
     "metadata": {},
     "output_type": "execute_result"
    }
   ],
   "source": [
    "np.random.randint(0,10,(4,4,2))"
   ]
  },
  {
   "cell_type": "code",
   "execution_count": 112,
   "id": "06044f40-dfc6-4df6-9a70-71e946be662d",
   "metadata": {},
   "outputs": [],
   "source": [
    "d = np.random.randn(3,4)"
   ]
  },
  {
   "cell_type": "code",
   "execution_count": 113,
   "id": "1792f3d6-efa2-4732-ac99-9262c98c942d",
   "metadata": {},
   "outputs": [
    {
     "data": {
      "text/plain": [
       "array([[ 1.04817553,  0.53872922, -0.13702159, -0.57495649],\n",
       "       [ 0.15176132, -0.24402762, -0.82378734, -0.00558356],\n",
       "       [ 0.94754274, -0.51581771,  0.36953004, -0.30380049]])"
      ]
     },
     "execution_count": 113,
     "metadata": {},
     "output_type": "execute_result"
    }
   ],
   "source": [
    "d"
   ]
  },
  {
   "cell_type": "code",
   "execution_count": 111,
   "id": "3ef059e2-fa14-49b4-a619-ad1f39eee058",
   "metadata": {},
   "outputs": [
    {
     "data": {
      "text/html": [
       "<div>\n",
       "<style scoped>\n",
       "    .dataframe tbody tr th:only-of-type {\n",
       "        vertical-align: middle;\n",
       "    }\n",
       "\n",
       "    .dataframe tbody tr th {\n",
       "        vertical-align: top;\n",
       "    }\n",
       "\n",
       "    .dataframe thead th {\n",
       "        text-align: right;\n",
       "    }\n",
       "</style>\n",
       "<table border=\"1\" class=\"dataframe\">\n",
       "  <thead>\n",
       "    <tr style=\"text-align: right;\">\n",
       "      <th></th>\n",
       "      <th>0</th>\n",
       "      <th>1</th>\n",
       "      <th>2</th>\n",
       "      <th>3</th>\n",
       "    </tr>\n",
       "  </thead>\n",
       "  <tbody>\n",
       "    <tr>\n",
       "      <th>0</th>\n",
       "      <td>-0.716223</td>\n",
       "      <td>1.017903</td>\n",
       "      <td>0.236461</td>\n",
       "      <td>0.103797</td>\n",
       "    </tr>\n",
       "    <tr>\n",
       "      <th>1</th>\n",
       "      <td>-1.493322</td>\n",
       "      <td>0.247792</td>\n",
       "      <td>0.022170</td>\n",
       "      <td>-0.783070</td>\n",
       "    </tr>\n",
       "    <tr>\n",
       "      <th>2</th>\n",
       "      <td>0.110193</td>\n",
       "      <td>0.433622</td>\n",
       "      <td>-0.739835</td>\n",
       "      <td>1.139969</td>\n",
       "    </tr>\n",
       "  </tbody>\n",
       "</table>\n",
       "</div>"
      ],
      "text/plain": [
       "          0         1         2         3\n",
       "0 -0.716223  1.017903  0.236461  0.103797\n",
       "1 -1.493322  0.247792  0.022170 -0.783070\n",
       "2  0.110193  0.433622 -0.739835  1.139969"
      ]
     },
     "execution_count": 111,
     "metadata": {},
     "output_type": "execute_result"
    }
   ],
   "source": [
    "import pandas as pd\n",
    "pd.DataFrame(d)"
   ]
  },
  {
   "cell_type": "code",
   "execution_count": 114,
   "id": "66f6adb7-ed79-4b79-9ce8-9c90c41599ed",
   "metadata": {},
   "outputs": [],
   "source": [
    "d1 = np.random.randint(0,10,(4,4,2))"
   ]
  },
  {
   "cell_type": "code",
   "execution_count": 115,
   "id": "4e043a1e-3ef8-4990-9a53-cc44cce10e2e",
   "metadata": {},
   "outputs": [
    {
     "ename": "ValueError",
     "evalue": "Must pass 2-d input. shape=(4, 4, 2)",
     "output_type": "error",
     "traceback": [
      "\u001b[0;31m---------------------------------------------------------------------------\u001b[0m",
      "\u001b[0;31mValueError\u001b[0m                                Traceback (most recent call last)",
      "Cell \u001b[0;32mIn[115], line 1\u001b[0m\n\u001b[0;32m----> 1\u001b[0m \u001b[43mpd\u001b[49m\u001b[38;5;241;43m.\u001b[39;49m\u001b[43mDataFrame\u001b[49m\u001b[43m(\u001b[49m\u001b[43md1\u001b[49m\u001b[43m)\u001b[49m\n",
      "File \u001b[0;32m/opt/conda/lib/python3.10/site-packages/pandas/core/frame.py:721\u001b[0m, in \u001b[0;36mDataFrame.__init__\u001b[0;34m(self, data, index, columns, dtype, copy)\u001b[0m\n\u001b[1;32m    711\u001b[0m         mgr \u001b[38;5;241m=\u001b[39m dict_to_mgr(\n\u001b[1;32m    712\u001b[0m             \u001b[38;5;66;03m# error: Item \"ndarray\" of \"Union[ndarray, Series, Index]\" has no\u001b[39;00m\n\u001b[1;32m    713\u001b[0m             \u001b[38;5;66;03m# attribute \"name\"\u001b[39;00m\n\u001b[0;32m   (...)\u001b[0m\n\u001b[1;32m    718\u001b[0m             typ\u001b[38;5;241m=\u001b[39mmanager,\n\u001b[1;32m    719\u001b[0m         )\n\u001b[1;32m    720\u001b[0m     \u001b[38;5;28;01melse\u001b[39;00m:\n\u001b[0;32m--> 721\u001b[0m         mgr \u001b[38;5;241m=\u001b[39m \u001b[43mndarray_to_mgr\u001b[49m\u001b[43m(\u001b[49m\n\u001b[1;32m    722\u001b[0m \u001b[43m            \u001b[49m\u001b[43mdata\u001b[49m\u001b[43m,\u001b[49m\n\u001b[1;32m    723\u001b[0m \u001b[43m            \u001b[49m\u001b[43mindex\u001b[49m\u001b[43m,\u001b[49m\n\u001b[1;32m    724\u001b[0m \u001b[43m            \u001b[49m\u001b[43mcolumns\u001b[49m\u001b[43m,\u001b[49m\n\u001b[1;32m    725\u001b[0m \u001b[43m            \u001b[49m\u001b[43mdtype\u001b[49m\u001b[38;5;241;43m=\u001b[39;49m\u001b[43mdtype\u001b[49m\u001b[43m,\u001b[49m\n\u001b[1;32m    726\u001b[0m \u001b[43m            \u001b[49m\u001b[43mcopy\u001b[49m\u001b[38;5;241;43m=\u001b[39;49m\u001b[43mcopy\u001b[49m\u001b[43m,\u001b[49m\n\u001b[1;32m    727\u001b[0m \u001b[43m            \u001b[49m\u001b[43mtyp\u001b[49m\u001b[38;5;241;43m=\u001b[39;49m\u001b[43mmanager\u001b[49m\u001b[43m,\u001b[49m\n\u001b[1;32m    728\u001b[0m \u001b[43m        \u001b[49m\u001b[43m)\u001b[49m\n\u001b[1;32m    730\u001b[0m \u001b[38;5;66;03m# For data is list-like, or Iterable (will consume into list)\u001b[39;00m\n\u001b[1;32m    731\u001b[0m \u001b[38;5;28;01melif\u001b[39;00m is_list_like(data):\n",
      "File \u001b[0;32m/opt/conda/lib/python3.10/site-packages/pandas/core/internals/construction.py:329\u001b[0m, in \u001b[0;36mndarray_to_mgr\u001b[0;34m(values, index, columns, dtype, copy, typ)\u001b[0m\n\u001b[1;32m    324\u001b[0m         values \u001b[38;5;241m=\u001b[39m values\u001b[38;5;241m.\u001b[39mreshape(\u001b[38;5;241m-\u001b[39m\u001b[38;5;241m1\u001b[39m, \u001b[38;5;241m1\u001b[39m)\n\u001b[1;32m    326\u001b[0m \u001b[38;5;28;01melse\u001b[39;00m:\n\u001b[1;32m    327\u001b[0m     \u001b[38;5;66;03m# by definition an array here\u001b[39;00m\n\u001b[1;32m    328\u001b[0m     \u001b[38;5;66;03m# the dtypes will be coerced to a single dtype\u001b[39;00m\n\u001b[0;32m--> 329\u001b[0m     values \u001b[38;5;241m=\u001b[39m \u001b[43m_prep_ndarraylike\u001b[49m\u001b[43m(\u001b[49m\u001b[43mvalues\u001b[49m\u001b[43m,\u001b[49m\u001b[43m \u001b[49m\u001b[43mcopy\u001b[49m\u001b[38;5;241;43m=\u001b[39;49m\u001b[43mcopy_on_sanitize\u001b[49m\u001b[43m)\u001b[49m\n\u001b[1;32m    331\u001b[0m \u001b[38;5;28;01mif\u001b[39;00m dtype \u001b[38;5;129;01mis\u001b[39;00m \u001b[38;5;129;01mnot\u001b[39;00m \u001b[38;5;28;01mNone\u001b[39;00m \u001b[38;5;129;01mand\u001b[39;00m \u001b[38;5;129;01mnot\u001b[39;00m is_dtype_equal(values\u001b[38;5;241m.\u001b[39mdtype, dtype):\n\u001b[1;32m    332\u001b[0m     \u001b[38;5;66;03m# GH#40110 see similar check inside sanitize_array\u001b[39;00m\n\u001b[1;32m    333\u001b[0m     rcf \u001b[38;5;241m=\u001b[39m \u001b[38;5;129;01mnot\u001b[39;00m (is_integer_dtype(dtype) \u001b[38;5;129;01mand\u001b[39;00m values\u001b[38;5;241m.\u001b[39mdtype\u001b[38;5;241m.\u001b[39mkind \u001b[38;5;241m==\u001b[39m \u001b[38;5;124m\"\u001b[39m\u001b[38;5;124mf\u001b[39m\u001b[38;5;124m\"\u001b[39m)\n",
      "File \u001b[0;32m/opt/conda/lib/python3.10/site-packages/pandas/core/internals/construction.py:583\u001b[0m, in \u001b[0;36m_prep_ndarraylike\u001b[0;34m(values, copy)\u001b[0m\n\u001b[1;32m    581\u001b[0m     values \u001b[38;5;241m=\u001b[39m values\u001b[38;5;241m.\u001b[39mreshape((values\u001b[38;5;241m.\u001b[39mshape[\u001b[38;5;241m0\u001b[39m], \u001b[38;5;241m1\u001b[39m))\n\u001b[1;32m    582\u001b[0m \u001b[38;5;28;01melif\u001b[39;00m values\u001b[38;5;241m.\u001b[39mndim \u001b[38;5;241m!=\u001b[39m \u001b[38;5;241m2\u001b[39m:\n\u001b[0;32m--> 583\u001b[0m     \u001b[38;5;28;01mraise\u001b[39;00m \u001b[38;5;167;01mValueError\u001b[39;00m(\u001b[38;5;124mf\u001b[39m\u001b[38;5;124m\"\u001b[39m\u001b[38;5;124mMust pass 2-d input. shape=\u001b[39m\u001b[38;5;132;01m{\u001b[39;00mvalues\u001b[38;5;241m.\u001b[39mshape\u001b[38;5;132;01m}\u001b[39;00m\u001b[38;5;124m\"\u001b[39m)\n\u001b[1;32m    585\u001b[0m \u001b[38;5;28;01mreturn\u001b[39;00m values\n",
      "\u001b[0;31mValueError\u001b[0m: Must pass 2-d input. shape=(4, 4, 2)"
     ]
    }
   ],
   "source": [
    "pd.DataFrame(d1)"
   ]
  },
  {
   "cell_type": "code",
   "execution_count": 116,
   "id": "46469df9-8b3f-45b8-89bc-5975f3494d50",
   "metadata": {},
   "outputs": [
    {
     "data": {
      "text/plain": [
       "array([[5, 2],\n",
       "       [1, 3],\n",
       "       [3, 8],\n",
       "       [7, 7],\n",
       "       [0, 3],\n",
       "       [6, 6],\n",
       "       [6, 3],\n",
       "       [7, 7],\n",
       "       [5, 2],\n",
       "       [4, 7],\n",
       "       [8, 0],\n",
       "       [2, 9],\n",
       "       [7, 0],\n",
       "       [5, 0],\n",
       "       [1, 9],\n",
       "       [9, 5]])"
      ]
     },
     "execution_count": 116,
     "metadata": {},
     "output_type": "execute_result"
    }
   ],
   "source": [
    "d1.reshape(16,2) #4x4x2 = 32  --> make it 16x2"
   ]
  },
  {
   "cell_type": "code",
   "execution_count": 123,
   "id": "4426026e-c6ee-4788-8e5c-dbed053248a4",
   "metadata": {},
   "outputs": [],
   "source": [
    "d11 = d1.reshape(8,4) #4x4x2 = 32  --> make it 16x2"
   ]
  },
  {
   "cell_type": "code",
   "execution_count": 124,
   "id": "75833efa-2c9d-4202-88f0-daef691a56e6",
   "metadata": {},
   "outputs": [
    {
     "data": {
      "text/html": [
       "<div>\n",
       "<style scoped>\n",
       "    .dataframe tbody tr th:only-of-type {\n",
       "        vertical-align: middle;\n",
       "    }\n",
       "\n",
       "    .dataframe tbody tr th {\n",
       "        vertical-align: top;\n",
       "    }\n",
       "\n",
       "    .dataframe thead th {\n",
       "        text-align: right;\n",
       "    }\n",
       "</style>\n",
       "<table border=\"1\" class=\"dataframe\">\n",
       "  <thead>\n",
       "    <tr style=\"text-align: right;\">\n",
       "      <th></th>\n",
       "      <th>0</th>\n",
       "      <th>1</th>\n",
       "      <th>2</th>\n",
       "      <th>3</th>\n",
       "    </tr>\n",
       "  </thead>\n",
       "  <tbody>\n",
       "    <tr>\n",
       "      <th>0</th>\n",
       "      <td>5</td>\n",
       "      <td>2</td>\n",
       "      <td>1</td>\n",
       "      <td>3</td>\n",
       "    </tr>\n",
       "    <tr>\n",
       "      <th>1</th>\n",
       "      <td>3</td>\n",
       "      <td>8</td>\n",
       "      <td>7</td>\n",
       "      <td>7</td>\n",
       "    </tr>\n",
       "    <tr>\n",
       "      <th>2</th>\n",
       "      <td>0</td>\n",
       "      <td>3</td>\n",
       "      <td>6</td>\n",
       "      <td>6</td>\n",
       "    </tr>\n",
       "    <tr>\n",
       "      <th>3</th>\n",
       "      <td>6</td>\n",
       "      <td>3</td>\n",
       "      <td>7</td>\n",
       "      <td>7</td>\n",
       "    </tr>\n",
       "    <tr>\n",
       "      <th>4</th>\n",
       "      <td>5</td>\n",
       "      <td>2</td>\n",
       "      <td>4</td>\n",
       "      <td>7</td>\n",
       "    </tr>\n",
       "    <tr>\n",
       "      <th>5</th>\n",
       "      <td>8</td>\n",
       "      <td>0</td>\n",
       "      <td>2</td>\n",
       "      <td>9</td>\n",
       "    </tr>\n",
       "    <tr>\n",
       "      <th>6</th>\n",
       "      <td>7</td>\n",
       "      <td>0</td>\n",
       "      <td>5</td>\n",
       "      <td>0</td>\n",
       "    </tr>\n",
       "    <tr>\n",
       "      <th>7</th>\n",
       "      <td>1</td>\n",
       "      <td>9</td>\n",
       "      <td>9</td>\n",
       "      <td>5</td>\n",
       "    </tr>\n",
       "  </tbody>\n",
       "</table>\n",
       "</div>"
      ],
      "text/plain": [
       "   0  1  2  3\n",
       "0  5  2  1  3\n",
       "1  3  8  7  7\n",
       "2  0  3  6  6\n",
       "3  6  3  7  7\n",
       "4  5  2  4  7\n",
       "5  8  0  2  9\n",
       "6  7  0  5  0\n",
       "7  1  9  9  5"
      ]
     },
     "execution_count": 124,
     "metadata": {},
     "output_type": "execute_result"
    }
   ],
   "source": [
    "pd.DataFrame(d11)"
   ]
  },
  {
   "cell_type": "code",
   "execution_count": 122,
   "id": "49869e50-c546-48e6-adeb-f2afb3de34ee",
   "metadata": {},
   "outputs": [],
   "source": [
    "d12 = d1.reshape(8,-7329874239) #4x4x2 = 32  --> make it 16x2"
   ]
  },
  {
   "cell_type": "code",
   "execution_count": 125,
   "id": "c2720fcb-a87b-42ed-b295-952d4c3a20ad",
   "metadata": {},
   "outputs": [
    {
     "data": {
      "text/html": [
       "<div>\n",
       "<style scoped>\n",
       "    .dataframe tbody tr th:only-of-type {\n",
       "        vertical-align: middle;\n",
       "    }\n",
       "\n",
       "    .dataframe tbody tr th {\n",
       "        vertical-align: top;\n",
       "    }\n",
       "\n",
       "    .dataframe thead th {\n",
       "        text-align: right;\n",
       "    }\n",
       "</style>\n",
       "<table border=\"1\" class=\"dataframe\">\n",
       "  <thead>\n",
       "    <tr style=\"text-align: right;\">\n",
       "      <th></th>\n",
       "      <th>0</th>\n",
       "      <th>1</th>\n",
       "      <th>2</th>\n",
       "      <th>3</th>\n",
       "    </tr>\n",
       "  </thead>\n",
       "  <tbody>\n",
       "    <tr>\n",
       "      <th>0</th>\n",
       "      <td>5</td>\n",
       "      <td>2</td>\n",
       "      <td>1</td>\n",
       "      <td>3</td>\n",
       "    </tr>\n",
       "    <tr>\n",
       "      <th>1</th>\n",
       "      <td>3</td>\n",
       "      <td>8</td>\n",
       "      <td>7</td>\n",
       "      <td>7</td>\n",
       "    </tr>\n",
       "    <tr>\n",
       "      <th>2</th>\n",
       "      <td>0</td>\n",
       "      <td>3</td>\n",
       "      <td>6</td>\n",
       "      <td>6</td>\n",
       "    </tr>\n",
       "    <tr>\n",
       "      <th>3</th>\n",
       "      <td>6</td>\n",
       "      <td>3</td>\n",
       "      <td>7</td>\n",
       "      <td>7</td>\n",
       "    </tr>\n",
       "    <tr>\n",
       "      <th>4</th>\n",
       "      <td>5</td>\n",
       "      <td>2</td>\n",
       "      <td>4</td>\n",
       "      <td>7</td>\n",
       "    </tr>\n",
       "    <tr>\n",
       "      <th>5</th>\n",
       "      <td>8</td>\n",
       "      <td>0</td>\n",
       "      <td>2</td>\n",
       "      <td>9</td>\n",
       "    </tr>\n",
       "    <tr>\n",
       "      <th>6</th>\n",
       "      <td>7</td>\n",
       "      <td>0</td>\n",
       "      <td>5</td>\n",
       "      <td>0</td>\n",
       "    </tr>\n",
       "    <tr>\n",
       "      <th>7</th>\n",
       "      <td>1</td>\n",
       "      <td>9</td>\n",
       "      <td>9</td>\n",
       "      <td>5</td>\n",
       "    </tr>\n",
       "  </tbody>\n",
       "</table>\n",
       "</div>"
      ],
      "text/plain": [
       "   0  1  2  3\n",
       "0  5  2  1  3\n",
       "1  3  8  7  7\n",
       "2  0  3  6  6\n",
       "3  6  3  7  7\n",
       "4  5  2  4  7\n",
       "5  8  0  2  9\n",
       "6  7  0  5  0\n",
       "7  1  9  9  5"
      ]
     },
     "execution_count": 125,
     "metadata": {},
     "output_type": "execute_result"
    }
   ],
   "source": [
    "pd.DataFrame(d12)"
   ]
  },
  {
   "cell_type": "code",
   "execution_count": 126,
   "id": "4549e4eb-da3f-47cd-ad64-ccae24de8c34",
   "metadata": {},
   "outputs": [],
   "source": [
    "d13 = d1.reshape(2,-7329874239) #4x4x2 = 32  --> make it 16x2"
   ]
  },
  {
   "cell_type": "code",
   "execution_count": 127,
   "id": "7e5a9af8-3ef0-4458-8b2a-c4ea5e5b7cef",
   "metadata": {},
   "outputs": [
    {
     "data": {
      "text/plain": [
       "array([[5, 2, 1, 3, 3, 8, 7, 7, 0, 3, 6, 6, 6, 3, 7, 7],\n",
       "       [5, 2, 4, 7, 8, 0, 2, 9, 7, 0, 5, 0, 1, 9, 9, 5]])"
      ]
     },
     "execution_count": 127,
     "metadata": {},
     "output_type": "execute_result"
    }
   ],
   "source": [
    "d13"
   ]
  },
  {
   "cell_type": "code",
   "execution_count": 128,
   "id": "213e6146-dabe-4ceb-b91a-6ae90fe9042c",
   "metadata": {},
   "outputs": [
    {
     "data": {
      "text/plain": [
       "array([[5],\n",
       "       [2],\n",
       "       [1],\n",
       "       [3],\n",
       "       [3],\n",
       "       [8],\n",
       "       [7],\n",
       "       [7],\n",
       "       [0],\n",
       "       [3],\n",
       "       [6],\n",
       "       [6],\n",
       "       [6],\n",
       "       [3],\n",
       "       [7],\n",
       "       [7],\n",
       "       [5],\n",
       "       [2],\n",
       "       [4],\n",
       "       [7],\n",
       "       [8],\n",
       "       [0],\n",
       "       [2],\n",
       "       [9],\n",
       "       [7],\n",
       "       [0],\n",
       "       [5],\n",
       "       [0],\n",
       "       [1],\n",
       "       [9],\n",
       "       [9],\n",
       "       [5]])"
      ]
     },
     "execution_count": 128,
     "metadata": {},
     "output_type": "execute_result"
    }
   ],
   "source": [
    "d1.reshape(32,-7329874239)"
   ]
  },
  {
   "cell_type": "code",
   "execution_count": 129,
   "id": "0a90db26-68e0-4060-aec0-8b7241ddabd4",
   "metadata": {},
   "outputs": [
    {
     "data": {
      "text/html": [
       "<div>\n",
       "<style scoped>\n",
       "    .dataframe tbody tr th:only-of-type {\n",
       "        vertical-align: middle;\n",
       "    }\n",
       "\n",
       "    .dataframe tbody tr th {\n",
       "        vertical-align: top;\n",
       "    }\n",
       "\n",
       "    .dataframe thead th {\n",
       "        text-align: right;\n",
       "    }\n",
       "</style>\n",
       "<table border=\"1\" class=\"dataframe\">\n",
       "  <thead>\n",
       "    <tr style=\"text-align: right;\">\n",
       "      <th></th>\n",
       "      <th>0</th>\n",
       "    </tr>\n",
       "  </thead>\n",
       "  <tbody>\n",
       "    <tr>\n",
       "      <th>0</th>\n",
       "      <td>5</td>\n",
       "    </tr>\n",
       "    <tr>\n",
       "      <th>1</th>\n",
       "      <td>2</td>\n",
       "    </tr>\n",
       "    <tr>\n",
       "      <th>2</th>\n",
       "      <td>1</td>\n",
       "    </tr>\n",
       "    <tr>\n",
       "      <th>3</th>\n",
       "      <td>3</td>\n",
       "    </tr>\n",
       "    <tr>\n",
       "      <th>4</th>\n",
       "      <td>3</td>\n",
       "    </tr>\n",
       "    <tr>\n",
       "      <th>5</th>\n",
       "      <td>8</td>\n",
       "    </tr>\n",
       "    <tr>\n",
       "      <th>6</th>\n",
       "      <td>7</td>\n",
       "    </tr>\n",
       "    <tr>\n",
       "      <th>7</th>\n",
       "      <td>7</td>\n",
       "    </tr>\n",
       "    <tr>\n",
       "      <th>8</th>\n",
       "      <td>0</td>\n",
       "    </tr>\n",
       "    <tr>\n",
       "      <th>9</th>\n",
       "      <td>3</td>\n",
       "    </tr>\n",
       "    <tr>\n",
       "      <th>10</th>\n",
       "      <td>6</td>\n",
       "    </tr>\n",
       "    <tr>\n",
       "      <th>11</th>\n",
       "      <td>6</td>\n",
       "    </tr>\n",
       "    <tr>\n",
       "      <th>12</th>\n",
       "      <td>6</td>\n",
       "    </tr>\n",
       "    <tr>\n",
       "      <th>13</th>\n",
       "      <td>3</td>\n",
       "    </tr>\n",
       "    <tr>\n",
       "      <th>14</th>\n",
       "      <td>7</td>\n",
       "    </tr>\n",
       "    <tr>\n",
       "      <th>15</th>\n",
       "      <td>7</td>\n",
       "    </tr>\n",
       "    <tr>\n",
       "      <th>16</th>\n",
       "      <td>5</td>\n",
       "    </tr>\n",
       "    <tr>\n",
       "      <th>17</th>\n",
       "      <td>2</td>\n",
       "    </tr>\n",
       "    <tr>\n",
       "      <th>18</th>\n",
       "      <td>4</td>\n",
       "    </tr>\n",
       "    <tr>\n",
       "      <th>19</th>\n",
       "      <td>7</td>\n",
       "    </tr>\n",
       "    <tr>\n",
       "      <th>20</th>\n",
       "      <td>8</td>\n",
       "    </tr>\n",
       "    <tr>\n",
       "      <th>21</th>\n",
       "      <td>0</td>\n",
       "    </tr>\n",
       "    <tr>\n",
       "      <th>22</th>\n",
       "      <td>2</td>\n",
       "    </tr>\n",
       "    <tr>\n",
       "      <th>23</th>\n",
       "      <td>9</td>\n",
       "    </tr>\n",
       "    <tr>\n",
       "      <th>24</th>\n",
       "      <td>7</td>\n",
       "    </tr>\n",
       "    <tr>\n",
       "      <th>25</th>\n",
       "      <td>0</td>\n",
       "    </tr>\n",
       "    <tr>\n",
       "      <th>26</th>\n",
       "      <td>5</td>\n",
       "    </tr>\n",
       "    <tr>\n",
       "      <th>27</th>\n",
       "      <td>0</td>\n",
       "    </tr>\n",
       "    <tr>\n",
       "      <th>28</th>\n",
       "      <td>1</td>\n",
       "    </tr>\n",
       "    <tr>\n",
       "      <th>29</th>\n",
       "      <td>9</td>\n",
       "    </tr>\n",
       "    <tr>\n",
       "      <th>30</th>\n",
       "      <td>9</td>\n",
       "    </tr>\n",
       "    <tr>\n",
       "      <th>31</th>\n",
       "      <td>5</td>\n",
       "    </tr>\n",
       "  </tbody>\n",
       "</table>\n",
       "</div>"
      ],
      "text/plain": [
       "    0\n",
       "0   5\n",
       "1   2\n",
       "2   1\n",
       "3   3\n",
       "4   3\n",
       "5   8\n",
       "6   7\n",
       "7   7\n",
       "8   0\n",
       "9   3\n",
       "10  6\n",
       "11  6\n",
       "12  6\n",
       "13  3\n",
       "14  7\n",
       "15  7\n",
       "16  5\n",
       "17  2\n",
       "18  4\n",
       "19  7\n",
       "20  8\n",
       "21  0\n",
       "22  2\n",
       "23  9\n",
       "24  7\n",
       "25  0\n",
       "26  5\n",
       "27  0\n",
       "28  1\n",
       "29  9\n",
       "30  9\n",
       "31  5"
      ]
     },
     "execution_count": 129,
     "metadata": {},
     "output_type": "execute_result"
    }
   ],
   "source": [
    "pd.DataFrame(d1.reshape(32,-1989889))"
   ]
  },
  {
   "cell_type": "code",
   "execution_count": null,
   "id": "a90d4873-3fdf-4561-9e6b-949d422e6894",
   "metadata": {},
   "outputs": [],
   "source": []
  }
 ],
 "metadata": {
  "kernelspec": {
   "display_name": "Python 3 (ipykernel)",
   "language": "python",
   "name": "python3"
  },
  "language_info": {
   "codemirror_mode": {
    "name": "ipython",
    "version": 3
   },
   "file_extension": ".py",
   "mimetype": "text/x-python",
   "name": "python",
   "nbconvert_exporter": "python",
   "pygments_lexer": "ipython3",
   "version": "3.10.8"
  }
 },
 "nbformat": 4,
 "nbformat_minor": 5
}
