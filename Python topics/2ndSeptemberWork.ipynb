{
  "nbformat": 4,
  "nbformat_minor": 0,
  "metadata": {
    "colab": {
      "provenance": [],
      "authorship_tag": "ABX9TyMWJ8rNzygeMPXCC9Dlkqfw",
      "include_colab_link": true
    },
    "kernelspec": {
      "name": "python3",
      "display_name": "Python 3"
    },
    "language_info": {
      "name": "python"
    }
  },
  "cells": [
    {
      "cell_type": "markdown",
      "metadata": {
        "id": "view-in-github",
        "colab_type": "text"
      },
      "source": [
        "<a href=\"https://colab.research.google.com/github/abhishekzzz/practice_ineuron/blob/main/2ndSeptemberWork.ipynb\" target=\"_parent\"><img src=\"https://colab.research.google.com/assets/colab-badge.svg\" alt=\"Open In Colab\"/></a>"
      ]
    },
    {
      "cell_type": "markdown",
      "source": [
        "Classes and Objects"
      ],
      "metadata": {
        "id": "a4-xdlaNRgmX"
      }
    },
    {
      "cell_type": "code",
      "execution_count": 8,
      "metadata": {
        "colab": {
          "base_uri": "https://localhost:8080/"
        },
        "id": "KBSOcMigVE4u",
        "outputId": "b60c0c55-a605-4043-eb76-6eae6800ec0d"
      },
      "outputs": [
        {
          "output_type": "stream",
          "name": "stderr",
          "text": [
            "2023-09-02 14:56:03,958 - __main__ - WARNING - this is a warning\n",
            "2023-09-02 14:56:03,958 - __main__ - WARNING - this is a warning\n",
            "__main__ - WARNING - this is a warning\n",
            "__main__ - WARNING - this is a warning\n",
            "WARNING:__main__:this is a warning\n",
            "2023-09-02 14:56:03,966 - __main__ - ERROR - this is a error\n",
            "2023-09-02 14:56:03,966 - __main__ - ERROR - this is a error\n",
            "__main__ - ERROR - this is a error\n",
            "__main__ - ERROR - this is a error\n",
            "ERROR:__main__:this is a error\n"
          ]
        }
      ],
      "source": [
        "import logging\n",
        "\n",
        "logger = logging.getLogger (__name__)\n",
        "\n",
        "#create a custom logger\n",
        "\n",
        "c_handler = logging.StreamHandler()\n",
        "f_handler = logging.FileHandler('abc.log')\n",
        "c_handler.setLevel(logging.WARNING)\n",
        "f_handler.setLevel(logging.ERROR)\n",
        "\n",
        "#create formatter and add it to handler\n",
        "\n",
        "c_format=logging.Formatter('%(name)s - %(levelname)s - %(message)s')\n",
        "f_format=logging.Formatter('%(asctime)s - %(name)s - %(levelname)s - %(message)s')\n",
        "c_handler.setFormatter(c_format)\n",
        "f_handler.setFormatter(f_format)\n",
        "\n",
        "#Add handler to the logger\n",
        "logger.addHandler(c_handler)\n",
        "logger.addHandler(f_handler)\n",
        "\n",
        "logger.warning('this is a warning')\n",
        "logger.error('this is a error')\n"
      ]
    },
    {
      "cell_type": "code",
      "source": [
        "print('hi')"
      ],
      "metadata": {
        "id": "iwBSVsd2VlXM",
        "outputId": "c925359d-eed9-471d-d12e-4cbd8adb1cf3",
        "colab": {
          "base_uri": "https://localhost:8080/"
        }
      },
      "execution_count": null,
      "outputs": [
        {
          "output_type": "stream",
          "name": "stdout",
          "text": [
            "hi\n"
          ]
        }
      ]
    }
  ]
}