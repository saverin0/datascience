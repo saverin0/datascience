{
 "cells": [
  {
   "cell_type": "code",
   "execution_count": 37,
   "id": "d047f041-3252-40e9-b878-04143bd59e23",
   "metadata": {},
   "outputs": [],
   "source": [
    "class Car:\n",
    "    pass"
   ]
  },
  {
   "cell_type": "code",
   "execution_count": 39,
   "id": "deb80771-f598-48c3-9c1e-1be774c2d9b2",
   "metadata": {},
   "outputs": [],
   "source": [
    "audi=Car()"
   ]
  },
  {
   "cell_type": "code",
   "execution_count": 41,
   "id": "965182d7-27fb-44ba-9163-ffc84d972891",
   "metadata": {},
   "outputs": [],
   "source": [
    "audi.year=2006\n",
    "audi.milage=10\n",
    "audi.make=345\n",
    "audi.model=\"abc\""
   ]
  },
  {
   "cell_type": "code",
   "execution_count": 43,
   "id": "ef7d2d54-79b3-48e8-aeac-98358171d46b",
   "metadata": {},
   "outputs": [
    {
     "data": {
      "text/plain": [
       "345"
      ]
     },
     "execution_count": 43,
     "metadata": {},
     "output_type": "execute_result"
    }
   ],
   "source": [
    "audi.make"
   ]
  },
  {
   "cell_type": "code",
   "execution_count": 45,
   "id": "ab08e6fa-f7d5-4067-8b25-666795ab561e",
   "metadata": {},
   "outputs": [
    {
     "data": {
      "text/plain": [
       "10"
      ]
     },
     "execution_count": 45,
     "metadata": {},
     "output_type": "execute_result"
    }
   ],
   "source": [
    "audi.milage"
   ]
  },
  {
   "cell_type": "code",
   "execution_count": 47,
   "id": "6553c5ca-7b37-45a2-9263-42d5a858c180",
   "metadata": {},
   "outputs": [
    {
     "data": {
      "text/plain": [
       "345"
      ]
     },
     "execution_count": 47,
     "metadata": {},
     "output_type": "execute_result"
    }
   ],
   "source": [
    "audi.make"
   ]
  },
  {
   "cell_type": "code",
   "execution_count": 49,
   "id": "e211f3a9-db72-4b84-98e8-0e52bd1dae07",
   "metadata": {},
   "outputs": [
    {
     "data": {
      "text/plain": [
       "'abc'"
      ]
     },
     "execution_count": 49,
     "metadata": {},
     "output_type": "execute_result"
    }
   ],
   "source": [
    "audi.model"
   ]
  },
  {
   "cell_type": "code",
   "execution_count": 51,
   "id": "1f8d41f9-0a48-47c3-9f56-193623977eb1",
   "metadata": {},
   "outputs": [
    {
     "data": {
      "text/plain": [
       "2006"
      ]
     },
     "execution_count": 51,
     "metadata": {},
     "output_type": "execute_result"
    }
   ],
   "source": [
    "audi.year"
   ]
  },
  {
   "cell_type": "code",
   "execution_count": 53,
   "id": "d1d66d51-2040-45c9-9590-2795c9eaf5f3",
   "metadata": {},
   "outputs": [],
   "source": [
    "nano = Car()"
   ]
  },
  {
   "cell_type": "code",
   "execution_count": 55,
   "id": "15253ffc-cac2-4bb8-9eb8-6bc91da9b930",
   "metadata": {},
   "outputs": [],
   "source": [
    "nano.year=2007\n",
    "nano.milage=67\n",
    "nano.make=67\n",
    "nano.model=\"xyz\""
   ]
  },
  {
   "cell_type": "code",
   "execution_count": 61,
   "id": "6b9c0600-0111-493e-a255-e3d046dab767",
   "metadata": {},
   "outputs": [],
   "source": [
    "class Car:\n",
    "    def __init__(self,milage,make,year,model):\n",
    "        self.milage=milage\n",
    "        self.year=year\n",
    "        self.make=make\n",
    "        self.model=model"
   ]
  },
  {
   "cell_type": "code",
   "execution_count": 65,
   "id": "3a045e3f-0854-4a5a-a15f-e7c11ca4f3ed",
   "metadata": {},
   "outputs": [],
   "source": [
    "nano1=Car(10,2009,45,\"jdsk\")\n",
    "nano2=Car(10,2009,45,\"jdsk\")\n",
    "nano3=Car(10,2009,45,\"jdsk\")\n",
    "nano4=Car(10,2009,45,\"jdsk\")\n",
    "nano5=Car(10,2009,45,\"jdsk\")\n",
    "nano6=Car(10,2009,45,\"jdsk\")\n"
   ]
  },
  {
   "cell_type": "code",
   "execution_count": 207,
   "id": "7eafb9f6-92bf-47f5-919f-f382afd10eb2",
   "metadata": {},
   "outputs": [],
   "source": [
    "class Car:\n",
    "    def __init__(a,m,y,ma,mo):\n",
    "        a.milage=m\n",
    "        a.year=y\n",
    "        a.make=ma\n",
    "        a.model=mo\n",
    "\n",
    "    def age(b,current_year):\n",
    "        return current_year-b.year\n",
    "\n",
    "    def milage1(self):\n",
    "        print(f'Print a milage of the car {self.milage}')\n",
    "    #if I want to print a method use __str__\n",
    "    def __str__(c):\n",
    "        return \"this is from class i have created\""
   ]
  },
  {
   "cell_type": "code",
   "execution_count": 209,
   "id": "85c59294-e113-45d6-ad84-06bfeb84d76b",
   "metadata": {},
   "outputs": [],
   "source": [
    "nano23=Car(10,2009,45,\"dbskjcbdskcbnsdk\")"
   ]
  },
  {
   "cell_type": "code",
   "execution_count": 211,
   "id": "35b8fb06-935f-4bf0-9ab7-cd7dd6d327bd",
   "metadata": {},
   "outputs": [
    {
     "ename": "TypeError",
     "evalue": "Car.age() missing 1 required positional argument: 'current_year'",
     "output_type": "error",
     "traceback": [
      "\u001b[1;31m---------------------------------------------------------------------------\u001b[0m",
      "\u001b[1;31mTypeError\u001b[0m                                 Traceback (most recent call last)",
      "Cell \u001b[1;32mIn[211], line 1\u001b[0m\n\u001b[1;32m----> 1\u001b[0m nano23\u001b[38;5;241m.\u001b[39mage()\n",
      "\u001b[1;31mTypeError\u001b[0m: Car.age() missing 1 required positional argument: 'current_year'"
     ]
    }
   ],
   "source": [
    "nano23.age()"
   ]
  },
  {
   "cell_type": "code",
   "execution_count": 213,
   "id": "d8cbf8ac-345a-4129-9e0c-fa212095e041",
   "metadata": {},
   "outputs": [
    {
     "data": {
      "text/plain": [
       "15"
      ]
     },
     "execution_count": 213,
     "metadata": {},
     "output_type": "execute_result"
    }
   ],
   "source": [
    "nano23.age(2024)"
   ]
  },
  {
   "cell_type": "code",
   "execution_count": 215,
   "id": "710d8564-a4e3-41a1-a970-298c1b1db535",
   "metadata": {},
   "outputs": [
    {
     "data": {
      "text/plain": [
       "10"
      ]
     },
     "execution_count": 215,
     "metadata": {},
     "output_type": "execute_result"
    }
   ],
   "source": [
    "nano23.milage"
   ]
  },
  {
   "cell_type": "code",
   "execution_count": 217,
   "id": "39a15833-c3ad-46fd-908f-9b91bc5b3bb0",
   "metadata": {},
   "outputs": [
    {
     "name": "stdout",
     "output_type": "stream",
     "text": [
      "Print a milage of the car 10\n"
     ]
    }
   ],
   "source": [
    "nano23.milage1()"
   ]
  },
  {
   "cell_type": "code",
   "execution_count": 219,
   "id": "a1ec46c5-0466-4d6b-ac7a-6e69f59e8d97",
   "metadata": {},
   "outputs": [],
   "source": [
    "#if I want to print a method use __str__"
   ]
  },
  {
   "cell_type": "code",
   "execution_count": 221,
   "id": "8b478e11-cb77-48b4-8c29-3d0807d3feb1",
   "metadata": {},
   "outputs": [
    {
     "name": "stdout",
     "output_type": "stream",
     "text": [
      "this is from class i have created\n"
     ]
    }
   ],
   "source": [
    "print(nano23)"
   ]
  },
  {
   "cell_type": "code",
   "execution_count": 223,
   "id": "706718d1-c95b-4bad-96a2-102ea7337569",
   "metadata": {},
   "outputs": [],
   "source": [
    "class Car:\n",
    "    def __init__(a,m,y,ma,mo):\n",
    "        a.milage=m\n",
    "        a.year=y\n",
    "        a.make=ma\n",
    "        a.model=mo\n",
    "\n",
    "    def age2(a,current_year):\n",
    "        return current_year-a.year\n",
    "\n",
    "    def milage2(a):\n",
    "        print(f'Print a milage of the car {a.milage}')\n",
    "    def __str__(a):\n",
    "        return \"this is from class i have created\""
   ]
  },
  {
   "cell_type": "code",
   "execution_count": 225,
   "id": "8b3388bc-415f-4b70-bdfd-80b394f6950d",
   "metadata": {},
   "outputs": [],
   "source": [
    "nano33= Car(10,10,10,\"dasd\")"
   ]
  },
  {
   "cell_type": "code",
   "execution_count": 227,
   "id": "c8607b94-4f05-46ae-a107-7497e2bea8fa",
   "metadata": {},
   "outputs": [
    {
     "name": "stdout",
     "output_type": "stream",
     "text": [
      "this is from class i have created\n"
     ]
    }
   ],
   "source": [
    "print(nano33)"
   ]
  },
  {
   "cell_type": "code",
   "execution_count": 233,
   "id": "229fbeb4-4919-4963-81e1-e9e492006174",
   "metadata": {},
   "outputs": [
    {
     "ename": "TypeError",
     "evalue": "'Car' object is not callable",
     "output_type": "error",
     "traceback": [
      "\u001b[1;31m---------------------------------------------------------------------------\u001b[0m",
      "\u001b[1;31mTypeError\u001b[0m                                 Traceback (most recent call last)",
      "Cell \u001b[1;32mIn[233], line 1\u001b[0m\n\u001b[1;32m----> 1\u001b[0m \u001b[38;5;28mprint\u001b[39m(nano33())\n",
      "\u001b[1;31mTypeError\u001b[0m: 'Car' object is not callable"
     ]
    }
   ],
   "source": [
    "print(nano33())"
   ]
  },
  {
   "cell_type": "code",
   "execution_count": 246,
   "id": "e7f517c9-3db8-4cda-b1cb-6cc978cd92c0",
   "metadata": {},
   "outputs": [
    {
     "name": "stdout",
     "output_type": "stream",
     "text": [
      "Print a milage of the car 10\n"
     ]
    }
   ],
   "source": [
    "nano33.milage2()"
   ]
  },
  {
   "cell_type": "code",
   "execution_count": 235,
   "id": "85fc3f4e-be7d-4eaa-bb59-86472df27cb1",
   "metadata": {},
   "outputs": [],
   "source": [
    "#if I want to print a method use __str__"
   ]
  },
  {
   "cell_type": "code",
   "execution_count": 276,
   "id": "7d98fdee-cf9c-4560-92de-6908033f762b",
   "metadata": {},
   "outputs": [],
   "source": [
    "class Person:\n",
    "    def __init__(self,first_name,last_name,age):\n",
    "        self.first_name=first_name\n",
    "        self.last_name=last_name\n",
    "        self.age=age\n",
    "\n",
    "    def __str__(self):\n",
    "        return (f'this is the person class')"
   ]
  },
  {
   "cell_type": "code",
   "execution_count": 278,
   "id": "d225c795-9504-4179-a0f8-c97e79f0871f",
   "metadata": {},
   "outputs": [],
   "source": [
    "person1=Person(\"Abhishek\",\"Singh\",26)"
   ]
  },
  {
   "cell_type": "code",
   "execution_count": 280,
   "id": "a40c06ac-b577-48e2-8478-42b2152236e6",
   "metadata": {},
   "outputs": [
    {
     "name": "stdout",
     "output_type": "stream",
     "text": [
      "this is the person class\n"
     ]
    }
   ],
   "source": [
    "print(person1)"
   ]
  },
  {
   "cell_type": "code",
   "execution_count": 282,
   "id": "6d716179-c71e-48b9-b636-c7f0c4cd7fe5",
   "metadata": {},
   "outputs": [
    {
     "data": {
      "text/plain": [
       "26"
      ]
     },
     "execution_count": 282,
     "metadata": {},
     "output_type": "execute_result"
    }
   ],
   "source": [
    "person1.age"
   ]
  },
  {
   "cell_type": "code",
   "execution_count": 284,
   "id": "ea0470ee-0c34-4a1d-8847-696abc4aa064",
   "metadata": {},
   "outputs": [
    {
     "data": {
      "text/plain": [
       "'Abhishek'"
      ]
     },
     "execution_count": 284,
     "metadata": {},
     "output_type": "execute_result"
    }
   ],
   "source": [
    "person1.first_name"
   ]
  },
  {
   "cell_type": "code",
   "execution_count": 286,
   "id": "ac25207f-25aa-47cf-b685-135def52c4e1",
   "metadata": {},
   "outputs": [
    {
     "data": {
      "text/plain": [
       "'Singh'"
      ]
     },
     "execution_count": 286,
     "metadata": {},
     "output_type": "execute_result"
    }
   ],
   "source": [
    "person1.last_name"
   ]
  },
  {
   "cell_type": "code",
   "execution_count": 353,
   "id": "82d10a0c-670e-43da-a6df-e960e9077977",
   "metadata": {},
   "outputs": [],
   "source": [
    "class Student:\n",
    "\n",
    "    def __init__(self,name,rollno,joining_date,current_topic):\n",
    "        self.name=name\n",
    "        self.rollno=rollno\n",
    "        self.joining_date=joining_date\n",
    "        self.current_topic=current_topic\n",
    "\n",
    "    def curr_topic(self):\n",
    "        print(f'current topic discussed in class is {self.current_topic}')\n",
    "\n",
    "    def str_rollno(self):\n",
    "        try:\n",
    "            if type(self.rollno)==str:\n",
    "                print(\"do nothing\")\n",
    "            else:\n",
    "                return str(self.rollno)\n",
    "        except Exception as e:\n",
    "            print(f'this is my error message: {e}')\n",
    "\n",
    "    def duration(self,current_date):\n",
    "        print (f'duration of student in my class is {current_date - self.joining_date}')\n",
    "\n",
    "    def __str__(self):\n",
    "        return (f'this is student class')"
   ]
  },
  {
   "cell_type": "code",
   "execution_count": 355,
   "id": "2c767c22-a6e4-4dff-8028-0fa91f5cfa0f",
   "metadata": {},
   "outputs": [],
   "source": [
    "student1=Student(\"Abhishek\",842839,1997,\"Encapsulation\")\n",
    "student2=Student(\"Sav\",\"878798\",2001,\"Encapsulation 1.1\")\n"
   ]
  },
  {
   "cell_type": "code",
   "execution_count": 357,
   "id": "4eec89ec-afd8-4749-b4f2-9167b8712ddc",
   "metadata": {},
   "outputs": [
    {
     "data": {
      "text/plain": [
       "<bound method Student.curr_topic of <__main__.Student object at 0x00000274C473D220>>"
      ]
     },
     "execution_count": 357,
     "metadata": {},
     "output_type": "execute_result"
    }
   ],
   "source": [
    "student1.curr_topic"
   ]
  },
  {
   "cell_type": "code",
   "execution_count": 359,
   "id": "9897fd5c-0bab-4276-97b8-dee71dd817ce",
   "metadata": {},
   "outputs": [
    {
     "name": "stdout",
     "output_type": "stream",
     "text": [
      "current topic discussed in class is Encapsulation\n"
     ]
    }
   ],
   "source": [
    "student1.curr_topic()"
   ]
  },
  {
   "cell_type": "code",
   "execution_count": 361,
   "id": "32fa6747-a50a-4daa-8399-2d86696f018c",
   "metadata": {},
   "outputs": [
    {
     "ename": "TypeError",
     "evalue": "Student.duration() missing 1 required positional argument: 'current_date'",
     "output_type": "error",
     "traceback": [
      "\u001b[1;31m---------------------------------------------------------------------------\u001b[0m",
      "\u001b[1;31mTypeError\u001b[0m                                 Traceback (most recent call last)",
      "Cell \u001b[1;32mIn[361], line 1\u001b[0m\n\u001b[1;32m----> 1\u001b[0m student1\u001b[38;5;241m.\u001b[39mduration()\n",
      "\u001b[1;31mTypeError\u001b[0m: Student.duration() missing 1 required positional argument: 'current_date'"
     ]
    }
   ],
   "source": [
    "student1.duration()"
   ]
  },
  {
   "cell_type": "code",
   "execution_count": 363,
   "id": "ce1120dd-8333-4d98-8686-da72cff1c4f8",
   "metadata": {},
   "outputs": [
    {
     "name": "stdout",
     "output_type": "stream",
     "text": [
      "duration of student in my class is 27\n"
     ]
    }
   ],
   "source": [
    "student1.duration(2024)"
   ]
  },
  {
   "cell_type": "code",
   "execution_count": 365,
   "id": "9174f85b-01eb-4e65-a744-2c9ed81cbe55",
   "metadata": {},
   "outputs": [
    {
     "name": "stdout",
     "output_type": "stream",
     "text": [
      "this is student class\n"
     ]
    }
   ],
   "source": [
    "print(student1)"
   ]
  },
  {
   "cell_type": "code",
   "execution_count": 371,
   "id": "b17a548b-b845-4de3-a00c-759545dd0796",
   "metadata": {},
   "outputs": [
    {
     "data": {
      "text/plain": [
       "'878798'"
      ]
     },
     "execution_count": 371,
     "metadata": {},
     "output_type": "execute_result"
    }
   ],
   "source": [
    "student2.rollno"
   ]
  },
  {
   "cell_type": "code",
   "execution_count": 373,
   "id": "df04143a-5d14-47b8-b213-675743f4bb71",
   "metadata": {},
   "outputs": [
    {
     "data": {
      "text/plain": [
       "<__main__.Student at 0x274c473d220>"
      ]
     },
     "execution_count": 373,
     "metadata": {},
     "output_type": "execute_result"
    }
   ],
   "source": [
    "student1"
   ]
  },
  {
   "cell_type": "code",
   "execution_count": 377,
   "id": "5fd5dc64-bbe5-4e8b-af73-1440cf76c765",
   "metadata": {},
   "outputs": [
    {
     "data": {
      "text/plain": [
       "'Encapsulation'"
      ]
     },
     "execution_count": 377,
     "metadata": {},
     "output_type": "execute_result"
    }
   ],
   "source": [
    "student1.current_topic"
   ]
  },
  {
   "cell_type": "code",
   "execution_count": 421,
   "id": "ccb955ea-8395-4252-9ab8-8a9cf0a3f598",
   "metadata": {},
   "outputs": [],
   "source": [
    "class Calculator:\n",
    "    def __init__(self):\n",
    "        self.first_number=int(input(\"enter first number\"))\n",
    "        self.second_number=int(input(\"enter second number\"))\n",
    "\n",
    "    def addition(self):\n",
    "        return f'Addition of {self.first_number} and {self.second_number} numbers is = {self.first_number+self.second_number}'\n",
    "\n",
    "    def subtraction(self):\n",
    "        if self.first_number > self.second_number:\n",
    "            return f'Subtraction of {self.first_number} and {self.second_number} numbers is = {self.first_number-self.second_number}'\n",
    "        else:\n",
    "            return f'Subtraction of {self.second_number} and {self.first_number} numbers is = {self.second_number-self.first_number}'\n",
    "\n",
    "    def multiplication(self):\n",
    "         return f'Multiplication of {self.first_number} and {self.second_number} numbers is = {self.second_number*self.first_number}'\n",
    "\n",
    "    def division(self):\n",
    "        try:\n",
    "            return f'Division of {self.first_number} and {self.second_number} numbers is = {self.first_number/self.second_number}'\n",
    "        except ZeroDivisionError:\n",
    "            return f'Zero Division Error'\n",
    "    def __str__(self):\n",
    "        return f'calculator'"
   ]
  },
  {
   "cell_type": "code",
   "execution_count": 425,
   "id": "96ac5bc9-40cd-44a4-aa78-aff0f4a978d2",
   "metadata": {},
   "outputs": [
    {
     "name": "stdin",
     "output_type": "stream",
     "text": [
      "enter first number 8\n",
      "enter second number 9\n"
     ]
    }
   ],
   "source": [
    "c1=Calculator()"
   ]
  },
  {
   "cell_type": "code",
   "execution_count": 427,
   "id": "44bdf76d-4c8c-4d2a-93dc-c89aa3125f0d",
   "metadata": {},
   "outputs": [
    {
     "data": {
      "text/plain": [
       "<bound method Calculator.addition of <__main__.Calculator object at 0x00000274C39E1D60>>"
      ]
     },
     "execution_count": 427,
     "metadata": {},
     "output_type": "execute_result"
    }
   ],
   "source": [
    "c1.addition"
   ]
  },
  {
   "cell_type": "code",
   "execution_count": 429,
   "id": "3db7c3c7-a943-4862-b4f8-d992800f0726",
   "metadata": {},
   "outputs": [
    {
     "data": {
      "text/plain": [
       "'Addition of 8 and 9 numbers is = 17'"
      ]
     },
     "execution_count": 429,
     "metadata": {},
     "output_type": "execute_result"
    }
   ],
   "source": [
    "c1.addition()"
   ]
  },
  {
   "cell_type": "code",
   "execution_count": 431,
   "id": "de7fe8b4-e271-4a17-ae7c-a2ddf6b99e1b",
   "metadata": {},
   "outputs": [
    {
     "data": {
      "text/plain": [
       "'Subtraction of 9 and 8 numbers is = 1'"
      ]
     },
     "execution_count": 431,
     "metadata": {},
     "output_type": "execute_result"
    }
   ],
   "source": [
    "c1.subtraction()"
   ]
  },
  {
   "cell_type": "code",
   "execution_count": 433,
   "id": "37b58280-c43b-417a-a665-87b4f86dbfc0",
   "metadata": {},
   "outputs": [
    {
     "data": {
      "text/plain": [
       "'Multiplication of 8 and 9 numbers is = 72'"
      ]
     },
     "execution_count": 433,
     "metadata": {},
     "output_type": "execute_result"
    }
   ],
   "source": [
    "c1.multiplication()"
   ]
  },
  {
   "cell_type": "code",
   "execution_count": 435,
   "id": "512b01ec-9bf7-41b1-b60f-8475f49d7622",
   "metadata": {},
   "outputs": [
    {
     "data": {
      "text/plain": [
       "'Division of 8 and 9 numbers is = 0.8888888888888888'"
      ]
     },
     "execution_count": 435,
     "metadata": {},
     "output_type": "execute_result"
    }
   ],
   "source": [
    "c1.division()"
   ]
  },
  {
   "cell_type": "code",
   "execution_count": 439,
   "id": "e6f51f49-d434-4d9b-b458-1c31465f51a3",
   "metadata": {},
   "outputs": [
    {
     "name": "stdin",
     "output_type": "stream",
     "text": [
      "enter first number 0\n",
      "enter second number 9\n"
     ]
    }
   ],
   "source": [
    "c2=Calculator()"
   ]
  },
  {
   "cell_type": "code",
   "execution_count": 441,
   "id": "c543bcf2-288c-4630-871a-e09011f01e9d",
   "metadata": {},
   "outputs": [
    {
     "data": {
      "text/plain": [
       "'Addition of 0 and 9 numbers is = 9'"
      ]
     },
     "execution_count": 441,
     "metadata": {},
     "output_type": "execute_result"
    }
   ],
   "source": [
    "c2.addition()"
   ]
  },
  {
   "cell_type": "code",
   "execution_count": 445,
   "id": "1d4bef34-8a8b-4e73-9506-379a301ff0af",
   "metadata": {},
   "outputs": [
    {
     "data": {
      "text/plain": [
       "'Division of 0 and 9 numbers is = 0.0'"
      ]
     },
     "execution_count": 445,
     "metadata": {},
     "output_type": "execute_result"
    }
   ],
   "source": [
    "c2.division()"
   ]
  },
  {
   "cell_type": "code",
   "execution_count": 447,
   "id": "3fecfe38-c798-4e1c-b267-6a7690b30d0c",
   "metadata": {},
   "outputs": [
    {
     "data": {
      "text/plain": [
       "'Multiplication of 0 and 9 numbers is = 0'"
      ]
     },
     "execution_count": 447,
     "metadata": {},
     "output_type": "execute_result"
    }
   ],
   "source": [
    "c2.multiplication()"
   ]
  },
  {
   "cell_type": "code",
   "execution_count": 449,
   "id": "9ecf535f-f995-4511-bf09-4ea8f2705a98",
   "metadata": {},
   "outputs": [
    {
     "data": {
      "text/plain": [
       "'Subtraction of 9 and 0 numbers is = 9'"
      ]
     },
     "execution_count": 449,
     "metadata": {},
     "output_type": "execute_result"
    }
   ],
   "source": [
    "c2.subtraction()"
   ]
  },
  {
   "cell_type": "code",
   "execution_count": 451,
   "id": "575a72be-49ca-4097-b9d2-efa4ea73d10c",
   "metadata": {},
   "outputs": [
    {
     "name": "stdin",
     "output_type": "stream",
     "text": [
      "enter first number 4\n",
      "enter second number 0\n"
     ]
    }
   ],
   "source": [
    "c3=Calculator()"
   ]
  },
  {
   "cell_type": "code",
   "execution_count": 457,
   "id": "1037292c-181e-4d0d-9397-00cff3461629",
   "metadata": {},
   "outputs": [
    {
     "data": {
      "text/plain": [
       "'Addition of 4 and 0 numbers is = 4'"
      ]
     },
     "execution_count": 457,
     "metadata": {},
     "output_type": "execute_result"
    }
   ],
   "source": [
    "c3.addition()"
   ]
  },
  {
   "cell_type": "code",
   "execution_count": 459,
   "id": "0949516a-8927-47ab-9e4c-138a1bbb981c",
   "metadata": {},
   "outputs": [
    {
     "data": {
      "text/plain": [
       "'Zero Division Error'"
      ]
     },
     "execution_count": 459,
     "metadata": {},
     "output_type": "execute_result"
    }
   ],
   "source": [
    "c3.division()"
   ]
  },
  {
   "cell_type": "code",
   "execution_count": 461,
   "id": "3b1c0bda-835f-4204-9d02-f99286f92251",
   "metadata": {},
   "outputs": [
    {
     "data": {
      "text/plain": [
       "'Subtraction of 4 and 0 numbers is = 4'"
      ]
     },
     "execution_count": 461,
     "metadata": {},
     "output_type": "execute_result"
    }
   ],
   "source": [
    "c3.subtraction()"
   ]
  },
  {
   "cell_type": "code",
   "execution_count": 463,
   "id": "e271d3d1-482c-4f43-a74c-6359fb4f4303",
   "metadata": {},
   "outputs": [
    {
     "data": {
      "text/plain": [
       "'Multiplication of 4 and 0 numbers is = 0'"
      ]
     },
     "execution_count": 463,
     "metadata": {},
     "output_type": "execute_result"
    }
   ],
   "source": [
    "c3.multiplication()"
   ]
  },
  {
   "cell_type": "code",
   "execution_count": 465,
   "id": "7ae26cda-dcae-429b-8d36-65d2761e738b",
   "metadata": {},
   "outputs": [],
   "source": [
    "#Default constructor\n",
    "\n",
    "class Student2:\n",
    "    def who(self):\n",
    "        print(\"this is a student\")"
   ]
  },
  {
   "cell_type": "code",
   "execution_count": 467,
   "id": "79957930-3c6a-4c57-93b4-bf130ea3d2d1",
   "metadata": {},
   "outputs": [],
   "source": [
    "s1=Student2()"
   ]
  },
  {
   "cell_type": "code",
   "execution_count": 469,
   "id": "f020d4cf-8962-43c4-bdf6-0501d550baec",
   "metadata": {},
   "outputs": [
    {
     "name": "stdout",
     "output_type": "stream",
     "text": [
      "this is a student\n"
     ]
    }
   ],
   "source": [
    "s1.who()"
   ]
  },
  {
   "cell_type": "code",
   "execution_count": 471,
   "id": "d9da8af5-4ed4-449b-ba70-c55b10441f8f",
   "metadata": {},
   "outputs": [],
   "source": [
    "#non parametized constructor\n",
    "class Company():\n",
    "    def __init__(self):\n",
    "        self.name=\"ineuron\"\n",
    "        self.address=\"Hyderabad\"\n",
    "\n",
    "    def show(self):\n",
    "        print(\"name\",self.name,\"address\",self.address)"
   ]
  },
  {
   "cell_type": "code",
   "execution_count": 473,
   "id": "95f77707-b0ef-46d6-a566-bf2ba664a13b",
   "metadata": {},
   "outputs": [],
   "source": [
    "cmp=Company()"
   ]
  },
  {
   "cell_type": "code",
   "execution_count": 475,
   "id": "0dc5b620-5a20-4d0e-960b-11686ce0d772",
   "metadata": {},
   "outputs": [
    {
     "name": "stdout",
     "output_type": "stream",
     "text": [
      "name ineuron address Hyderabad\n"
     ]
    }
   ],
   "source": [
    "cmp.show()"
   ]
  },
  {
   "cell_type": "code",
   "execution_count": 477,
   "id": "067021a4-620a-4ba1-881f-1e3f36996374",
   "metadata": {},
   "outputs": [],
   "source": [
    "#paramrtized constructor\n",
    "class P_c():\n",
    "    def __init__(self,name,age):\n",
    "        self.name=name\n",
    "        self.age=age\n",
    "\n",
    "    def age1(self):\n",
    "        print(\"age1\",self.age)"
   ]
  },
  {
   "cell_type": "code",
   "execution_count": 483,
   "id": "4038d4a6-bb8f-4ab9-9c7b-e09fc56f6fe4",
   "metadata": {},
   "outputs": [],
   "source": [
    "c11=P_c(\"Imran\",27)"
   ]
  },
  {
   "cell_type": "code",
   "execution_count": 497,
   "id": "023f778a-b628-4ddb-a9df-21b9262a4be6",
   "metadata": {},
   "outputs": [],
   "source": [
    "#private -- name here is private\n",
    "class P_c1():\n",
    "    def __init__(self,name,age):\n",
    "        self.__name=name\n",
    "        self.age=age\n",
    "\n",
    "    def age1(self):\n",
    "        print(\"age1\",self.age)"
   ]
  },
  {
   "cell_type": "code",
   "execution_count": 499,
   "id": "736da63e-3a2c-4173-af08-41c04e790bb0",
   "metadata": {},
   "outputs": [],
   "source": [
    "c12=P_c1(\"Safron\",27)"
   ]
  },
  {
   "cell_type": "code",
   "execution_count": 501,
   "id": "6ed102ce-9e81-46a7-b7df-596ed911cd2a",
   "metadata": {},
   "outputs": [
    {
     "name": "stdout",
     "output_type": "stream",
     "text": [
      "age1 27\n"
     ]
    }
   ],
   "source": [
    "c12.age1()"
   ]
  },
  {
   "cell_type": "code",
   "execution_count": 503,
   "id": "b7d17c46-9f22-4cc9-809d-777ea76952bf",
   "metadata": {},
   "outputs": [
    {
     "data": {
      "text/plain": [
       "27"
      ]
     },
     "execution_count": 503,
     "metadata": {},
     "output_type": "execute_result"
    }
   ],
   "source": [
    "c12.age"
   ]
  },
  {
   "cell_type": "code",
   "execution_count": 531,
   "id": "1bf1d853-acff-40d8-bce3-927b1b6c11e0",
   "metadata": {},
   "outputs": [],
   "source": [
    "#protected  --name here is protected\n",
    "class P_c2():\n",
    "    def __init__(self,name,age):\n",
    "        self._name=name\n",
    "        self.age=age\n",
    "\n",
    "    def age2(self):\n",
    "        print(\"age2\",self.age)"
   ]
  },
  {
   "cell_type": "code",
   "execution_count": 537,
   "id": "622ce98c-97ed-4201-b4ca-efbf762628c2",
   "metadata": {},
   "outputs": [],
   "source": [
    "c13=P_c2(\"Sav\",27)"
   ]
  },
  {
   "cell_type": "code",
   "execution_count": 539,
   "id": "accf9844-ffc3-4b90-94cb-402ef81353dc",
   "metadata": {},
   "outputs": [
    {
     "name": "stdout",
     "output_type": "stream",
     "text": [
      "age2 27\n"
     ]
    }
   ],
   "source": [
    "c13.age2()"
   ]
  },
  {
   "cell_type": "code",
   "execution_count": 541,
   "id": "f3cfbe8c-82ff-42d5-a5f8-7d55cd8a5b34",
   "metadata": {},
   "outputs": [
    {
     "data": {
      "text/plain": [
       "<__main__.P_c2 at 0x274c4b9e1e0>"
      ]
     },
     "execution_count": 541,
     "metadata": {},
     "output_type": "execute_result"
    }
   ],
   "source": [
    "c13"
   ]
  },
  {
   "cell_type": "code",
   "execution_count": 543,
   "id": "448f65da-a9fb-450a-a12a-31fa372a67d1",
   "metadata": {},
   "outputs": [
    {
     "ename": "TypeError",
     "evalue": "'P_c2' object is not callable",
     "output_type": "error",
     "traceback": [
      "\u001b[1;31m---------------------------------------------------------------------------\u001b[0m",
      "\u001b[1;31mTypeError\u001b[0m                                 Traceback (most recent call last)",
      "Cell \u001b[1;32mIn[543], line 1\u001b[0m\n\u001b[1;32m----> 1\u001b[0m c13()\n",
      "\u001b[1;31mTypeError\u001b[0m: 'P_c2' object is not callable"
     ]
    }
   ],
   "source": [
    "c13()"
   ]
  },
  {
   "cell_type": "code",
   "execution_count": 545,
   "id": "0cfcefc0-e23e-4344-b2a6-66260ed3fa97",
   "metadata": {},
   "outputs": [
    {
     "data": {
      "text/plain": [
       "27"
      ]
     },
     "execution_count": 545,
     "metadata": {},
     "output_type": "execute_result"
    }
   ],
   "source": [
    "c13.age"
   ]
  },
  {
   "cell_type": "code",
   "execution_count": 547,
   "id": "fdc4efd6-6497-48de-93d5-1d7eb36bf7d4",
   "metadata": {},
   "outputs": [],
   "source": [
    "#     \t  Own Class\t     Derived Class\tObject\n",
    "# Private\t   Yes\t          No\t      No\n",
    "# Protecte     Yes\t          Yes\t      No\n",
    "# Public\t   Yes\t          Yes\t      Yes"
   ]
  },
  {
   "cell_type": "code",
   "execution_count": 561,
   "id": "8eefef3d-2d29-495e-86b2-f163e0655a40",
   "metadata": {},
   "outputs": [],
   "source": [
    "class Rectangle:\n",
    "    __length = 0\n",
    "    __breadth= 0\n",
    "\n",
    "    def __init__(self):\n",
    "        self.__length=5\n",
    "        self.__breadth=3\n",
    "\n",
    "        print(self.__length)\n",
    "        print(self.__breadth)"
   ]
  },
  {
   "cell_type": "code",
   "execution_count": 563,
   "id": "a4a88cf9-1a6b-4081-89eb-8a527138fdf0",
   "metadata": {},
   "outputs": [
    {
     "name": "stdout",
     "output_type": "stream",
     "text": [
      "5\n",
      "3\n"
     ]
    }
   ],
   "source": [
    "r1 = Rectangle()"
   ]
  },
  {
   "cell_type": "code",
   "execution_count": 565,
   "id": "f378e59e-7d17-4dc6-b687-0be2631dddac",
   "metadata": {},
   "outputs": [
    {
     "data": {
      "text/plain": [
       "<__main__.Rectangle at 0x274c53ab380>"
      ]
     },
     "execution_count": 565,
     "metadata": {},
     "output_type": "execute_result"
    }
   ],
   "source": [
    "r1"
   ]
  },
  {
   "cell_type": "code",
   "execution_count": 567,
   "id": "b873f915-9ab6-4989-bb93-1af668430abd",
   "metadata": {},
   "outputs": [
    {
     "ename": "TypeError",
     "evalue": "'Rectangle' object is not callable",
     "output_type": "error",
     "traceback": [
      "\u001b[1;31m---------------------------------------------------------------------------\u001b[0m",
      "\u001b[1;31mTypeError\u001b[0m                                 Traceback (most recent call last)",
      "Cell \u001b[1;32mIn[567], line 1\u001b[0m\n\u001b[1;32m----> 1\u001b[0m r1()\n",
      "\u001b[1;31mTypeError\u001b[0m: 'Rectangle' object is not callable"
     ]
    }
   ],
   "source": [
    "r1()"
   ]
  },
  {
   "cell_type": "code",
   "execution_count": 569,
   "id": "3be8d3e4-106e-40b5-bfe4-ee74deb5b522",
   "metadata": {},
   "outputs": [
    {
     "name": "stdout",
     "output_type": "stream",
     "text": [
      "<__main__.Rectangle object at 0x00000274C53AB380>\n"
     ]
    }
   ],
   "source": [
    "print(r1)"
   ]
  },
  {
   "cell_type": "code",
   "execution_count": 595,
   "id": "ebeb38f2-0895-43c2-9f6d-0eeefbe367eb",
   "metadata": {},
   "outputs": [],
   "source": [
    "class Rectangle1:\n",
    "    # _length = 0\n",
    "    # _breadth= 0\n",
    "\n",
    "    def __init__(self):\n",
    "        self.length=5\n",
    "        self.__breadth=3       \n",
    "\n",
    "        print(self.length)\n",
    "        print(self.__breadth)\n",
    "\n",
    "    def show(self):\n",
    "        print(\"this is printing private variable\",self.__breadth)"
   ]
  },
  {
   "cell_type": "code",
   "execution_count": 597,
   "id": "4a18e518-4740-40b0-8a64-633f2e016ff8",
   "metadata": {},
   "outputs": [
    {
     "name": "stdout",
     "output_type": "stream",
     "text": [
      "5\n",
      "3\n"
     ]
    }
   ],
   "source": [
    "rect = Rectangle1 ()"
   ]
  },
  {
   "cell_type": "code",
   "execution_count": 599,
   "id": "06eb2a2c-05fb-48a4-8abe-12f9c146322d",
   "metadata": {},
   "outputs": [
    {
     "name": "stdout",
     "output_type": "stream",
     "text": [
      "5\n"
     ]
    }
   ],
   "source": [
    "print(rect.length)"
   ]
  },
  {
   "cell_type": "code",
   "execution_count": 601,
   "id": "2b914439-371f-4747-9f5a-afd0739ab78e",
   "metadata": {},
   "outputs": [
    {
     "ename": "AttributeError",
     "evalue": "'Rectangle1' object has no attribute '__breadth'",
     "output_type": "error",
     "traceback": [
      "\u001b[1;31m---------------------------------------------------------------------------\u001b[0m",
      "\u001b[1;31mAttributeError\u001b[0m                            Traceback (most recent call last)",
      "Cell \u001b[1;32mIn[601], line 1\u001b[0m\n\u001b[1;32m----> 1\u001b[0m \u001b[38;5;28mprint\u001b[39m(rect\u001b[38;5;241m.\u001b[39m__breadth)\n",
      "\u001b[1;31mAttributeError\u001b[0m: 'Rectangle1' object has no attribute '__breadth'"
     ]
    }
   ],
   "source": [
    "print(rect.__breadth)"
   ]
  },
  {
   "cell_type": "code",
   "execution_count": 603,
   "id": "3ed55099-e5df-46cb-87af-2c6c8892e583",
   "metadata": {},
   "outputs": [
    {
     "ename": "AttributeError",
     "evalue": "'Rectangle1' object has no attribute 'breadth'",
     "output_type": "error",
     "traceback": [
      "\u001b[1;31m---------------------------------------------------------------------------\u001b[0m",
      "\u001b[1;31mAttributeError\u001b[0m                            Traceback (most recent call last)",
      "Cell \u001b[1;32mIn[603], line 1\u001b[0m\n\u001b[1;32m----> 1\u001b[0m \u001b[38;5;28mprint\u001b[39m(rect\u001b[38;5;241m.\u001b[39mbreadth)\n",
      "\u001b[1;31mAttributeError\u001b[0m: 'Rectangle1' object has no attribute 'breadth'"
     ]
    }
   ],
   "source": [
    "print(rect.breadth)"
   ]
  },
  {
   "cell_type": "code",
   "execution_count": 605,
   "id": "e52c699f-1a50-4f49-a2d2-47ff223a6f0d",
   "metadata": {},
   "outputs": [
    {
     "name": "stdout",
     "output_type": "stream",
     "text": [
      "this is printing private variable 3\n"
     ]
    }
   ],
   "source": [
    "rect.show()"
   ]
  },
  {
   "cell_type": "code",
   "execution_count": 613,
   "id": "3ef810b9-0da6-4fd8-89d5-f19638c87f76",
   "metadata": {},
   "outputs": [
    {
     "data": {
      "text/plain": [
       "3"
      ]
     },
     "execution_count": 613,
     "metadata": {},
     "output_type": "execute_result"
    }
   ],
   "source": [
    "rect._Rectangle1__breadth"
   ]
  },
  {
   "cell_type": "code",
   "execution_count": 615,
   "id": "70a11e7d-b419-49dd-83fb-c97b64554dbc",
   "metadata": {},
   "outputs": [],
   "source": [
    "#object_name(dot)(underscore)classname(double underscores)variable name\n",
    "#Object._Class__Variable"
   ]
  },
  {
   "cell_type": "code",
   "execution_count": 629,
   "id": "7a5b8f68-077f-4caf-bc98-fd71560429a0",
   "metadata": {},
   "outputs": [],
   "source": [
    "class test:\n",
    "\n",
    "    def __init__(self):\n",
    "        self.a=6\n",
    "        self._b=5\n",
    "        self.__c=8\n",
    "\n",
    "        print(\"public:\",self.a,\"protected:\",self._b,\"private:\",self.__c)"
   ]
  },
  {
   "cell_type": "code",
   "execution_count": 631,
   "id": "7a1dac92-665c-4223-8a07-eeadc04fd538",
   "metadata": {},
   "outputs": [
    {
     "name": "stdout",
     "output_type": "stream",
     "text": [
      "public: 6 protected: 5 private: 8\n"
     ]
    }
   ],
   "source": [
    "t1=test()"
   ]
  },
  {
   "cell_type": "code",
   "execution_count": 633,
   "id": "1dfb5e45-9549-47fc-9cbe-a7280b0e8774",
   "metadata": {},
   "outputs": [
    {
     "data": {
      "text/plain": [
       "6"
      ]
     },
     "execution_count": 633,
     "metadata": {},
     "output_type": "execute_result"
    }
   ],
   "source": [
    "t1.a"
   ]
  },
  {
   "cell_type": "code",
   "execution_count": 643,
   "id": "f21db7e2-ade7-4bf7-9f3d-0b697ee4f1da",
   "metadata": {},
   "outputs": [
    {
     "ename": "AttributeError",
     "evalue": "'test' object has no attribute 'b'",
     "output_type": "error",
     "traceback": [
      "\u001b[1;31m---------------------------------------------------------------------------\u001b[0m",
      "\u001b[1;31mAttributeError\u001b[0m                            Traceback (most recent call last)",
      "Cell \u001b[1;32mIn[643], line 1\u001b[0m\n\u001b[1;32m----> 1\u001b[0m t1\u001b[38;5;241m.\u001b[39mb\n",
      "\u001b[1;31mAttributeError\u001b[0m: 'test' object has no attribute 'b'"
     ]
    }
   ],
   "source": [
    "t1.b"
   ]
  },
  {
   "cell_type": "code",
   "execution_count": 645,
   "id": "a1b749ce-0bd7-4d1d-a96d-bbfe51c2a024",
   "metadata": {},
   "outputs": [
    {
     "ename": "AttributeError",
     "evalue": "'test' object has no attribute 'c'",
     "output_type": "error",
     "traceback": [
      "\u001b[1;31m---------------------------------------------------------------------------\u001b[0m",
      "\u001b[1;31mAttributeError\u001b[0m                            Traceback (most recent call last)",
      "Cell \u001b[1;32mIn[645], line 1\u001b[0m\n\u001b[1;32m----> 1\u001b[0m t1\u001b[38;5;241m.\u001b[39mc\n",
      "\u001b[1;31mAttributeError\u001b[0m: 'test' object has no attribute 'c'"
     ]
    }
   ],
   "source": [
    "t1.c"
   ]
  },
  {
   "cell_type": "code",
   "execution_count": 675,
   "id": "029b62f8-2a32-4039-bb82-015589c844f2",
   "metadata": {},
   "outputs": [],
   "source": [
    "class test2:\n",
    "\n",
    "    def __init__(self):\n",
    "        self.a=6\n",
    "        self._b=5\n",
    "        self.__c=8\n",
    "\n",
    "        print(\"public:\",self.a,\"protected:\",self._b,\"private:\",self.__c)\n",
    "\n",
    "\n",
    "    def show2(self):\n",
    "        print(\"protected\",self._b,\"private\",self.__c)"
   ]
  },
  {
   "cell_type": "code",
   "execution_count": 677,
   "id": "d955bf9f-81d2-4fe6-a03f-4ff66931555b",
   "metadata": {},
   "outputs": [
    {
     "name": "stdout",
     "output_type": "stream",
     "text": [
      "public: 6 protected: 5 private: 8\n"
     ]
    }
   ],
   "source": [
    "t2=test2()"
   ]
  },
  {
   "cell_type": "code",
   "execution_count": 679,
   "id": "c1d25dcb-3177-4b46-af51-9e961da4320d",
   "metadata": {},
   "outputs": [
    {
     "name": "stdout",
     "output_type": "stream",
     "text": [
      "protected 5 private 8\n"
     ]
    }
   ],
   "source": [
    "t2.show2()"
   ]
  },
  {
   "cell_type": "code",
   "execution_count": 681,
   "id": "0b9ee1ac-8619-46bc-9ea5-fc2908c1d4ad",
   "metadata": {},
   "outputs": [
    {
     "data": {
      "text/plain": [
       "8"
      ]
     },
     "execution_count": 681,
     "metadata": {},
     "output_type": "execute_result"
    }
   ],
   "source": [
    "t1._test__c   #for private"
   ]
  },
  {
   "cell_type": "code",
   "execution_count": 695,
   "id": "0359aac9-ce52-4e7d-ad0b-2bd9670e92d4",
   "metadata": {},
   "outputs": [
    {
     "data": {
      "text/plain": [
       "5"
      ]
     },
     "execution_count": 695,
     "metadata": {},
     "output_type": "execute_result"
    }
   ],
   "source": [
    "t2._b         #for protected"
   ]
  },
  {
   "cell_type": "code",
   "execution_count": 745,
   "id": "9d66ce57-83f7-449f-b228-56e349d37910",
   "metadata": {},
   "outputs": [],
   "source": [
    "class Tyres:\n",
    "    def __init__(self,branch,belted_bias,opt_press):\n",
    "        self.branch=branch\n",
    "        self.belted_bias=belted_bias\n",
    "        self.opt_press=opt_press\n",
    "\n",
    "    def __str__(self):\n",
    "        return (\"Tyres: \\n \\t Branch: \" + self.branch + \n",
    "                \"\\n \\t Belted-Bias: \" + str(self.belted_bias) +\n",
    "                \"\\n \\t Optimal-pressure: \" + str(self.opt_press))\n",
    "\n",
    "class Engine:\n",
    "    def __init__(self,fuel_type,noise_level):\n",
    "        self.fuel_type=fuel_type\n",
    "        self.noise_level=noise_level\n",
    "\n",
    "    def __str__(self):\n",
    "        return (\"Engine: \\n \\t Fuel-Type: \" + self.fuel_type + \n",
    "                \"\\n \\t Noise-Level: \" + str(self.noise_level))\n",
    "\n",
    "class Body:\n",
    "    def __init__(self,size):\n",
    "        self.size=size\n",
    "\n",
    "    def __str__(self):\n",
    "        return (\"Body: \\n \\t Size: \" + self.size)\n",
    "\n",
    "class Car:\n",
    "    def __init__(self,tyres,engine,body):\n",
    "        self.tyres=tyres\n",
    "        self.engine=engine\n",
    "        self.body=body\n",
    "\n",
    "    def __str__(self):\n",
    "        return (str(self.tyres) + \"\\n\" + str(self.engine) + \"\\n\" + str(self.body))"
   ]
  },
  {
   "cell_type": "code",
   "execution_count": 747,
   "id": "61074e86-cb13-46b3-8705-a69543629d58",
   "metadata": {},
   "outputs": [],
   "source": [
    "t=Tyres(\"Banglore\",True,2.0)\n",
    "e=Engine(\"Diesel\",3)\n",
    "b=Body('Medium')"
   ]
  },
  {
   "cell_type": "code",
   "execution_count": 749,
   "id": "e09d6909-8e8a-4632-886c-1a7b058f6d26",
   "metadata": {},
   "outputs": [],
   "source": [
    "c=Car(t,e,b)"
   ]
  },
  {
   "cell_type": "code",
   "execution_count": 751,
   "id": "fa098781-2ec8-46a6-828a-9d5e2a022b1e",
   "metadata": {},
   "outputs": [
    {
     "name": "stdout",
     "output_type": "stream",
     "text": [
      "Tyres: \n",
      " \t Branch: Banglore\n",
      " \t Belted-Bias: True\n",
      " \t Optimal-pressure: 2.0\n",
      "Engine: \n",
      " \t Fuel-Type: Diesel\n",
      " \t Noise-Level: 3\n",
      "Body: \n",
      " \t Size: Medium\n"
     ]
    }
   ],
   "source": [
    "print(c)"
   ]
  },
  {
   "cell_type": "code",
   "execution_count": 755,
   "id": "65b53a9d-ef7b-4f09-b94d-6c090b85f41a",
   "metadata": {},
   "outputs": [
    {
     "name": "stdout",
     "output_type": "stream",
     "text": [
      "Tyres: \n",
      " \t Branch: Banglore\n",
      " \t Belted-Bias: True\n",
      " \t Optimal-pressure: 2.0\n"
     ]
    }
   ],
   "source": [
    "print(t)"
   ]
  },
  {
   "cell_type": "code",
   "execution_count": 757,
   "id": "dfe71152-3fbd-4a82-aa52-6e9157b1cb02",
   "metadata": {},
   "outputs": [
    {
     "name": "stdout",
     "output_type": "stream",
     "text": [
      "Engine: \n",
      " \t Fuel-Type: Diesel\n",
      " \t Noise-Level: 3\n"
     ]
    }
   ],
   "source": [
    "print(e)"
   ]
  },
  {
   "cell_type": "code",
   "execution_count": 759,
   "id": "be43ab5f-9a69-4fff-93a8-4cfbcdaf0fc1",
   "metadata": {},
   "outputs": [
    {
     "name": "stdout",
     "output_type": "stream",
     "text": [
      "Body: \n",
      " \t Size: Medium\n"
     ]
    }
   ],
   "source": [
    "print(b)"
   ]
  },
  {
   "cell_type": "code",
   "execution_count": 761,
   "id": "14bf7e66-64a8-44df-a057-e9c7692d2326",
   "metadata": {},
   "outputs": [],
   "source": [
    "#-----END OF ENCAPSULATION---------"
   ]
  },
  {
   "cell_type": "code",
   "execution_count": null,
   "id": "f608a376-8efd-4f16-8d81-5a6e7364bc0a",
   "metadata": {},
   "outputs": [],
   "source": []
  }
 ],
 "metadata": {
  "kernelspec": {
   "display_name": "Python 3 (ipykernel)",
   "language": "python",
   "name": "python3"
  },
  "language_info": {
   "codemirror_mode": {
    "name": "ipython",
    "version": 3
   },
   "file_extension": ".py",
   "mimetype": "text/x-python",
   "name": "python",
   "nbconvert_exporter": "python",
   "pygments_lexer": "ipython3",
   "version": "3.12.4"
  }
 },
 "nbformat": 4,
 "nbformat_minor": 5
}
