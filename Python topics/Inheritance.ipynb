{
 "cells": [
  {
   "cell_type": "code",
   "execution_count": 1,
   "id": "b0e0a085-e8d5-4521-8ab0-a0b7015cb4b2",
   "metadata": {},
   "outputs": [],
   "source": [
    "# Certainly! Let's explore inheritance in Python and discuss the different types of inheritance. Inheritance is a fundamental concept in object-oriented programming (OOP) that allows one class to inherit properties and behaviors from another class. It promotes code reusability and helps create meaningful relationships between classes.\n",
    "\n",
    "# ## Basics of Inheritance\n",
    "\n",
    "# In Python, we have two key terms related to inheritance:\n",
    "\n",
    "# 1. **Parent Class (Superclass or Base Class):**\n",
    "#    - The class that is being inherited from is called the parent class.\n",
    "#    - It provides the common attributes and methods that can be shared by its child classes.\n",
    "\n",
    "# 2. **Child Class (Subclass or Derived Class):**\n",
    "#    - The class that inherits from the parent class is called the child class.\n",
    "#    - It can add its own attributes and methods or override those inherited from the parent class.\n",
    "\n",
    "# Now, let's dive into the different types of inheritance:\n",
    "\n",
    "# ### 1. Single Inheritance\n",
    "\n",
    "# In single inheritance, a child class inherits from only one parent class. It's the most basic type of inheritance.\n",
    "\n",
    "# Example:\n",
    "# ```python\n",
    "# class Person:\n",
    "#     def __init__(self, name):\n",
    "#         self.name = name\n",
    "\n",
    "# class Student(Person):\n",
    "#     def study(self):\n",
    "#         print(f\"{self.name} is studying.\")\n",
    "\n",
    "# # Creating an instance of Student\n",
    "# student = Student(\"Alice\")\n",
    "# student.study()  # Output: Alice is studying.\n",
    "# ```\n",
    "\n",
    "# In this example, `Student` inherits from `Person`.\n",
    "\n",
    "# ### 2. Multiple Inheritance\n",
    "\n",
    "# Multiple inheritance occurs when a child class inherits from two or more parent classes. Unlike some other languages (such as Java), Python supports multiple inheritance.\n",
    "\n",
    "# Example:\n",
    "# ```python\n",
    "# class A:\n",
    "#     def method_A(self):\n",
    "#         print(\"Method from class A\")\n",
    "\n",
    "# class B:\n",
    "#     def method_B(self):\n",
    "#         print(\"Method from class B\")\n",
    "\n",
    "# class C(A, B):\n",
    "#     def method_C(self):\n",
    "#         print(\"Method from class C\")\n",
    "\n",
    "# # Creating an instance of C\n",
    "# obj = C()\n",
    "# obj.method_A()  # Output: Method from class A\n",
    "# obj.method_B()  # Output: Method from class B\n",
    "# obj.method_C()  # Output: Method from class C\n",
    "# ```\n",
    "\n",
    "# In this example, `C` inherits from both `A` and `B`.\n",
    "\n",
    "# ### 3. Multilevel Inheritance\n",
    "\n",
    "# Multilevel inheritance involves a chain of inheritance where a child class inherits from a parent class, which itself inherits from another parent class.\n",
    "\n",
    "# Example:\n",
    "# ```python\n",
    "# class Grandparent:\n",
    "#     def greet(self):\n",
    "#         print(\"Hello from Grandparent\")\n",
    "\n",
    "# class Parent(Grandparent):\n",
    "#     def talk(self):\n",
    "#         print(\"Parent is talking\")\n",
    "\n",
    "# class Child(Parent):\n",
    "#     def play(self):\n",
    "#         print(\"Child is playing\")\n",
    "\n",
    "# # Creating an instance of Child\n",
    "# child = Child()\n",
    "# child.greet()  # Output: Hello from Grandparent\n",
    "# child.talk()   # Output: Parent is talking\n",
    "# child.play()   # Output: Child is playing\n",
    "# ```\n",
    "\n",
    "# Here, `Child` inherits from `Parent`, which in turn inherits from `Grandparent`.\n",
    "\n",
    "# ### 4. Hierarchical Inheritance\n",
    "\n",
    "# In hierarchical inheritance, multiple child classes inherit from a single parent class.\n",
    "\n",
    "# Example:\n",
    "# ```python\n",
    "# class Animal:\n",
    "#     def speak(self):\n",
    "#         print(\"Animal speaks\")\n",
    "\n",
    "# class Dog(Animal):\n",
    "#     def bark(self):\n",
    "#         print(\"Dog barks\")\n",
    "\n",
    "# class Cat(Animal):\n",
    "#     def meow(self):\n",
    "#         print(\"Cat meows\")\n",
    "\n",
    "# # Creating instances of Dog and Cat\n",
    "# dog = Dog()\n",
    "# cat = Cat()\n",
    "\n",
    "# dog.speak()  # Output: Animal speaks\n",
    "# cat.speak()  # Output: Animal speaks\n",
    "# dog.bark()   # Output: Dog barks\n",
    "# cat.meow()   # Output: Cat meows\n",
    "# ```\n",
    "\n",
    "# Both `Dog` and `Cat` inherit from `Animal`.\n",
    "\n",
    "# ### 5. Hybrid Inheritance\n",
    "\n",
    "# Hybrid inheritance is a combination of any of the above types. It's less common but can occur in complex class hierarchies.\n",
    "\n",
    "# Remember that choosing the right type of inheritance depends on your specific problem domain and design considerations. Each type has its own use cases and trade-offs.\n",
    "\n",
    "# Feel free to experiment with these concepts and create your own class hierarchies! If you have any more questions or need further clarification, feel free to ask. 😊🐍\n",
    "# [Learn more](https://pythongeeks.org/inheritance-in-python/) ¹²³⁴⁵\n",
    "\n",
    "# Source: Conversation with Copilot, 16/7/2024\n",
    "# (1) Inheritance in Python with Types and Examples. https://pythongeeks.org/inheritance-in-python/.\n",
    "# (2) Python Inheritance (With Examples) - Programiz. https://www.programiz.com/python-programming/inheritance.\n",
    "# (3) Inheritance in Python (Guide) – PYnative. https://pynative.com/python-inheritance/.\n",
    "# (4) Python Inheritance - W3Schools. https://www.w3schools.com/python/python_inheritance.asp.\n",
    "# (5) Types of inheritance Python - GeeksforGeeks. https://www.geeksforgeeks.org/types-of-inheritance-python/."
   ]
  },
  {
   "cell_type": "code",
   "execution_count": 3,
   "id": "5bcd0fe7-15b3-44aa-a315-b0c4716b30e3",
   "metadata": {},
   "outputs": [],
   "source": [
    "#single Inheritance"
   ]
  },
  {
   "cell_type": "code",
   "execution_count": 7,
   "id": "75d16bec-d67a-4919-9b07-37c950906ee2",
   "metadata": {},
   "outputs": [],
   "source": [
    "class Parent:\n",
    "    def func1(self):\n",
    "        print(\"Hello from parent class\")\n",
    "        \n",
    "class child(Parent):\n",
    "    def func2(self):\n",
    "        print(\"Hello child\")"
   ]
  },
  {
   "cell_type": "code",
   "execution_count": 9,
   "id": "8688be09-59e2-49f9-b2ca-1382f5565bed",
   "metadata": {},
   "outputs": [],
   "source": [
    "test = child()"
   ]
  },
  {
   "cell_type": "code",
   "execution_count": 11,
   "id": "5ff0202d-26a4-453b-85f5-4d30ade244e2",
   "metadata": {},
   "outputs": [
    {
     "name": "stdout",
     "output_type": "stream",
     "text": [
      "Hello child\n"
     ]
    }
   ],
   "source": [
    "test.func2()"
   ]
  },
  {
   "cell_type": "code",
   "execution_count": 13,
   "id": "cd93a4ee-c74e-42fa-9802-2020ac0694bb",
   "metadata": {},
   "outputs": [
    {
     "name": "stdout",
     "output_type": "stream",
     "text": [
      "Hello from parent class\n"
     ]
    }
   ],
   "source": [
    "test.func1()"
   ]
  },
  {
   "cell_type": "code",
   "execution_count": 15,
   "id": "6b3955ff-1c04-47a0-b304-1c5bbdce3077",
   "metadata": {},
   "outputs": [
    {
     "data": {
      "text/plain": [
       "<bound method Parent.func1 of <__main__.child object at 0x000002A34F7875C0>>"
      ]
     },
     "execution_count": 15,
     "metadata": {},
     "output_type": "execute_result"
    }
   ],
   "source": [
    "test.func1"
   ]
  },
  {
   "cell_type": "code",
   "execution_count": 17,
   "id": "23594bf2-d373-4a8d-9a14-6a3c93c705fc",
   "metadata": {},
   "outputs": [],
   "source": [
    "class Ineuron:\n",
    "    company_website=\"https://ineuron.ai\"\n",
    "    name = \"iNeuron\"\n",
    "\n",
    "    def contact_details(self):\n",
    "        print(\"Contact us at\",self.company_website)\n",
    "\n",
    "class Datascience(Ineuron):\n",
    "\n",
    "    def __init__(self):\n",
    "        self.year_of_establishment = 2018\n",
    "\n",
    "    def est_details(self):\n",
    "        print(\"est details\",self.name,self.year_of_establishment)"
   ]
  },
  {
   "cell_type": "code",
   "execution_count": 19,
   "id": "74746a81-35b2-4bf6-9fd8-0ac5f06239dd",
   "metadata": {},
   "outputs": [],
   "source": [
    "ds=Datascience()"
   ]
  },
  {
   "cell_type": "code",
   "execution_count": 23,
   "id": "c1496ae3-9b24-41c8-b3d8-3e66ccb7db64",
   "metadata": {},
   "outputs": [
    {
     "data": {
      "text/plain": [
       "'https://ineuron.ai'"
      ]
     },
     "execution_count": 23,
     "metadata": {},
     "output_type": "execute_result"
    }
   ],
   "source": [
    "ds.company_website"
   ]
  },
  {
   "cell_type": "code",
   "execution_count": 25,
   "id": "a91e4f23-9b53-478a-9d97-ec31e91f5891",
   "metadata": {},
   "outputs": [
    {
     "data": {
      "text/plain": [
       "<bound method Ineuron.contact_details of <__main__.Datascience object at 0x000002A3500B7380>>"
      ]
     },
     "execution_count": 25,
     "metadata": {},
     "output_type": "execute_result"
    }
   ],
   "source": [
    "ds.contact_details"
   ]
  },
  {
   "cell_type": "code",
   "execution_count": 27,
   "id": "cd023833-c8d9-49b7-bee9-5e6b70951e24",
   "metadata": {},
   "outputs": [
    {
     "name": "stdout",
     "output_type": "stream",
     "text": [
      "Contact us at https://ineuron.ai\n"
     ]
    }
   ],
   "source": [
    "ds.contact_details()"
   ]
  },
  {
   "cell_type": "code",
   "execution_count": 29,
   "id": "93fbd201-e86f-416a-a23f-ad7be712824e",
   "metadata": {},
   "outputs": [
    {
     "name": "stdout",
     "output_type": "stream",
     "text": [
      "est details iNeuron 2018\n"
     ]
    }
   ],
   "source": [
    "ds.est_details()"
   ]
  },
  {
   "cell_type": "code",
   "execution_count": 31,
   "id": "da72b8ae-f40f-4dbb-85a3-2dacafd32b05",
   "metadata": {},
   "outputs": [
    {
     "data": {
      "text/plain": [
       "'iNeuron'"
      ]
     },
     "execution_count": 31,
     "metadata": {},
     "output_type": "execute_result"
    }
   ],
   "source": [
    "ds.name"
   ]
  },
  {
   "cell_type": "code",
   "execution_count": 33,
   "id": "2b1ae3b8-9521-4a5e-ab53-a21652232811",
   "metadata": {},
   "outputs": [
    {
     "data": {
      "text/plain": [
       "2018"
      ]
     },
     "execution_count": 33,
     "metadata": {},
     "output_type": "execute_result"
    }
   ],
   "source": [
    "ds.year_of_establishment"
   ]
  },
  {
   "cell_type": "code",
   "execution_count": 35,
   "id": "d86c701f-4200-456b-9452-6e8562d9c366",
   "metadata": {},
   "outputs": [],
   "source": [
    "#multiple inheritance "
   ]
  },
  {
   "cell_type": "code",
   "execution_count": 51,
   "id": "57eb78a0-a8c5-4771-ae2e-494eb5a444ed",
   "metadata": {},
   "outputs": [],
   "source": [
    "class Parent11:\n",
    "    def func11(self):\n",
    "        print(\"Hello from parent11\")\n",
    "\n",
    "class Parent22:\n",
    "    def func22(self):\n",
    "        print(\"Hello from parent22\")\n",
    "\n",
    "class child12(Parent11,Parent22):\n",
    "    def func33(self):\n",
    "        print(\"Hello child12\")"
   ]
  },
  {
   "cell_type": "code",
   "execution_count": 53,
   "id": "94f7ac51-1724-4bf2-8ff2-d5c9c04b1332",
   "metadata": {},
   "outputs": [],
   "source": [
    "tested=child12()"
   ]
  },
  {
   "cell_type": "code",
   "execution_count": 55,
   "id": "ef077631-94cd-4573-b869-c609e9e649fe",
   "metadata": {},
   "outputs": [
    {
     "name": "stdout",
     "output_type": "stream",
     "text": [
      "Hello from parent11\n"
     ]
    }
   ],
   "source": [
    "tested.func11()"
   ]
  },
  {
   "cell_type": "code",
   "execution_count": 57,
   "id": "d7692939-119c-4b06-976e-9e57bf9affb1",
   "metadata": {},
   "outputs": [
    {
     "name": "stdout",
     "output_type": "stream",
     "text": [
      "Hello from parent22\n"
     ]
    }
   ],
   "source": [
    "tested.func22()"
   ]
  },
  {
   "cell_type": "code",
   "execution_count": 61,
   "id": "6b58f986-da0d-4f38-bf29-cea8dbbd6d7d",
   "metadata": {},
   "outputs": [
    {
     "name": "stdout",
     "output_type": "stream",
     "text": [
      "Hello child12\n"
     ]
    }
   ],
   "source": [
    "tested.func33()"
   ]
  },
  {
   "cell_type": "code",
   "execution_count": 79,
   "id": "30aed604-f4c2-48d6-bdb9-b011f958dcca",
   "metadata": {},
   "outputs": [],
   "source": [
    "class Batch_number:\n",
    "    batchNumber=\"\"\n",
    "    def __init__(self,a,b,c):\n",
    "        self.a=a\n",
    "        self.a=b\n",
    "        self.a=c\n",
    "        print(a,b,c)"
   ]
  },
  {
   "cell_type": "code",
   "execution_count": 81,
   "id": "3607bad7-3baf-4146-a5be-bf7f01b0fbf1",
   "metadata": {},
   "outputs": [
    {
     "name": "stdout",
     "output_type": "stream",
     "text": [
      "1 2 3\n"
     ]
    }
   ],
   "source": [
    "t4=Batch_number(1,2,3)"
   ]
  },
  {
   "cell_type": "code",
   "execution_count": 83,
   "id": "2f483371-e9cf-49ae-8fde-ca334b2db2b2",
   "metadata": {},
   "outputs": [
    {
     "data": {
      "text/plain": [
       "3"
      ]
     },
     "execution_count": 83,
     "metadata": {},
     "output_type": "execute_result"
    }
   ],
   "source": [
    "t4.a"
   ]
  },
  {
   "cell_type": "code",
   "execution_count": 87,
   "id": "f0a86956-793a-4ab1-97ec-98cdf31bdd31",
   "metadata": {},
   "outputs": [],
   "source": [
    "class Batch_number:\n",
    "    batchnumber=\"\"\n",
    "    def __init__(self,a,b,c):\n",
    "        self.a=a\n",
    "        self.b=b\n",
    "        self.c=c\n",
    "    def batch(self):\n",
    "        print(self.batchnumber)\n",
    "\n",
    "#parent class 2\n",
    "\n",
    "class course_name:\n",
    "    cname=\"\"\n",
    "    def course(self):\n",
    "        print(self.cname)\n",
    "\n",
    "#child class\n",
    "\n",
    "class Student(Batch_number,course_name):\n",
    "    def show(self):\n",
    "        print(\"Batch\",self.batchnumber)\n",
    "        print(\"Course\",self.cname)"
   ]
  },
  {
   "cell_type": "code",
   "execution_count": 89,
   "id": "42ef0f28-047a-4249-8168-5d69de054667",
   "metadata": {},
   "outputs": [],
   "source": [
    "s1=Student(4,5,6)"
   ]
  },
  {
   "cell_type": "code",
   "execution_count": 93,
   "id": "718c360f-c9a6-4db8-9648-2cff9127439f",
   "metadata": {},
   "outputs": [
    {
     "data": {
      "text/plain": [
       "''"
      ]
     },
     "execution_count": 93,
     "metadata": {},
     "output_type": "execute_result"
    }
   ],
   "source": [
    "s1.batchnumber"
   ]
  },
  {
   "cell_type": "code",
   "execution_count": 95,
   "id": "91937065-7b4f-4ee0-81e6-fbabaf4713ae",
   "metadata": {},
   "outputs": [],
   "source": [
    "s1.batchnumber=\"2\""
   ]
  },
  {
   "cell_type": "code",
   "execution_count": 97,
   "id": "1bd1d125-4495-46a3-b2c8-21844f8e02c3",
   "metadata": {},
   "outputs": [],
   "source": [
    "s1.cname=\"fsds\""
   ]
  },
  {
   "cell_type": "code",
   "execution_count": 99,
   "id": "4fe81023-1dd1-4b84-8360-d07b6ac3f3a7",
   "metadata": {},
   "outputs": [
    {
     "name": "stdout",
     "output_type": "stream",
     "text": [
      "fsds\n"
     ]
    }
   ],
   "source": [
    "s1.course()"
   ]
  },
  {
   "cell_type": "code",
   "execution_count": 101,
   "id": "fca96e6f-cea2-486d-82da-fdbc4d2baac6",
   "metadata": {},
   "outputs": [
    {
     "name": "stdout",
     "output_type": "stream",
     "text": [
      "Batch 2\n",
      "Course fsds\n"
     ]
    }
   ],
   "source": [
    "s1.show()"
   ]
  },
  {
   "cell_type": "code",
   "execution_count": 15,
   "id": "9ab84fce-a591-4097-aaf2-84ba2a566cd2",
   "metadata": {},
   "outputs": [
    {
     "name": "stdout",
     "output_type": "stream",
     "text": [
      "Name:  John\n",
      "Age:  30\n",
      "Joining Date:  2022-01-15\n",
      "Stream:  Engineering\n",
      "Experience:  5\n"
     ]
    }
   ],
   "source": [
    "class Person:\n",
    "    def __init__(self,name,age):\n",
    "        self.name=name\n",
    "        self.age=age\n",
    "\n",
    "    def __str__(self):\n",
    "                return f'these are the Persons details {self.age} {self.name}'\n",
    "    \n",
    "class Company:\n",
    "    def __init__(self,joining_date,stream,experience):\n",
    "        self.joining_date=joining_date\n",
    "        self.stream=stream\n",
    "        self.experience=experience\n",
    "\n",
    "class Employee(Person,Company):\n",
    "    def __init__(self, name, age, joining_date, stream, experience):\n",
    "        super().__init__(name, age)  # Initialize inherited attributes\n",
    "        Company.__init__(self, joining_date, stream, experience)  # Initialize Company attributes\n",
    "    \n",
    "    def show(self):\n",
    "        print(\"Name: \", self.name)\n",
    "        print(\"Age: \",self.age)\n",
    "        print(\"Joining Date: \",self.joining_date)\n",
    "        print(\"Stream: \",self.stream)\n",
    "        print(\"Experience: \",self.experience)\n",
    "\n",
    "emp = Employee(\"John\", 30, \"2022-01-15\",\"Engineering\", 5)\n",
    "emp.show()"
   ]
  },
  {
   "cell_type": "code",
   "execution_count": 57,
   "id": "92874901-8c2a-4781-8d8d-7892e027c86e",
   "metadata": {},
   "outputs": [],
   "source": [
    "#multi-level inheritance\n",
    "\n",
    "#PARENT CLASS -> CHILD CLASS 1 -> CHILD CLASS 2"
   ]
  },
  {
   "cell_type": "code",
   "execution_count": 59,
   "id": "45349a23-edbd-411e-b0a1-6454b83d2320",
   "metadata": {},
   "outputs": [],
   "source": [
    "class test1:\n",
    "    def a(self):\n",
    "        print(\"Inside test1..........\")\n",
    "\n",
    "class test2(test1):\n",
    "    def b(self):\n",
    "        print(\"Inside test2\")\n",
    "\n",
    "class test3(test2):\n",
    "    def c(self):\n",
    "        print(\"Inside test3..........\")"
   ]
  },
  {
   "cell_type": "code",
   "execution_count": 61,
   "id": "70879473-1ba4-42f5-be81-57904a981bfb",
   "metadata": {},
   "outputs": [],
   "source": [
    "t1=test3()"
   ]
  },
  {
   "cell_type": "code",
   "execution_count": 63,
   "id": "44f91433-b4b7-40ee-971b-fa7922598e3c",
   "metadata": {},
   "outputs": [
    {
     "name": "stdout",
     "output_type": "stream",
     "text": [
      "Inside test1..........\n"
     ]
    }
   ],
   "source": [
    "t1.a()"
   ]
  },
  {
   "cell_type": "code",
   "execution_count": 65,
   "id": "d4a26ab2-b0f7-43b2-994c-6c71f9158316",
   "metadata": {},
   "outputs": [
    {
     "name": "stdout",
     "output_type": "stream",
     "text": [
      "Inside test2\n"
     ]
    }
   ],
   "source": [
    "t1.b()"
   ]
  },
  {
   "cell_type": "code",
   "execution_count": 67,
   "id": "48f614bd-391e-47e3-8ac3-a261e397631e",
   "metadata": {},
   "outputs": [
    {
     "name": "stdout",
     "output_type": "stream",
     "text": [
      "Inside test3..........\n"
     ]
    }
   ],
   "source": [
    "t1.c()"
   ]
  },
  {
   "cell_type": "code",
   "execution_count": 71,
   "id": "f71bbcbc-6875-47dd-9282-4424eb6260fb",
   "metadata": {},
   "outputs": [],
   "source": [
    "class Vehicle:\n",
    "    def info(self):\n",
    "        print(\"Inside Vehicle class\")\n",
    "\n",
    "class Car(Vehicle):\n",
    "    def car_info(self):\n",
    "        print(\"Inside car class\")\n",
    "\n",
    "class Sportcar(Car):\n",
    "    def sportscar(self):\n",
    "        print(\"inside sports car\")"
   ]
  },
  {
   "cell_type": "code",
   "execution_count": 77,
   "id": "a4defd79-b2b3-4f23-bf38-cfc17fedfccc",
   "metadata": {},
   "outputs": [],
   "source": [
    "s1=Sportcar()"
   ]
  },
  {
   "cell_type": "code",
   "execution_count": 79,
   "id": "aef03b78-f1fa-4d6f-a5bf-72310816d851",
   "metadata": {},
   "outputs": [
    {
     "name": "stdout",
     "output_type": "stream",
     "text": [
      "Inside car class\n"
     ]
    }
   ],
   "source": [
    "s1.car_info()"
   ]
  },
  {
   "cell_type": "code",
   "execution_count": 3,
   "id": "8264dfee-c285-493c-bac1-7153bbd46c86",
   "metadata": {},
   "outputs": [],
   "source": [
    "# Certainly! The `super()` method in Python is a powerful tool for working with inheritance. Let's dive into what it does and how you can use it:\n",
    "\n",
    "# 1. **What is `super()`?**\n",
    "#    - The `super()` function returns a temporary object (a proxy) that allows you to call methods from the superclass (parent class) of a given object.\n",
    "#    - It's commonly used in the context of inheritance to access and call methods defined in the superclass from within a subclass.\n",
    "#    - By using `super()`, you can extend and customize the functionality inherited from the parent class.\n",
    "\n",
    "# 2. **Why Use `super()`?**\n",
    "#    - **Method Overriding and Inheritance:**\n",
    "#      - When you override a method in a subclass, you can still call the parent class's version of that method using `super()`.\n",
    "#      - This allows you to customize behavior while maintaining access to the original implementation.\n",
    "#    - **Multiple Inheritance:**\n",
    "#      - In multiple inheritance scenarios (where a class inherits from more than one parent class), `super()` helps manage method resolution order (MRO).\n",
    "#      - It ensures that methods are called in a consistent and predictable order.\n",
    "\n",
    "# 3. **Syntax:**\n",
    "#    - The basic syntax for using `super()` is:\n",
    "#      ```python\n",
    "#      super().method_name(arguments)\n",
    "#      ```\n",
    "\n",
    "# 4. **Example:**\n",
    "#    Let's say we have a parent class `Person` and a child class `Employee`. We want to call the parent class's `__init__` method from within the child class:\n",
    "#    ```python\n",
    "#    class Person:\n",
    "#        def __init__(self, name):\n",
    "#            self.name = name\n",
    "\n",
    "#    class Employee(Person):\n",
    "#        def __init__(self, name, emp_id):\n",
    "#            super().__init__(name)  # Call the parent class's __init__\n",
    "#            self.emp_id = emp_id\n",
    "\n",
    "#    emp = Employee(\"John\", 123)\n",
    "#    print(emp.name)  # Output: John\n",
    "#    print(emp.emp_id)  # Output: 123\n",
    "#    ```\n",
    "\n",
    "# 5. **Benefits of `super()`:**\n",
    "#    - You don't need to remember or specify the parent class name explicitly.\n",
    "#    - It works well with both single and multiple inheritance.\n",
    "#    - It promotes modularity and code reusability.\n",
    "\n",
    "# Remember that `super()` is dynamic—it dynamically resolves the method calls based on the class hierarchy. If you have any more questions or need further examples, feel free to ask! 😊🐍\n",
    "\n",
    "# Sources:\n",
    "# - [GeeksforGeeks: Python `super()`](https://www.geeksforgeeks.org/python-super/)\n",
    "# - [AskPython: Understanding the `super()` Method in Python](https://www.askpython.com/python/built-in-methods/super-method-in-python)\n",
    "# - [Real Python: Supercharge Your Classes With Python `super()`](https://realpython.com/python-super/)\n",
    "# [Learn more](https://www.geeksforgeeks.org/python-super/)\n",
    "# [Learn more](https://diveintopython.org/functions/built-in/super)\n",
    "# [Learn more](https://www.askpython.com/python/built-in-methods/super-method-in-python)\n",
    "# [Learn more](https://realpython.com/python-super/)\n",
    "\n",
    "# Source: Conversation with Copilot, 22/7/2024\n",
    "# (1) Python super() - GeeksforGeeks. https://www.geeksforgeeks.org/python-super/.\n",
    "# (2) super() in Python - Built-In Functions with Examples. https://diveintopython.org/functions/built-in/super.\n",
    "# (3) Understanding the super() Method in Python - AskPython. https://www.askpython.com/python/built-in-methods/super-method-in-python.\n",
    "# (4) Supercharge Your Classes With Python super() – Real Python. https://realpython.com/python-super/."
   ]
  },
  {
   "cell_type": "code",
   "execution_count": 150,
   "id": "cbcfda5a-d96c-4fa4-99fe-9daad91cb526",
   "metadata": {},
   "outputs": [],
   "source": [
    "class Phones:\n",
    "    def __init__(self,brand,model,price):\n",
    "        self.brand=brand\n",
    "        self.model=model\n",
    "        self.price=price\n",
    "\n",
    "    def specs(self):\n",
    "        return (\"brand \",self.brand,\"price \",self.price)\n",
    "\n",
    "    def typeofphone(self):\n",
    "        if self.price > 25000:\n",
    "            return 'this is a high budget phone'\n",
    "        else:\n",
    "            return 'this is a mid range phone'\n",
    "\n",
    "class Smartphone(Phones):\n",
    "    def __init__(self,brand,model,price,ram,storage):\n",
    "        super().__init__(brand,model,price)  #super method\n",
    "        self.ram=ram\n",
    "        self.storage=storage\n",
    "\n",
    "\n",
    "class FlashiPhone(Smartphone):\n",
    "    def __init__(self,brand,model,price,ram,storage,frontcamera,backcamera,display):\n",
    "        super().__init__(brand,model,price,ram,storage)\n",
    "        self.frontcamera=frontcamera\n",
    "        self.backcamera=backcamera\n",
    "        self.display=display\n"
   ]
  },
  {
   "cell_type": "code",
   "execution_count": 152,
   "id": "f9402153-56ed-4776-a505-19319305846d",
   "metadata": {},
   "outputs": [],
   "source": [
    "p1=FlashiPhone(\"iphone\",\"2024\",156000,60,512,'yes',\"yes\",\"yes\")"
   ]
  },
  {
   "cell_type": "code",
   "execution_count": 154,
   "id": "247e8ba3-35f4-4533-be2f-3e8026d85ff8",
   "metadata": {},
   "outputs": [
    {
     "data": {
      "text/plain": [
       "('brand ', 'iphone', 'price ', 156000)"
      ]
     },
     "execution_count": 154,
     "metadata": {},
     "output_type": "execute_result"
    }
   ],
   "source": [
    "p1.specs()"
   ]
  },
  {
   "cell_type": "code",
   "execution_count": 156,
   "id": "4a41c87e-baaa-46e8-9ebc-4736694a1643",
   "metadata": {},
   "outputs": [
    {
     "data": {
      "text/plain": [
       "'this is a high budget phone'"
      ]
     },
     "execution_count": 156,
     "metadata": {},
     "output_type": "execute_result"
    }
   ],
   "source": [
    "p1.typeofphone()"
   ]
  },
  {
   "cell_type": "code",
   "execution_count": 158,
   "id": "48f502b2-3a3e-4de4-977f-e24ef5e0fded",
   "metadata": {},
   "outputs": [
    {
     "data": {
      "text/plain": [
       "512"
      ]
     },
     "execution_count": 158,
     "metadata": {},
     "output_type": "execute_result"
    }
   ],
   "source": [
    "p1.storage"
   ]
  },
  {
   "cell_type": "code",
   "execution_count": 160,
   "id": "caa0dfeb-aa0d-4a70-ae12-b0c2218e4cfe",
   "metadata": {},
   "outputs": [
    {
     "data": {
      "text/plain": [
       "'yes'"
      ]
     },
     "execution_count": 160,
     "metadata": {},
     "output_type": "execute_result"
    }
   ],
   "source": [
    "p1.frontcamera"
   ]
  },
  {
   "cell_type": "code",
   "execution_count": 162,
   "id": "54373b79-1f3c-4db6-b5ee-0fea5e927be1",
   "metadata": {},
   "outputs": [
    {
     "data": {
      "text/plain": [
       "'yes'"
      ]
     },
     "execution_count": 162,
     "metadata": {},
     "output_type": "execute_result"
    }
   ],
   "source": [
    "p1.backcamera"
   ]
  },
  {
   "cell_type": "code",
   "execution_count": 164,
   "id": "f4e65866-616e-4944-8f56-1a7e6e6b34ed",
   "metadata": {},
   "outputs": [],
   "source": [
    "#Hierarchical inheritance "
   ]
  },
  {
   "cell_type": "code",
   "execution_count": 166,
   "id": "222fbda4-fc39-4afa-b1d7-f1b1bb2bd113",
   "metadata": {},
   "outputs": [],
   "source": [
    "class Vehicle:\n",
    "    def info(self):\n",
    "        print(\"This is Vehiche\")\n",
    "\n",
    "class Car(Vehicle):\n",
    "    def car_info(self,name):\n",
    "        print(\"car name\",name)\n",
    "\n",
    "class Truck(Vehicle):\n",
    "    def truck_info(self,name):\n",
    "        print(\"truck name\",name)"
   ]
  },
  {
   "cell_type": "code",
   "execution_count": 168,
   "id": "13b52c4c-9b2a-4d3d-b4e8-66383ef7493f",
   "metadata": {},
   "outputs": [],
   "source": [
    "s1=Car()"
   ]
  },
  {
   "cell_type": "code",
   "execution_count": 170,
   "id": "5eca542b-e447-4b6f-af7c-b2634db3bac8",
   "metadata": {},
   "outputs": [
    {
     "name": "stdout",
     "output_type": "stream",
     "text": [
      "This is Vehiche\n"
     ]
    }
   ],
   "source": [
    "s1.info()"
   ]
  },
  {
   "cell_type": "code",
   "execution_count": 172,
   "id": "d0d1640f-b36b-4df2-bfdd-6164455b25a8",
   "metadata": {},
   "outputs": [
    {
     "name": "stdout",
     "output_type": "stream",
     "text": [
      "car name Benz\n"
     ]
    }
   ],
   "source": [
    "s1.car_info(\"Benz\")"
   ]
  },
  {
   "cell_type": "code",
   "execution_count": 174,
   "id": "41d41427-66c5-45ba-a129-4103ca0343b7",
   "metadata": {},
   "outputs": [],
   "source": [
    "t1=Truck()"
   ]
  },
  {
   "cell_type": "code",
   "execution_count": 176,
   "id": "37475d08-19f0-4db1-a1cf-1cff6c85259e",
   "metadata": {},
   "outputs": [
    {
     "name": "stdout",
     "output_type": "stream",
     "text": [
      "truck name test\n"
     ]
    }
   ],
   "source": [
    "t1.truck_info('test')"
   ]
  },
  {
   "cell_type": "code",
   "execution_count": 178,
   "id": "7fb9e9f7-30f9-4668-b967-a8066124d554",
   "metadata": {},
   "outputs": [],
   "source": [
    "#Hybrid Inheritance"
   ]
  },
  {
   "cell_type": "code",
   "execution_count": 180,
   "id": "78e80440-1d3e-439f-818b-5ddeae1164de",
   "metadata": {},
   "outputs": [],
   "source": [
    "class Vehicle:\n",
    "    def info(self):\n",
    "        print(\"This is Vehiche\")\n",
    "\n",
    "class Car(Vehicle):\n",
    "    def car_info(self,name):\n",
    "        print(\"car name\",name)\n",
    "\n",
    "class Truck(Vehicle):\n",
    "    def truck_info(self,name):\n",
    "        print(\"truck name\",name)\n",
    "\n",
    "class Sports(Car,Vehicle):\n",
    "    def sportscar(self):\n",
    "        print('inside from sports car')"
   ]
  },
  {
   "cell_type": "code",
   "execution_count": 182,
   "id": "96f075ae-5638-4381-80f2-5b2bd9e2a7d0",
   "metadata": {},
   "outputs": [],
   "source": [
    "d1=Sports()"
   ]
  },
  {
   "cell_type": "code",
   "execution_count": 184,
   "id": "3fa1fb40-156e-4597-9257-23c3b498219d",
   "metadata": {},
   "outputs": [
    {
     "name": "stdout",
     "output_type": "stream",
     "text": [
      "car name lol\n"
     ]
    }
   ],
   "source": [
    "d1.car_info('lol')"
   ]
  },
  {
   "cell_type": "code",
   "execution_count": 186,
   "id": "e3d4fe7d-81cd-4484-81ed-af857bb62a1a",
   "metadata": {},
   "outputs": [
    {
     "name": "stdout",
     "output_type": "stream",
     "text": [
      "This is Vehiche\n"
     ]
    }
   ],
   "source": [
    "d1.info()"
   ]
  },
  {
   "cell_type": "code",
   "execution_count": 188,
   "id": "c13a7869-d704-4469-8879-f089900b789b",
   "metadata": {},
   "outputs": [
    {
     "name": "stdout",
     "output_type": "stream",
     "text": [
      "inside from sports car\n"
     ]
    }
   ],
   "source": [
    "d1.sportscar()"
   ]
  },
  {
   "cell_type": "code",
   "execution_count": 190,
   "id": "7a5d8568-c6a9-488e-b169-8db6030a1221",
   "metadata": {},
   "outputs": [],
   "source": [
    "#super\n",
    "#1. super() is used when we need to build classes(child class) that extend the functionality of previously build classes\n",
    "#2. super function in python is used to access method of immediate parent class"
   ]
  },
  {
   "cell_type": "code",
   "execution_count": 192,
   "id": "a598bfca-2341-44df-9bb4-415cc84b892d",
   "metadata": {},
   "outputs": [],
   "source": [
    "class Company():\n",
    "    def company_name(self):\n",
    "        return 'ineuron'\n",
    "\n",
    "class Employee(Company):\n",
    "    def info(self):\n",
    "        c_name=super().company_name()\n",
    "        print(\"i work at\",c_name)"
   ]
  },
  {
   "cell_type": "code",
   "execution_count": 194,
   "id": "ebeba338-9599-4527-9652-74fe7bf12517",
   "metadata": {},
   "outputs": [],
   "source": [
    "emp=Employee()"
   ]
  },
  {
   "cell_type": "code",
   "execution_count": 196,
   "id": "f881ec27-b7fe-4fc6-a99e-3e2b179e2563",
   "metadata": {},
   "outputs": [
    {
     "data": {
      "text/plain": [
       "'ineuron'"
      ]
     },
     "execution_count": 196,
     "metadata": {},
     "output_type": "execute_result"
    }
   ],
   "source": [
    "emp.company_name()"
   ]
  },
  {
   "cell_type": "code",
   "execution_count": 198,
   "id": "f11f14e0-9418-4f29-a395-58e325029589",
   "metadata": {},
   "outputs": [
    {
     "name": "stdout",
     "output_type": "stream",
     "text": [
      "i work at ineuron\n"
     ]
    }
   ],
   "source": [
    "emp.info()"
   ]
  },
  {
   "cell_type": "code",
   "execution_count": 200,
   "id": "3df2fd75-e9a9-44f1-b633-deaa02f62ac9",
   "metadata": {},
   "outputs": [],
   "source": [
    "#when you initialize a child class in python you can call super().__init__() method this initialize the parent class object into child class object"
   ]
  },
  {
   "cell_type": "code",
   "execution_count": 202,
   "id": "bb74368e-5110-43e5-a86b-37d03e5cc61f",
   "metadata": {},
   "outputs": [],
   "source": [
    "class Parent:\n",
    "    def __init__(self,v1,v2):\n",
    "        self.v1=v1\n",
    "        self.v2=v2\n",
    "\n",
    "class child(Parent):\n",
    "    def __init__(self,v1,v2,v3):\n",
    "        super().__init__(v1,v2)\n",
    "        self.v3=v3\n"
   ]
  },
  {
   "cell_type": "code",
   "execution_count": 204,
   "id": "77756afe-00d9-4730-99b5-7227821371a6",
   "metadata": {},
   "outputs": [],
   "source": [
    "c1=child(2,3,4)"
   ]
  },
  {
   "cell_type": "code",
   "execution_count": 206,
   "id": "e38e351c-bba8-4b16-a398-5ef8d16554b2",
   "metadata": {},
   "outputs": [
    {
     "data": {
      "text/plain": [
       "2"
      ]
     },
     "execution_count": 206,
     "metadata": {},
     "output_type": "execute_result"
    }
   ],
   "source": [
    "c1.v1"
   ]
  },
  {
   "cell_type": "code",
   "execution_count": 208,
   "id": "52833f0c-5625-4d65-8505-4aee89462f69",
   "metadata": {},
   "outputs": [
    {
     "data": {
      "text/plain": [
       "3"
      ]
     },
     "execution_count": 208,
     "metadata": {},
     "output_type": "execute_result"
    }
   ],
   "source": [
    "c1.v2"
   ]
  },
  {
   "cell_type": "code",
   "execution_count": 210,
   "id": "14c34a8d-2b18-4514-902e-4e8edf3da501",
   "metadata": {},
   "outputs": [
    {
     "data": {
      "text/plain": [
       "4"
      ]
     },
     "execution_count": 210,
     "metadata": {},
     "output_type": "execute_result"
    }
   ],
   "source": [
    "c1.v3"
   ]
  },
  {
   "cell_type": "code",
   "execution_count": 212,
   "id": "61664bf8-a2ab-40ff-a231-6393d1041cbd",
   "metadata": {},
   "outputs": [],
   "source": [
    "#syntax of super - \n",
    "# class className(parentclass):\n",
    "#     def method(self,argument):\n",
    "#         super([classname],[self]).method(argument)  #method - method is from parent"
   ]
  },
  {
   "cell_type": "code",
   "execution_count": 232,
   "id": "e841860a-d10a-4c26-b3e3-ccf7fb78ac9c",
   "metadata": {},
   "outputs": [],
   "source": [
    "class Parent:\n",
    "    def __init__(self):\n",
    "        print(\"this is the parent class\")\n",
    "\n",
    "class Parent1:\n",
    "    def __init__(self):\n",
    "        print(\"this is the parent 1 class\")\n",
    "\n",
    "class Parent2:\n",
    "    def __init__(self):\n",
    "        print(\"this is the parent 2 class\")\n",
    "\n",
    "class Child(Parent,Parent1,Parent2):    #preciding class here is parent\n",
    "    def __init__(self):\n",
    "        super().__init__()"
   ]
  },
  {
   "cell_type": "code",
   "execution_count": 234,
   "id": "80969651-3e3e-4ee8-bee3-55e59ef3cb2f",
   "metadata": {},
   "outputs": [
    {
     "name": "stdout",
     "output_type": "stream",
     "text": [
      "this is the parent class\n"
     ]
    }
   ],
   "source": [
    "t1=Child()"
   ]
  },
  {
   "cell_type": "code",
   "execution_count": 236,
   "id": "2aa24207-fd99-4818-ab81-d76e5e67e412",
   "metadata": {},
   "outputs": [],
   "source": [
    "class Parent:\n",
    "    def __init__(self):\n",
    "        print(\"this is the parent class\")\n",
    "\n",
    "class Parent1:\n",
    "    def __init__(self):\n",
    "        print(\"this is the parent 1 class\")\n",
    "\n",
    "class Parent2:\n",
    "    def __init__(self):\n",
    "        print(\"this is the parent 2 class\")\n",
    "\n",
    "class Child(Parent1,Parent,Parent2):              #preciding class here is parent 1\n",
    "    def __init__(self):\n",
    "        super().__init__()"
   ]
  },
  {
   "cell_type": "code",
   "execution_count": 238,
   "id": "c144cafa-43b1-4a9d-ae72-85c4d48dec24",
   "metadata": {},
   "outputs": [
    {
     "name": "stdout",
     "output_type": "stream",
     "text": [
      "this is the parent 1 class\n"
     ]
    }
   ],
   "source": [
    "t2=Child()"
   ]
  },
  {
   "cell_type": "code",
   "execution_count": 240,
   "id": "8bee6901-5fcd-471b-9887-88e518342687",
   "metadata": {},
   "outputs": [],
   "source": [
    "class Parent:\n",
    "    def __init__(self):\n",
    "        print(\"this is the parent class\")\n",
    "\n",
    "class Parent1:\n",
    "    def __init__(self):\n",
    "        print(\"this is the parent 1 class\")\n",
    "\n",
    "class Parent2:\n",
    "    def __init__(self):\n",
    "        print(\"this is the parent 2 class\")\n",
    "\n",
    "class Child(Parent2,Parent1,Parent):      #preciding class here is parent 2\n",
    "    def __init__(self):\n",
    "        super().__init__()"
   ]
  },
  {
   "cell_type": "code",
   "execution_count": 242,
   "id": "76f30dde-84b3-4c51-ab50-20f16497a574",
   "metadata": {},
   "outputs": [
    {
     "name": "stdout",
     "output_type": "stream",
     "text": [
      "this is the parent 2 class\n"
     ]
    }
   ],
   "source": [
    "t3=Child()"
   ]
  }
 ],
 "metadata": {
  "kernelspec": {
   "display_name": "Python 3 (ipykernel)",
   "language": "python",
   "name": "python3"
  },
  "language_info": {
   "codemirror_mode": {
    "name": "ipython",
    "version": 3
   },
   "file_extension": ".py",
   "mimetype": "text/x-python",
   "name": "python",
   "nbconvert_exporter": "python",
   "pygments_lexer": "ipython3",
   "version": "3.12.4"
  }
 },
 "nbformat": 4,
 "nbformat_minor": 5
}
