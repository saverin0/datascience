{
 "cells": [
  {
   "cell_type": "code",
   "execution_count": 4,
   "id": "cfae4d21-9a62-4a7e-bfc0-e614bd943fee",
   "metadata": {},
   "outputs": [],
   "source": [
    "# OPPS- OBJECT ORIENTED PROGRAMMING"
   ]
  },
  {
   "cell_type": "code",
   "execution_count": 6,
   "id": "8d17888b-5d14-41fd-85b9-a3e010c9cdb6",
   "metadata": {},
   "outputs": [],
   "source": [
    "# **Object-Oriented Programming (OOP)** is a programming paradigm that revolves around the concept of **objects**. Let's dive into what OOP entails:\n",
    "\n",
    "# 1. **Objects and Classes**:\n",
    "#     - In OOP, we think of software as a collection of **objects**, each representing a real-world entity or concept such as car, laptop.\n",
    "#     - An **object** combines **data** (often called **attributes** or **properties**) and **code** (referred to as **methods**).\n",
    "#     - These objects are created based on **classes**, which act as blueprints for creating instances (objects).\n",
    "#     - A **class** defines the structure and behavior of objects.\n",
    "\n",
    "# 2. **Key Concepts**:\n",
    "#     - **Encapsulation**: Data and logic are encapsulated into objects. This helps break down large programs into smaller, reusable parts.\n",
    "#     - **Inheritance**: Classes can inherit properties and methods from other classes. It allows for code reuse and hierarchy.\n",
    "#     - **Polymorphism**: Objects of different classes can be treated uniformly through a common interface. It enables flexibility and extensibility.\n",
    "#     - **Abstraction**: Hides complex implementation details and exposes only relevant features to the user.\n",
    "\n",
    "# 3. **Benefits of OOP**:\n",
    "#     - **Modularity**: OOP promotes modular design, making it easier to maintain and extend software.\n",
    "#     - **Reusability**: Objects can be reused across different parts of the program.\n",
    "#     - **Readability**: OOP code tends to be more intuitive and self-explanatory.\n",
    "#     - **Scalability**: OOP supports building complex systems by composing smaller, manageable components.\n",
    "\n",
    "# 4. **Examples**:\n",
    "#     - Imagine a **Car** class with attributes like **color**, **make**, and methods like **start_engine()** and **drive()**.\n",
    "#     - You can create individual **Car** objects (instances) based on this class, each representing a specific car.\n",
    "\n",
    "# In summary, OOP simplifies software development by modeling real-world entities as objects, allowing for better organization, reusability, and maintainability¹². If you have any specific questions or need further examples, feel free to ask! 😊\n",
    "\n",
    "# Source: Conversation with Copilot, 8/7/2024\n",
    "# (1) Object-oriented programming - Wikipedia. https://en.wikipedia.org/wiki/Object-oriented_programming.\n",
    "# (2) What is object-oriented programming? OOP explained in depth - Educative. https://www.educative.io/blog/object-oriented-programming.\n",
    "# (3) What is Object-Oriented Programming? OOP Explained. https://blog.udemy.com/what-is-object-oriented-programming/.\n",
    "# (4) Object Oriented Programming: A Breakdown for Beginners. https://www.udacity.com/blog/2022/05/object-oriented-programming-a-breakdown-for-beginners.html."
   ]
  },
  {
   "cell_type": "code",
   "execution_count": 12,
   "id": "508df404-161e-45b9-83e4-e40434a484bb",
   "metadata": {},
   "outputs": [],
   "source": [
    "# Object has properties and functions\n",
    "\n",
    "# object - car \n",
    "# properties - color, price, model,manufacturer (also called as attributes/instance variable)\n",
    "# function/functionality of objects - drive (also called as methods)\n",
    "# class - is blueprint to create an objects\n",
    "# object is instance of a class"
   ]
  },
  {
   "cell_type": "code",
   "execution_count": 14,
   "id": "b277d8fd-7828-46f0-aa71-013bdbb29428",
   "metadata": {},
   "outputs": [],
   "source": [
    "class Emp:\n",
    "    pass"
   ]
  },
  {
   "cell_type": "code",
   "execution_count": 16,
   "id": "b053fe79-ae71-43fb-b8b8-024a0cf12d1e",
   "metadata": {},
   "outputs": [],
   "source": [
    "e = Emp()  #Emp() - object of class Emp"
   ]
  },
  {
   "cell_type": "code",
   "execution_count": 18,
   "id": "5408ad9b-543c-4f4c-aee2-8bef20a898f9",
   "metadata": {},
   "outputs": [
    {
     "data": {
      "text/plain": [
       "__main__.Emp"
      ]
     },
     "execution_count": 18,
     "metadata": {},
     "output_type": "execute_result"
    }
   ],
   "source": [
    "type(e)"
   ]
  },
  {
   "cell_type": "code",
   "execution_count": 20,
   "id": "26681954-9005-448e-ad01-484695086076",
   "metadata": {},
   "outputs": [
    {
     "name": "stdout",
     "output_type": "stream",
     "text": [
      "<class '__main__.Emp'>\n"
     ]
    }
   ],
   "source": [
    "print(type(e))"
   ]
  },
  {
   "cell_type": "code",
   "execution_count": 24,
   "id": "007b1160-a0a1-48fc-a533-40fae89434f1",
   "metadata": {},
   "outputs": [
    {
     "data": {
      "text/plain": [
       "2741373051696"
      ]
     },
     "execution_count": 24,
     "metadata": {},
     "output_type": "execute_result"
    }
   ],
   "source": [
    "id(e)"
   ]
  },
  {
   "cell_type": "code",
   "execution_count": 26,
   "id": "b68cad29-38dc-46e3-ab17-66041c75de95",
   "metadata": {},
   "outputs": [],
   "source": [
    "class Robot:\n",
    "    def introduce_yourself(self):\n",
    "        print(\"my name is\",self.name)"
   ]
  },
  {
   "cell_type": "code",
   "execution_count": 28,
   "id": "a7b5bb83-0ebc-4274-ba60-3949efb2538d",
   "metadata": {},
   "outputs": [],
   "source": [
    "r1=Robot()"
   ]
  },
  {
   "cell_type": "code",
   "execution_count": 30,
   "id": "fee7e844-ce1a-465d-8ec6-6fb5873cc045",
   "metadata": {},
   "outputs": [],
   "source": [
    "r1.name=\"sav\""
   ]
  },
  {
   "cell_type": "code",
   "execution_count": 32,
   "id": "131dec0c-0d22-4709-8b87-e3d2310efc17",
   "metadata": {},
   "outputs": [
    {
     "data": {
      "text/plain": [
       "<bound method Robot.introduce_yourself of <__main__.Robot object at 0x0000027E46792DE0>>"
      ]
     },
     "execution_count": 32,
     "metadata": {},
     "output_type": "execute_result"
    }
   ],
   "source": [
    "r1.introduce_yourself"
   ]
  },
  {
   "cell_type": "code",
   "execution_count": 34,
   "id": "5b46a77c-a3e4-477e-a1b8-2cd0c014331d",
   "metadata": {},
   "outputs": [
    {
     "name": "stdout",
     "output_type": "stream",
     "text": [
      "my name is sav\n"
     ]
    }
   ],
   "source": [
    "r1.introduce_yourself()"
   ]
  },
  {
   "cell_type": "code",
   "execution_count": 36,
   "id": "17865863-6308-4d16-8e73-c2dbd9ecff9d",
   "metadata": {},
   "outputs": [
    {
     "data": {
      "text/plain": [
       "'sav'"
      ]
     },
     "execution_count": 36,
     "metadata": {},
     "output_type": "execute_result"
    }
   ],
   "source": [
    "r1.name"
   ]
  },
  {
   "cell_type": "code",
   "execution_count": 41,
   "id": "d3307844-fa52-4a2c-9077-1e5cb1570425",
   "metadata": {},
   "outputs": [],
   "source": [
    "r2=Robot()"
   ]
  },
  {
   "cell_type": "code",
   "execution_count": 47,
   "id": "10b7461b-470c-469c-9f04-669370ffbfed",
   "metadata": {},
   "outputs": [],
   "source": [
    "r2.name=\"Abhishek\""
   ]
  },
  {
   "cell_type": "code",
   "execution_count": 49,
   "id": "c1b9223f-88d0-4ae4-bbac-4f55f4df1dd8",
   "metadata": {},
   "outputs": [
    {
     "name": "stdout",
     "output_type": "stream",
     "text": [
      "my name is Abhishek\n"
     ]
    }
   ],
   "source": [
    "r2.introduce_yourself()"
   ]
  },
  {
   "cell_type": "code",
   "execution_count": 53,
   "id": "ee054fac-b218-41b6-8ae9-be643b49af12",
   "metadata": {},
   "outputs": [
    {
     "data": {
      "text/plain": [
       "['__class__',\n",
       " '__delattr__',\n",
       " '__dict__',\n",
       " '__dir__',\n",
       " '__doc__',\n",
       " '__eq__',\n",
       " '__format__',\n",
       " '__ge__',\n",
       " '__getattribute__',\n",
       " '__getstate__',\n",
       " '__gt__',\n",
       " '__hash__',\n",
       " '__init__',\n",
       " '__init_subclass__',\n",
       " '__le__',\n",
       " '__lt__',\n",
       " '__module__',\n",
       " '__ne__',\n",
       " '__new__',\n",
       " '__reduce__',\n",
       " '__reduce_ex__',\n",
       " '__repr__',\n",
       " '__setattr__',\n",
       " '__sizeof__',\n",
       " '__str__',\n",
       " '__subclasshook__',\n",
       " '__weakref__',\n",
       " 'introduce_yourself',\n",
       " 'name']"
      ]
     },
     "execution_count": 53,
     "metadata": {},
     "output_type": "execute_result"
    }
   ],
   "source": [
    "dir(r1)"
   ]
  },
  {
   "cell_type": "code",
   "execution_count": 65,
   "id": "8700ccc7-28db-45d2-aafa-22363750bca0",
   "metadata": {},
   "outputs": [],
   "source": [
    "class Robot:\n",
    "    def __init__(self,name,color,weight):\n",
    "        self.name=name\n",
    "        self.color=color\n",
    "        self.weight=weight\n",
    "\n",
    "    def introduce_yourself(self):\n",
    "        print(\"My name is \" + self.name)"
   ]
  },
  {
   "cell_type": "code",
   "execution_count": 67,
   "id": "12756984-81c6-48cf-938b-12730e6e543d",
   "metadata": {},
   "outputs": [],
   "source": [
    "r1=Robot(\"rohit\",\"red\",30)"
   ]
  },
  {
   "cell_type": "code",
   "execution_count": 69,
   "id": "9c488b6b-ccd3-4933-ad21-75da0e1df291",
   "metadata": {},
   "outputs": [],
   "source": [
    "r2=Robot(\"mayhank\",\"purple\",89)"
   ]
  },
  {
   "cell_type": "code",
   "execution_count": 71,
   "id": "e4f7dcdf-c934-4388-8654-6523e26f5199",
   "metadata": {},
   "outputs": [
    {
     "name": "stdout",
     "output_type": "stream",
     "text": [
      "My name is rohit\n"
     ]
    }
   ],
   "source": [
    "r1.introduce_yourself()"
   ]
  },
  {
   "cell_type": "code",
   "execution_count": 73,
   "id": "a3a6bdb5-4f5e-4ad8-bd3e-d6a7c232fd34",
   "metadata": {},
   "outputs": [
    {
     "data": {
      "text/plain": [
       "<bound method Robot.introduce_yourself of <__main__.Robot object at 0x0000027E4891BC50>>"
      ]
     },
     "execution_count": 73,
     "metadata": {},
     "output_type": "execute_result"
    }
   ],
   "source": [
    "r2.introduce_yourself"
   ]
  },
  {
   "cell_type": "code",
   "execution_count": 75,
   "id": "d6dc004f-479d-42dc-9ab4-9a75aec9fc93",
   "metadata": {},
   "outputs": [
    {
     "name": "stdout",
     "output_type": "stream",
     "text": [
      "My name is mayhank\n"
     ]
    }
   ],
   "source": [
    "r2.introduce_yourself()"
   ]
  },
  {
   "cell_type": "code",
   "execution_count": null,
   "id": "7ec593cb-b9f8-4f76-ae4b-560eab043181",
   "metadata": {},
   "outputs": [],
   "source": []
  }
 ],
 "metadata": {
  "kernelspec": {
   "display_name": "Python 3 (ipykernel)",
   "language": "python",
   "name": "python3"
  },
  "language_info": {
   "codemirror_mode": {
    "name": "ipython",
    "version": 3
   },
   "file_extension": ".py",
   "mimetype": "text/x-python",
   "name": "python",
   "nbconvert_exporter": "python",
   "pygments_lexer": "ipython3",
   "version": "3.12.4"
  }
 },
 "nbformat": 4,
 "nbformat_minor": 5
}
